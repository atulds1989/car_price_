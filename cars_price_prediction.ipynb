{
 "cells": [
  {
   "cell_type": "markdown",
   "id": "da97f8c0",
   "metadata": {},
   "source": [
    "A dataset which is having the details of car e.g. car make, type, model, features, engine specifications etc and we have to predict the price.\n",
    "\n",
    "Firstly i have cleaned the dataset as it has very discrepancies with the help of pandas ."
   ]
  },
  {
   "cell_type": "code",
   "execution_count": null,
   "id": "e1c6dd28",
   "metadata": {},
   "outputs": [],
   "source": []
  },
  {
   "cell_type": "code",
   "execution_count": 886,
   "id": "1db6af2e",
   "metadata": {},
   "outputs": [],
   "source": [
    "#importing libraries\n",
    "\n",
    "import numpy as np\n",
    "import pandas as pd\n",
    "import matplotlib.pyplot as plt\n",
    "import seaborn as sns\n",
    "from sklearn.linear_model import LinearRegression\n",
    "from sklearn.ensemble import RandomForestRegressor\n",
    "from sklearn.preprocessing import OneHotEncoder, StandardScaler, LabelEncoder\n",
    "from sklearn.impute import SimpleImputer\n",
    "from sklearn.model_selection import train_test_split\n",
    "from sklearn.compose import ColumnTransformer\n",
    "from sklearn.decomposition import PCA\n",
    "from sklearn.pipeline import Pipeline\n",
    "from sklearn import set_config\n",
    "set_config(display=\"diagram\")\n",
    "from sklearn.metrics import r2_score\n",
    "import warnings\n",
    "warnings.filterwarnings('ignore')"
   ]
  },
  {
   "cell_type": "code",
   "execution_count": null,
   "id": "574b8363",
   "metadata": {},
   "outputs": [],
   "source": []
  },
  {
   "cell_type": "code",
   "execution_count": 888,
   "id": "2540342b",
   "metadata": {},
   "outputs": [
    {
     "data": {
      "text/html": [
       "<div>\n",
       "<style scoped>\n",
       "    .dataframe tbody tr th:only-of-type {\n",
       "        vertical-align: middle;\n",
       "    }\n",
       "\n",
       "    .dataframe tbody tr th {\n",
       "        vertical-align: top;\n",
       "    }\n",
       "\n",
       "    .dataframe thead th {\n",
       "        text-align: right;\n",
       "    }\n",
       "</style>\n",
       "<table border=\"1\" class=\"dataframe\">\n",
       "  <thead>\n",
       "    <tr style=\"text-align: right;\">\n",
       "      <th></th>\n",
       "      <th>Car Make</th>\n",
       "      <th>Car Model</th>\n",
       "      <th>Year</th>\n",
       "      <th>Body Type</th>\n",
       "      <th>Color Options</th>\n",
       "      <th>Fuel Type</th>\n",
       "      <th>Engine Size (L)</th>\n",
       "      <th>Horsepower</th>\n",
       "      <th>Torque (Nm)</th>\n",
       "      <th>Transmission Type</th>\n",
       "      <th>Acceleration (0-60 mph)</th>\n",
       "      <th>Top Speed (mph)</th>\n",
       "      <th>Mileage (MPG)</th>\n",
       "      <th>Safety Features</th>\n",
       "      <th>Entertainment Features</th>\n",
       "      <th>Interior Features</th>\n",
       "      <th>Exterior Features</th>\n",
       "      <th>Price ($)</th>\n",
       "      <th>Customer Ratings</th>\n",
       "      <th>Sales Figures (Units Sold)</th>\n",
       "    </tr>\n",
       "  </thead>\n",
       "  <tbody>\n",
       "    <tr>\n",
       "      <th>0</th>\n",
       "      <td>Toyota</td>\n",
       "      <td>Camry</td>\n",
       "      <td>2022</td>\n",
       "      <td>Sedan</td>\n",
       "      <td>White, Silver, Black</td>\n",
       "      <td>Gasoline</td>\n",
       "      <td>2.5</td>\n",
       "      <td>203</td>\n",
       "      <td>245</td>\n",
       "      <td>Automatic</td>\n",
       "      <td>7.9 seconds</td>\n",
       "      <td>135</td>\n",
       "      <td>31</td>\n",
       "      <td>ABS, Airbags, Lane-Keeping Assist, Blind Spot...</td>\n",
       "      <td>8-inch Touchscreen Infotainment System</td>\n",
       "      <td>Leather Seats, Power Driver's Seat, Dual-Zone...</td>\n",
       "      <td>LED Headlights, Alloy Wheels, Sunroof        ...</td>\n",
       "      <td>28,500</td>\n",
       "      <td>4.5/5</td>\n",
       "      <td>1,500</td>\n",
       "    </tr>\n",
       "    <tr>\n",
       "      <th>1</th>\n",
       "      <td>Ford</td>\n",
       "      <td>F-150</td>\n",
       "      <td>2023</td>\n",
       "      <td>Truck</td>\n",
       "      <td>Blue, Red, Gray</td>\n",
       "      <td>Gasoline</td>\n",
       "      <td>3.5</td>\n",
       "      <td>375</td>\n",
       "      <td>475</td>\n",
       "      <td>Automatic</td>\n",
       "      <td>6.1 seconds</td>\n",
       "      <td>145</td>\n",
       "      <td>23</td>\n",
       "      <td>ABS, Airbags, Trailer Sway Control, Rear View...</td>\n",
       "      <td>12-inch SYNC 4 Infotainment System</td>\n",
       "      <td>Cloth Seats, Power Windows, Keyless Entry    ...</td>\n",
       "      <td>LED Taillights, Tow Hitch, Bed Liner         ...</td>\n",
       "      <td>45,900</td>\n",
       "      <td>4.8/5</td>\n",
       "      <td>2,200</td>\n",
       "    </tr>\n",
       "    <tr>\n",
       "      <th>2</th>\n",
       "      <td>Honda</td>\n",
       "      <td>Civic</td>\n",
       "      <td>2023</td>\n",
       "      <td>Sedan</td>\n",
       "      <td>Black, Blue, Silver</td>\n",
       "      <td>Gasoline</td>\n",
       "      <td>1.8</td>\n",
       "      <td>158</td>\n",
       "      <td>180</td>\n",
       "      <td>CVT</td>\n",
       "      <td>8.2 seconds</td>\n",
       "      <td>120</td>\n",
       "      <td>36</td>\n",
       "      <td>ABS, Airbags, Lane Departure Warning, Rear Cr...</td>\n",
       "      <td>7-inch Display Audio System</td>\n",
       "      <td>Cloth Seats, Bluetooth Connectivity, Push But...</td>\n",
       "      <td>LED Daytime Running Lights, Alloy Wheels     ...</td>\n",
       "      <td>22,950</td>\n",
       "      <td>4.6/5</td>\n",
       "      <td>2,800</td>\n",
       "    </tr>\n",
       "  </tbody>\n",
       "</table>\n",
       "</div>"
      ],
      "text/plain": [
       "    Car Make    Car Model      Year    Body Type   \\\n",
       "0   Toyota      Camry           2022   Sedan        \n",
       "1   Ford        F-150           2023   Truck        \n",
       "2   Honda       Civic           2023   Sedan        \n",
       "\n",
       "    Color Options                    Fuel Type   Engine Size (L)   \\\n",
       "0   White, Silver, Black             Gasoline                 2.5   \n",
       "1   Blue, Red, Gray                  Gasoline                 3.5   \n",
       "2   Black, Blue, Silver              Gasoline                 1.8   \n",
       "\n",
       "   Horsepower   Torque (Nm)    Transmission Type   Acceleration (0-60 mph)   \\\n",
       "0          203           245    Automatic            7.9 seconds              \n",
       "1          375           475    Automatic            6.1 seconds              \n",
       "2          158           180   CVT                   8.2 seconds              \n",
       "\n",
       "   Top Speed (mph)   Mileage (MPG)   \\\n",
       "0               135              31   \n",
       "1               145              23   \n",
       "2               120              36   \n",
       "\n",
       "   Safety Features                                        \\\n",
       "0   ABS, Airbags, Lane-Keeping Assist, Blind Spot...       \n",
       "1   ABS, Airbags, Trailer Sway Control, Rear View...       \n",
       "2   ABS, Airbags, Lane Departure Warning, Rear Cr...       \n",
       "\n",
       "      Entertainment Features                 \\\n",
       "0   8-inch Touchscreen Infotainment System    \n",
       "1     12-inch SYNC 4 Infotainment System      \n",
       "2        7-inch Display Audio System          \n",
       "\n",
       "   Interior Features                                  \\\n",
       "0   Leather Seats, Power Driver's Seat, Dual-Zone...   \n",
       "1   Cloth Seats, Power Windows, Keyless Entry    ...   \n",
       "2   Cloth Seats, Bluetooth Connectivity, Push But...   \n",
       "\n",
       "   Exterior Features                                             Price ($)   \\\n",
       "0   LED Headlights, Alloy Wheels, Sunroof        ...                 28,500   \n",
       "1   LED Taillights, Tow Hitch, Bed Liner         ...                 45,900   \n",
       "2   LED Daytime Running Lights, Alloy Wheels     ...                 22,950   \n",
       "\n",
       "    Customer Ratings   Sales Figures (Units Sold)   \n",
       "0   4.5/5                                    1,500  \n",
       "1   4.8/5                                    2,200  \n",
       "2   4.6/5                                    2,800  "
      ]
     },
     "execution_count": 888,
     "metadata": {},
     "output_type": "execute_result"
    }
   ],
   "source": [
    "#importing dataset\n",
    "df = pd.read_csv('2023 Car Dataset.csv')\n",
    "df.head(3)"
   ]
  },
  {
   "cell_type": "code",
   "execution_count": 889,
   "id": "8db21905",
   "metadata": {},
   "outputs": [
    {
     "name": "stdout",
     "output_type": "stream",
     "text": [
      "<class 'pandas.core.frame.DataFrame'>\n",
      "RangeIndex: 164 entries, 0 to 163\n",
      "Data columns (total 20 columns):\n",
      " #   Column                                                         Non-Null Count  Dtype \n",
      "---  ------                                                         --------------  ----- \n",
      " 0    Car Make                                                      164 non-null    object\n",
      " 1    Car Model                                                     164 non-null    object\n",
      " 2    Year                                                          164 non-null    int64 \n",
      " 3    Body Type                                                     164 non-null    object\n",
      " 4    Color Options                                                 164 non-null    object\n",
      " 5    Fuel Type                                                     164 non-null    object\n",
      " 6    Engine Size (L)                                               164 non-null    object\n",
      " 7    Horsepower                                                    164 non-null    object\n",
      " 8    Torque (Nm)                                                   164 non-null    object\n",
      " 9    Transmission Type                                             164 non-null    object\n",
      " 10   Acceleration (0-60 mph)                                       164 non-null    object\n",
      " 11   Top Speed (mph)                                               164 non-null    object\n",
      " 12   Mileage (MPG)                                                 164 non-null    object\n",
      " 13   Safety Features                                               164 non-null    object\n",
      " 14   Entertainment Features                                        163 non-null    object\n",
      " 15   Interior Features                                             163 non-null    object\n",
      " 16   Exterior Features                                             163 non-null    object\n",
      " 17   Price ($)                                                     164 non-null    object\n",
      " 18   Customer Ratings                                              162 non-null    object\n",
      " 19   Sales Figures (Units Sold)                                    162 non-null    object\n",
      "dtypes: int64(1), object(19)\n",
      "memory usage: 25.8+ KB\n"
     ]
    }
   ],
   "source": [
    "df.info()"
   ]
  },
  {
   "cell_type": "code",
   "execution_count": 890,
   "id": "7c562887",
   "metadata": {},
   "outputs": [
    {
     "data": {
      "text/plain": [
       "Index([' Car Make ', ' Car Model   ', ' Year ', ' Body Type ',\n",
       "       ' Color Options                 ', ' Fuel Type ', ' Engine Size (L) ',\n",
       "       ' Horsepower ', ' Torque (Nm) ', ' Transmission Type ',\n",
       "       ' Acceleration (0-60 mph) ', ' Top Speed (mph) ', ' Mileage (MPG) ',\n",
       "       ' Safety Features                                      ',\n",
       "       ' Entertainment Features               ',\n",
       "       ' Interior Features                                ',\n",
       "       ' Exterior Features                                           ',\n",
       "       ' Price ($) ', ' Customer Ratings ', ' Sales Figures (Units Sold) '],\n",
       "      dtype='object')"
      ]
     },
     "execution_count": 890,
     "metadata": {},
     "output_type": "execute_result"
    }
   ],
   "source": [
    "df.columns"
   ]
  },
  {
   "cell_type": "markdown",
   "id": "89743c61",
   "metadata": {},
   "source": [
    "# here we have spaces in our column names and we should have to remove them as they can make trouble for us in processing"
   ]
  },
  {
   "cell_type": "markdown",
   "id": "2940d50f",
   "metadata": {},
   "source": [
    "# steps to do this :\n",
    "1. make list of columns\n",
    "2. apply string's strip function o every elements of our list\n",
    "3. assign back the stripped columns names(list) to our dataframe"
   ]
  },
  {
   "cell_type": "code",
   "execution_count": 891,
   "id": "30a57f8f",
   "metadata": {},
   "outputs": [
    {
     "data": {
      "text/plain": [
       "[' Car Make ',\n",
       " ' Car Model   ',\n",
       " ' Year ',\n",
       " ' Body Type ',\n",
       " ' Color Options                 ',\n",
       " ' Fuel Type ',\n",
       " ' Engine Size (L) ',\n",
       " ' Horsepower ',\n",
       " ' Torque (Nm) ',\n",
       " ' Transmission Type ',\n",
       " ' Acceleration (0-60 mph) ',\n",
       " ' Top Speed (mph) ',\n",
       " ' Mileage (MPG) ',\n",
       " ' Safety Features                                      ',\n",
       " ' Entertainment Features               ',\n",
       " ' Interior Features                                ',\n",
       " ' Exterior Features                                           ',\n",
       " ' Price ($) ',\n",
       " ' Customer Ratings ',\n",
       " ' Sales Figures (Units Sold) ']"
      ]
     },
     "execution_count": 891,
     "metadata": {},
     "output_type": "execute_result"
    }
   ],
   "source": [
    "edit_cols = list(df.columns)\n",
    "edit_cols"
   ]
  },
  {
   "cell_type": "code",
   "execution_count": 892,
   "id": "cfe6b31e",
   "metadata": {},
   "outputs": [],
   "source": [
    "for i in range(len(edit_cols)):\n",
    "    edit_cols[i] = edit_cols[i].strip()"
   ]
  },
  {
   "cell_type": "code",
   "execution_count": 893,
   "id": "41958db2",
   "metadata": {},
   "outputs": [
    {
     "data": {
      "text/plain": [
       "['Car Make',\n",
       " 'Car Model',\n",
       " 'Year',\n",
       " 'Body Type',\n",
       " 'Color Options',\n",
       " 'Fuel Type',\n",
       " 'Engine Size (L)',\n",
       " 'Horsepower',\n",
       " 'Torque (Nm)',\n",
       " 'Transmission Type',\n",
       " 'Acceleration (0-60 mph)',\n",
       " 'Top Speed (mph)',\n",
       " 'Mileage (MPG)',\n",
       " 'Safety Features',\n",
       " 'Entertainment Features',\n",
       " 'Interior Features',\n",
       " 'Exterior Features',\n",
       " 'Price ($)',\n",
       " 'Customer Ratings',\n",
       " 'Sales Figures (Units Sold)']"
      ]
     },
     "execution_count": 893,
     "metadata": {},
     "output_type": "execute_result"
    }
   ],
   "source": [
    "edit_cols"
   ]
  },
  {
   "cell_type": "code",
   "execution_count": 894,
   "id": "d9c65bbb",
   "metadata": {},
   "outputs": [],
   "source": [
    "df.columns = edit_cols"
   ]
  },
  {
   "cell_type": "code",
   "execution_count": 895,
   "id": "12e294c7",
   "metadata": {},
   "outputs": [
    {
     "data": {
      "text/plain": [
       "Index(['Car Make', 'Car Model', 'Year', 'Body Type', 'Color Options',\n",
       "       'Fuel Type', 'Engine Size (L)', 'Horsepower', 'Torque (Nm)',\n",
       "       'Transmission Type', 'Acceleration (0-60 mph)', 'Top Speed (mph)',\n",
       "       'Mileage (MPG)', 'Safety Features', 'Entertainment Features',\n",
       "       'Interior Features', 'Exterior Features', 'Price ($)',\n",
       "       'Customer Ratings', 'Sales Figures (Units Sold)'],\n",
       "      dtype='object')"
      ]
     },
     "execution_count": 895,
     "metadata": {},
     "output_type": "execute_result"
    }
   ],
   "source": [
    "df.columns"
   ]
  },
  {
   "cell_type": "code",
   "execution_count": null,
   "id": "4c74812d",
   "metadata": {},
   "outputs": [],
   "source": []
  },
  {
   "cell_type": "markdown",
   "id": "62148abf",
   "metadata": {},
   "source": [
    "# check the anamolies in every columns if there"
   ]
  },
  {
   "cell_type": "code",
   "execution_count": null,
   "id": "42f25952",
   "metadata": {},
   "outputs": [],
   "source": []
  },
  {
   "cell_type": "code",
   "execution_count": 896,
   "id": "df12df00",
   "metadata": {},
   "outputs": [
    {
     "name": "stdout",
     "output_type": "stream",
     "text": [
      " Chevrolet      24\n",
      " Ford           22\n",
      " Toyota         19\n",
      " Honda          11\n",
      " Kia            11\n",
      " Hyundai        10\n",
      " Subaru          9\n",
      " GMC             8\n",
      " Nissan          7\n",
      " Genesis         6\n",
      " Lexus           5\n",
      " Mazda           5\n",
      " Audi            5\n",
      " Jeep            4\n",
      " BMW             4\n",
      " Mercedes        3\n",
      " Volvo           3\n",
      " Volkswagen      2\n",
      " Tesla           2\n",
      " Acura           2\n",
      " Volkswagen      1\n",
      " Infiniti        1\n",
      "Name: Car Make, dtype: int64\n",
      " Camry           7\n",
      " Camaro          7\n",
      " Bolt EUV        7\n",
      " Explorer        7\n",
      " Corvette        7\n",
      "                ..\n",
      " F-150           1\n",
      " Compass         1\n",
      " Atlas           1\n",
      " Sentra          1\n",
      " MDX             1\n",
      "Name: Car Model, Length: 80, dtype: int64\n",
      "2023    162\n",
      "2022      2\n",
      "Name: Year, dtype: int64\n",
      " SUV             82\n",
      " Sedan           27\n",
      " Hatchback       18\n",
      " Truck           12\n",
      " Coupe           11\n",
      " Convertible      7\n",
      " Minivan          3\n",
      " Wagon            2\n",
      " SUV              1\n",
      " SUV              1\n",
      "Name: Body Type, dtype: int64\n",
      " Black, Gray, White                15\n",
      " Red, Black, White                 14\n",
      " White, Gray, Black                12\n",
      " Blue, White, Gray                 10\n",
      " Red, Black, Gray                  10\n",
      " Blue, Black, Gray                  8\n",
      " Silver, Blue, Black                8\n",
      " Red, Black, White                  7\n",
      " Blue, White, Silver                7\n",
      " Gray, White, Black                 6\n",
      " Blue, White, Black                 5\n",
      " Black, White, Gray                 5\n",
      " White, Black, Gray                 4\n",
      " Black, White, Silver               3\n",
      " White, Silver, Black               3\n",
      " Gray, Blue, Black                  2\n",
      " Silver, Black, Blue                2\n",
      " Red, Black, Blue                   2\n",
      " White, Black, Silver               2\n",
      " Red, Black, Silver                 2\n",
      " Blue, Black, White                 2\n",
      " Red, Black, Yellow                 1\n",
      " Silver, Blue, White                1\n",
      " Green, Black, White                1\n",
      " Blue, Red, Silver                  1\n",
      " Gray, White, Silver                1\n",
      " Black, Silver, Red                 1\n",
      " Silver, Red, Black                 1\n",
      " Black, Silver, White               1\n",
      " Silver, Black, White               1\n",
      " Gray, Black, White                 1\n",
      " Blue, Black, Silver                1\n",
      " Red, White, Gray                   1\n",
      " Black, Blue, Silver                1\n",
      " Black, Silver, Blue                1\n",
      " Silver, Green, Black               1\n",
      " Red, White, Black                  1\n",
      " Black, Red, Silver                 1\n",
      " Green, White, Gray                 1\n",
      " Red, Silver, Black                 1\n",
      " Black, Blue, White                 1\n",
      " Gray, Green, Red                   1\n",
      " Silver, White, Gray                1\n",
      " Black, Red, Blue                   1\n",
      " Green, Black, Gray                 1\n",
      " Gray, Blue, Silver                 1\n",
      " Silver, Gray, Black                1\n",
      " Blue, Silver, Green                1\n",
      " Blue, Red, Gray                    1\n",
      " Gray, Red, Blue                    1\n",
      " Yellow, Black, Red                 1\n",
      " Red, Silver, White                 1\n",
      " Orange, Black, White               1\n",
      " Black, Gray, Blue                  1\n",
      " White, Gray, Blue                  1\n",
      " White, Red, Gray                   1\n",
      "Name: Color Options, dtype: int64\n",
      " Gasoline      149\n",
      " Electric        9\n",
      " Hybrid          6\n",
      "Name: Fuel Type, dtype: int64\n",
      "2                    37\n",
      "2.5                  35\n",
      "3.5                  13\n",
      "2.4                  11\n",
      "1.5                  10\n",
      " N/A                  9\n",
      "6.2                   9\n",
      "2.3                   9\n",
      "1.8                   8\n",
      "1.6                   7\n",
      "3                     5\n",
      "5.3                   2\n",
      "3.6                   2\n",
      "1.4                   2\n",
      "3.8                   2\n",
      "5                     1\n",
      "4                     1\n",
      "2.7                   1\n",
      "Name: Engine Size (L), dtype: int64\n",
      "300             13\n",
      "191             10\n",
      "228              9\n",
      "275              8\n",
      "147              7\n",
      "490              7\n",
      " 200 (est.)      7\n",
      "121              6\n",
      "181              6\n",
      "128              6\n",
      "206              6\n",
      " 96 (est.)       6\n",
      "187              5\n",
      "182              4\n",
      "250              4\n",
      "295              3\n",
      "248              3\n",
      "261              3\n",
      "310              3\n",
      "290              3\n",
      "158              3\n",
      "284              2\n",
      "260              2\n",
      "389              2\n",
      "203              2\n",
      "270              2\n",
      "355              2\n",
      "335              2\n",
      "285              2\n",
      "255              2\n",
      "291              1\n",
      "245              1\n",
      "272              1\n",
      "302              1\n",
      " 241 (est.)      1\n",
      " 283 (est.)      1\n",
      "450              1\n",
      "201              1\n",
      "138              1\n",
      "122              1\n",
      "420              1\n",
      "190              1\n",
      "375              1\n",
      "650              1\n",
      "280              1\n",
      "278              1\n",
      "400              1\n",
      "149              1\n",
      "235              1\n",
      "177              1\n",
      "429              1\n",
      "141              1\n",
      "170              1\n",
      "268              1\n",
      "Name: Horsepower, dtype: int64\n",
      "186              8\n",
      "420              7\n",
      " 360 (est.)      7\n",
      "132              6\n",
      "349              6\n",
      "                ..\n",
      "520              1\n",
      "198              1\n",
      "359              1\n",
      "475              1\n",
      "259              1\n",
      "Name: Torque (Nm), Length: 73, dtype: int64\n",
      " Automatic             121\n",
      " CVT                    41\n",
      " Manual                  1\n",
      " Manual                  1\n",
      "Name: Transmission Type, dtype: int64\n",
      " 10.1 seconds              12\n",
      " 6.8 seconds               11\n",
      " 7.5 seconds                9\n",
      " 6.5 seconds                9\n",
      " 5.2 seconds                9\n",
      " 8.1 seconds                8\n",
      " 6.9 seconds                8\n",
      " 8.7 seconds                7\n",
      " 8.8 seconds                7\n",
      " 9.9 seconds                7\n",
      " 3.1 seconds                6\n",
      " 5.9 seconds                5\n",
      " 5.7 seconds                4\n",
      " 7.6 seconds                4\n",
      " 7.3 seconds                4\n",
      " 6.4 seconds                4\n",
      " 8.9 seconds                3\n",
      " 8.2 seconds                3\n",
      " 7.8 seconds                3\n",
      " 6.6 seconds                3\n",
      " 7.2 seconds                3\n",
      " 9.3 seconds                2\n",
      " 7.1 seconds                2\n",
      " 9.1 seconds                2\n",
      " 8.6 seconds                2\n",
      " 5.3 seconds                2\n",
      " 7.0 seconds                2\n",
      " 6.0 seconds                2\n",
      " 6.1 seconds                2\n",
      " 8.4 seconds                2\n",
      " 7.7 seconds                2\n",
      " 6.2 seconds                2\n",
      " 6.7 seconds                2\n",
      " 4.9 seconds                1\n",
      " 4.6 seconds                1\n",
      " 7.9 seconds                1\n",
      " 3.0 seconds                1\n",
      " 8.3 seconds                1\n",
      " 4.7 seconds                1\n",
      " 10.2 seconds               1\n",
      " 3.5 seconds                1\n",
      " 8.0 seconds                1\n",
      " 4.3 seconds                1\n",
      " 6.3 seconds                1\n",
      "Name: Acceleration (0-60 mph), dtype: int64\n",
      "130                                                                             49\n",
      "120                                                                             36\n",
      "115                                                                             23\n",
      "155                                                                             11\n",
      "190                                                                              8\n",
      " 120 (est.)                                                                      6\n",
      " 115 (est.)                                                                      6\n",
      "135                                                                              6\n",
      "140                                                                              5\n",
      "125                                                                              4\n",
      "126                                                                              2\n",
      " 140 (est.)                                                                      2\n",
      "145                                                                              1\n",
      "129                                                                              1\n",
      "124                                                                              1\n",
      "180                                                                              1\n",
      " 120 (est.)     Vision Camera, Lane Keep Assist with Lane Departure Warning      1\n",
      "110                                                                              1\n",
      "Name: Top Speed (mph), dtype: int64\n",
      "23                                      16\n",
      "27                                      15\n",
      "35                                      11\n",
      "21                                      10\n",
      "29                                       9\n",
      "26                                       9\n",
      "32                                       9\n",
      "25                                       9\n",
      "36                                       8\n",
      "31                                       7\n",
      "22                                       7\n",
      "39                                       6\n",
      "37                                       6\n",
      " 50 (est.)                               6\n",
      " 110 (est.)                              6\n",
      "28                                       5\n",
      "20                                       4\n",
      "24                                       4\n",
      "19                                       4\n",
      "34                                       3\n",
      "17                                       2\n",
      "30                                       2\n",
      "33                                       1\n",
      "38                                       1\n",
      "16                                       1\n",
      " 125 (est.)                              1\n",
      " 10.2-inch Infotainment Display          1\n",
      " 315 (est.)                              1\n",
      "Name: Mileage (MPG), dtype: int64\n",
      " ABS, Airbags, Forward Collision-Avoidance Assist, Lane Keeping Assist     8\n",
      " ABS, Airbags, Blind Spot Monitor, Rear Cross Traffic Alert                8\n",
      " ABS, Airbags, Forward Collision Avoidance Assist, Lane Keeping Assist     7\n",
      " ABS, Airbags, Ford Co-Pilot360, Rear View Camera                          7\n",
      " ABS, Airbags, Performance Traction Management, Rear View Camera           7\n",
      "                                                                          ..\n",
      " ABS, Airbags, Rear Automatic Braking, Rear Cross Traffic Alert            1\n",
      " ABS, Airbags, Lane Keeping System, Rear Traffic Alert                     1\n",
      " ABS, Airbags, Blind Spot Monitoring, Rear Cross Path Detection            1\n",
      " ABS, Airbags, Active Brake Assist, Lane Keeping Assist                    1\n",
      " ABS, Airbags, Mazda Connected Services                                    1\n",
      "Name: Safety Features, Length: 81, dtype: int64\n",
      " 8-inch Touchscreen Display                                    40\n",
      " 7-inch Touchscreen Display                                    24\n",
      " 8-inch Infotainment System                                    14\n",
      " 10.2-inch Infotainment System                                  7\n",
      " 12-inch Touchscreen Display                                    7\n",
      " 10.2-inch Infotainment Display                                 6\n",
      " 14.5-inch Infotainment System                                  6\n",
      " 12.3-inch Digital Instrument Cluster                           3\n",
      " 8.4-inch Uconnect Infotainment                                 3\n",
      " 11.6-inch Touchscreen Display                                  3\n",
      " 9-inch Sensus Touchscreen                                      2\n",
      " 10.1-inch MMI Touch Display                                    2\n",
      " 11.6-inch STARLINK Display                                     2\n",
      " 9-inch Touchscreen Display                                     2\n",
      " 12.3-inch Central Display                                      2\n",
      " 10.1-inch MMI Touchscreen Display                              2\n",
      " 8-inch Lexus Multimedia System                                 2\n",
      " 12-inch SYNC 4 Infotainment System                             2\n",
      " 7-inch Display Audio System                                    2\n",
      " 8-inch Display Audio System                                    2\n",
      " 15-inch Touchscreen Display                                    1\n",
      " 8.4-inch Uconnect Touchscreen                                  1\n",
      " LED Headlights, Roof Rails, 19-inch Alloy Wheels               1\n",
      " LED Headlights, Roof Rails, 17-inch Alloy Wheels               1\n",
      " 8-inch Touchscreen Infotainment System                         1\n",
      " 7-inch Infotainment System                                     1\n",
      " 7-inch MAZDA CONNECT Display                                   1\n",
      " 8.0-inch STARLINK Display                                      1\n",
      " 10.2-inch True Touchpad Interface                              1\n",
      " 8-inch MAZDA CONNECT Display                                   1\n",
      " 8-inch Dual Display System                                     1\n",
      " 8-inch SYNC 3 Infotainment System                              1\n",
      " 12.3-inch Touchscreen Display                                  1\n",
      " 6.5-inch Multimedia Plus Display                               1\n",
      " 10.1-inch SYNC 3 Infotainment System                           1\n",
      " 10.2-inch Infotainment System                                  1\n",
      " 15.4-inch Infotainment Display                                 1\n",
      " 10.25-inch Touchscreen Display                                 1\n",
      " 10.1-inch MMI Touchscreen Display                              1\n",
      " 12.3-inch Infotainment System                                  1\n",
      " 9-inch Infotainment System                                     1\n",
      " 10.25-inch Infotainment Display                                1\n",
      " 12-inch Digital Instrument Cluster                             1\n",
      " 12.3-inch SYNC 4 Infotainment System                           1\n",
      " 10.25-inch Touchscreen Display                                 1\n",
      " 12-inch SYNC 4 Infotainment System                             1\n",
      " 10.25-inch Digital Instrument Cluster                          1\n",
      " 12.8-inch OLED Infotainment Screen                             1\n",
      " 8-inch SYNC 4A Infotainment System                             1\n",
      " 12.3-inch True Touchpad Interface                              1\n",
      "Name: Entertainment Features, dtype: int64\n",
      " Cloth Seats, Keyless Entry, Power Windows                               13\n",
      " Cloth Seats, Keyless Entry, Push Button Start                           13\n",
      " Cloth Seats, Power Windows, Keyless Entry                               10\n",
      " Leather Seats, Power Front Seats, Keyless Entry                          9\n",
      " Cloth Seats, Power Front Seats, Keyless Entry                            9\n",
      " Cloth Seats, Keyless Entry, Power Mirrors                                9\n",
      " Cloth Seats, Power Driver's Seat, Keyless Entry                          8\n",
      " Cloth Seats, Keyless Entry, Power Liftgate                               8\n",
      " Leather Seats, Power Driver's Seat, Bose Premium Audio                   7\n",
      " Cloth Seats, Keyless Entry, Power Tailgate                               7\n",
      " Cloth Seats, Keyless Entry, Wireless Smartphone Charging                 6\n",
      " Leather Seats, Keyless Entry, Panoramic Moonroof                         6\n",
      " Leather Seats, Heated Front Seats, Power Tailgate                        4\n",
      " Leather Seats, Heated Front Seats, Power Liftgate                        4\n",
      " Cloth Seats, Power Mirrors, Keyless Entry                                3\n",
      " Leather Seats, Keyless Entry, Sunroof                                    3\n",
      " Cloth Seats, Keyless Entry, Dual-Zone Climate Control                    3\n",
      " Leather Seats, Heated Front Seats, Panoramic Sunroof                     3\n",
      "33,995                                                                    2\n",
      " Cloth Seats, Power Front Seats, Keyless Entry                            1\n",
      " Cloth Seats, Keyless Entry, Power Front Windows                          1\n",
      " Leather Seats, Power Driver's Seat, Keyless Entry                        1\n",
      " Leather Seats, Power Driver's Seat, Dual-Zone Climate Control            1\n",
      " Cloth Seats, Keyless Entry, Three-Zone Automatic Climate Control         1\n",
      " Cloth Seats, Keyless Entry, Dual-Zone Automatic Climate Control          1\n",
      " Leather Seats, Keyless Entry, Push Button Start                          1\n",
      " Cloth Seats, Keyless Entry, Removable Doors                              1\n",
      " Leather Seats, Keyless Entry, Bose Audio System                          1\n",
      " Leather Seats, Keyless Entry, Panoramic Sunroof                          1\n",
      " Cloth Seats, Keyless Entry, Rear Occupant Alert                          1\n",
      " Leather Seats, Keyless Entry, Power Liftgate                             1\n",
      " Cloth Seats, Keyless Entry, Lane Keeping Assist                          1\n",
      " Cloth Seats, Power Driver's Seat, Keyless Access                         1\n",
      " Cloth Seats, Power Windows, Tri-Zone Automatic Climate Control           1\n",
      " Leather Seats, Heated and Ventilated Front Seats, Power Rear Window      1\n",
      " Leather Seats, Heated and Ventilated Front Seats                         1\n",
      " Cloth Seats, Bluetooth Connectivity, Push Button Start                   1\n",
      " Leather Seats, Heated Front Seats, Third-Row Seating                     1\n",
      " Vegan Leather Seats, Heated Steering Wheel, Premium Audio                1\n",
      " Cloth Seats, Power Mirrors, Dual-Zone Climate Control                    1\n",
      " Leather Seats, Power Driver's Seat, Push Button Start                    1\n",
      " Leather Seats, Power Driver's Seat, Ambient Lighting                     1\n",
      " Leather Seats, Heated Front Seats, Tri-Zone Climate Control              1\n",
      " Cloth Seats, Bluetooth Connectivity, Power Sunroof                       1\n",
      " Leather Seats, Heated Front Seats, Power Sunroof                         1\n",
      " Cloth Seats, Power Mirrors, Keyless Entry                                1\n",
      " Leather Seats, Heated Front Seats, Power Tailgate                        1\n",
      " Cloth Seats, Keyless Entry, Removable Top                                1\n",
      " Leather Seats, Heated Front Seats, Panoramic Sunroof                     1\n",
      " Leather Seats, Heated Front Seats, Power Fold Third-Row Seats            1\n",
      " Cloth Seats, Keyless Entry, Wireless Smartphone Charger                  1\n",
      " Cloth Seats, Keyless Access, Power Sunroof                               1\n",
      " Cloth Seats, Keyless Entry, Power Rear Window                            1\n",
      " Cloth Seats, Power Windows, Dual-Zone Climate Control                    1\n",
      " Cloth Seats, Keyless Entry, Tri-Zone Climate Control                     1\n",
      "Name: Interior Features, dtype: int64\n",
      " LED Daytime Running Lights, 17-inch Alloy Wheels                               16\n",
      " LED Headlights, Roof Rails, 18-inch Alloy Wheels                               13\n",
      " LED Daytime Running Lights, 16-inch Alloy Wheels                               10\n",
      " LED Headlights, 18-inch Alloy Wheels                                           10\n",
      " LED Headlights, Alloy Wheels, Power Sunroof                                     9\n",
      " LED Headlights, Roof Rails, 20-inch Alloy Wheels                                9\n",
      " LED Headlights, Rear Spoiler, 18-inch Alloy Wheels                              7\n",
      " LED Headlights, Roof Rails, 20-inch Alloy Wheels                                7\n",
      " LED Headlights, Rear Spoiler, 19-inch Alloy Wheels                              7\n",
      " LED Headlights, 15-inch Alloy Wheels                                            6\n",
      " LED Taillights, Bedliner, 17-inch Alloy Wheels                                  6\n",
      " LED Headlights, Roof Rails, 17-inch Alloy Wheels                                6\n",
      " LED Headlights, Roof Rails, 18-inch Alloy Wheels                                5\n",
      " LED Headlights, 17-inch Alloy Wheels                                            3\n",
      " LED Headlights, Roof Rails, 19-inch Alloy Wheels                                3\n",
      " 4.9/5                                                                           2\n",
      " LED Headlights, 19-inch Alloy Wheels                                            2\n",
      " LED Headlights, 18-inch Alloy Wheels                                            2\n",
      " LED Headlights, 20-inch Alloy Wheels                                            2\n",
      " LED Daytime Running Lights, Roof Rails, 17-inch Alloy Wheels                    2\n",
      " LED Daytime Running Lights, Alloy Wheels                                        2\n",
      " LED Daytime Running Lights, Roof Rails                                          2\n",
      " LED Daytime Running Lights, 17-inch Alloy Wheels                                1\n",
      " LED Headlights, Tow Hooks, 17-inch Alloy Wheels                                 1\n",
      " LED Headlights, Roof Rails, 22-inch Alloy Wheels                                1\n",
      " LED Headlights, Roof Rails, 17-inch Alloy Wheels                                1\n",
      " LED Headlights, Roof Rails, Power Liftgate                                      1\n",
      " LED Headlights, 20-inch Alloy Wheels                                            1\n",
      " Panoramic Glass Roof, Power Trunk, Alloy Wheels                                 1\n",
      " LED Headlights, Off-Road Suspension, 17-inch Alloy Wheels                       1\n",
      " LED Headlights, Power Liftgate, 20-inch Alloy Wheels                            1\n",
      " LED Taillights, Roof Rails, Power Liftgate                                      1\n",
      " LED Headlights, Roof Rails, 20-inch Alloy Wheels                                1\n",
      " LED Headlights, Bedliner, 17-inch Alloy Wheels                                  1\n",
      " LED Headlights, Dual Power Sliding Doors, 19-inch Alloy Wheels                  1\n",
      " LED Headlights, Bedliner, 18-inch Alloy Wheels                                  1\n",
      " LED Taillights, Bedliner, 16-inch Alloy Wheels                                  1\n",
      " LED Headlights, 16-inch Alloy Wheels                                            1\n",
      " LED Daytime Running Lights, Dual Power Sliding Doors, 17-inch Alloy Wheels      1\n",
      " LED Headlights, Rear Spoiler, Dual Exhaust                                      1\n",
      " LED Headlights, 16-inch Alloy Wheels                                            1\n",
      " LED Headlights, Power Sliding Doors, 18-inch Alloy Wheels                       1\n",
      " LED Headlights, Removable Top, 17-inch Alloy Wheels                             1\n",
      " LED Headlights, Sunroof, 18-inch Alloy Wheels                                   1\n",
      " LED Taillights, Deck Rail System, 16-inch Alloy Wheels                          1\n",
      " LED Taillights, Tow Hitch, 20-inch Alloy Wheels                                 1\n",
      " LED Headlights, Rear Spoiler, 20-inch Alloy Wheels                              1\n",
      " LED Taillights, Roof Rails, 18-inch Alloy Wheels                                1\n",
      " LED Headlights, Panoramic Sunroof, 20-inch Alloy Wheels                         1\n",
      " LED Taillights, Tow Hitch, Bed Liner                                            1\n",
      " LED Headlights, Alloy Wheels, Power Trunk                                       1\n",
      " LED Headlights, Roof Rails, 18-inch Alloy Wheels                                1\n",
      " LED Headlights, 17-inch Alloy Wheels                                            1\n",
      " LED Headlights, Alloy Wheels, Sunroof                                           1\n",
      "Name: Exterior Features, dtype: int64\n",
      "25,000    8\n",
      "37,775    7\n",
      "27,900    7\n",
      "33,900    6\n",
      "20,400    6\n",
      "         ..\n",
      "43,900    1\n",
      "38,500    1\n",
      "43,200    1\n",
      "51,850    1\n",
      "55,000    1\n",
      "Name: Price ($), Length: 99, dtype: int64\n",
      " 4.7/5                57\n",
      " 4.8/5                44\n",
      " 4.6/5                39\n",
      " 4.9/5                18\n",
      " 4.5/5                 3\n",
      "3.4/5                  1\n",
      "Name: Customer Ratings, dtype: int64\n",
      "1,600    22\n",
      "1,800    19\n",
      "1,200    12\n",
      "1,000    12\n",
      "900      11\n",
      "2,200    11\n",
      "2,300    10\n",
      "1,500    10\n",
      "1,700     9\n",
      "2,400     8\n",
      "1,900     7\n",
      "2,100     5\n",
      "2,000     4\n",
      "1,300     4\n",
      "1,400     4\n",
      "1,100     3\n",
      "2,500     2\n",
      "2,600     2\n",
      "800       2\n",
      "2,700     1\n",
      "4,500     1\n",
      "400       1\n",
      "2,800     1\n",
      "2,340     1\n",
      "Name: Sales Figures (Units Sold), dtype: int64\n"
     ]
    }
   ],
   "source": [
    "for i in df.columns:\n",
    "    print(df[i].value_counts())"
   ]
  },
  {
   "cell_type": "markdown",
   "id": "5f65b4ac",
   "metadata": {},
   "source": [
    "# above we can see the values having spaces as well as some unmatched values with contexts of the columns"
   ]
  },
  {
   "cell_type": "markdown",
   "id": "8226c812",
   "metadata": {},
   "source": [
    "like Engine Size (L), Torque (Nm) columns having N/A values"
   ]
  },
  {
   "cell_type": "code",
   "execution_count": 627,
   "id": "42034aa2",
   "metadata": {},
   "outputs": [],
   "source": [
    "def strip(title):\n",
    "    strp = title.strip()\n",
    "    return strp"
   ]
  },
  {
   "cell_type": "code",
   "execution_count": 632,
   "id": "6f844aa9",
   "metadata": {},
   "outputs": [
    {
     "data": {
      "text/plain": [
       "['Car Make',\n",
       " 'Car Model',\n",
       " 'Year',\n",
       " 'Body Type',\n",
       " 'Color Options',\n",
       " 'Fuel Type',\n",
       " 'Engine Size (L)',\n",
       " 'Horsepower',\n",
       " 'Torque (Nm)',\n",
       " 'Transmission Type',\n",
       " 'Acceleration (0-60 mph)',\n",
       " 'Top Speed (mph)',\n",
       " 'Mileage (MPG)',\n",
       " 'Safety Features',\n",
       " 'Entertainment Features',\n",
       " 'Interior Features',\n",
       " 'Exterior Features',\n",
       " 'Price ($)',\n",
       " 'Customer Ratings',\n",
       " 'Sales Figures (Units Sold)']"
      ]
     },
     "execution_count": 632,
     "metadata": {},
     "output_type": "execute_result"
    }
   ],
   "source": [
    "edit_cols"
   ]
  },
  {
   "cell_type": "code",
   "execution_count": 633,
   "id": "4bd967de",
   "metadata": {},
   "outputs": [
    {
     "name": "stdout",
     "output_type": "stream",
     "text": [
      "Year -- 'int' object has no attribute 'strip'\n",
      "Entertainment Features -- 'float' object has no attribute 'strip'\n",
      "Interior Features -- 'float' object has no attribute 'strip'\n",
      "Exterior Features -- 'float' object has no attribute 'strip'\n",
      "Customer Ratings -- 'float' object has no attribute 'strip'\n",
      "Sales Figures (Units Sold) -- 'float' object has no attribute 'strip'\n"
     ]
    }
   ],
   "source": [
    "for i in edit_cols:\n",
    "    try:\n",
    "        df[i] = df[i].apply(lambda x : strip(x))\n",
    "    \n",
    "    except Exception as e:\n",
    "        print(i,'--', e)\n",
    "        \n",
    "    "
   ]
  },
  {
   "cell_type": "code",
   "execution_count": 634,
   "id": "126cc6a7",
   "metadata": {},
   "outputs": [
    {
     "data": {
      "text/plain": [
       "0      2.5\n",
       "1      3.5\n",
       "2      1.8\n",
       "3      5.3\n",
       "4      N/A\n",
       "      ... \n",
       "159    3.5\n",
       "160      2\n",
       "161    2.4\n",
       "162    3.5\n",
       "163    2.5\n",
       "Name: Engine Size (L), Length: 164, dtype: object"
      ]
     },
     "execution_count": 634,
     "metadata": {},
     "output_type": "execute_result"
    }
   ],
   "source": [
    "df['Engine Size (L)']"
   ]
  },
  {
   "cell_type": "code",
   "execution_count": 635,
   "id": "11e3adf6",
   "metadata": {},
   "outputs": [],
   "source": [
    "df = df[df['Engine Size (L)']!='N/A']"
   ]
  },
  {
   "cell_type": "code",
   "execution_count": 636,
   "id": "b91529c3",
   "metadata": {},
   "outputs": [],
   "source": [
    "df = df[df['Torque (Nm)']!='N/A']"
   ]
  },
  {
   "cell_type": "code",
   "execution_count": 637,
   "id": "c8b1cc12",
   "metadata": {},
   "outputs": [],
   "source": [
    "df['Engine Size (L)'] = df['Engine Size (L)'].astype(float)"
   ]
  },
  {
   "cell_type": "code",
   "execution_count": 638,
   "id": "7568a2a9",
   "metadata": {},
   "outputs": [],
   "source": [
    "df['Torque (Nm)'] = df['Torque (Nm)'].astype(float)"
   ]
  },
  {
   "cell_type": "markdown",
   "id": "1eca4909",
   "metadata": {},
   "source": [
    "# removing the commas from price and sales figures"
   ]
  },
  {
   "cell_type": "code",
   "execution_count": 639,
   "id": "ed980c61",
   "metadata": {},
   "outputs": [],
   "source": [
    "def remove_comma(title):\n",
    "    title = title.replace(',','')\n",
    "    return title\n",
    "    "
   ]
  },
  {
   "cell_type": "code",
   "execution_count": 640,
   "id": "9288351f",
   "metadata": {},
   "outputs": [],
   "source": [
    "df['Price ($)'] = df['Price ($)'].apply(lambda x:remove_comma(x))\n",
    "df['Sales Figures (Units Sold)'] = df['Sales Figures (Units Sold)'].apply(lambda x:remove_comma(x))"
   ]
  },
  {
   "cell_type": "code",
   "execution_count": 641,
   "id": "9540d25f",
   "metadata": {},
   "outputs": [],
   "source": [
    "df['Acceleration (0-60 mph)'] = df['Acceleration (0-60 mph)'].str.split().str.get(0)"
   ]
  },
  {
   "cell_type": "code",
   "execution_count": null,
   "id": "727453ce",
   "metadata": {},
   "outputs": [],
   "source": []
  },
  {
   "cell_type": "markdown",
   "id": "060dc5e4",
   "metadata": {},
   "source": [
    "# removing / from the customer rating column"
   ]
  },
  {
   "cell_type": "code",
   "execution_count": 642,
   "id": "c363a4c5",
   "metadata": {},
   "outputs": [],
   "source": [
    "df['Customer Ratings'] = df['Customer Ratings'].str.split('/').str.get(0)"
   ]
  },
  {
   "cell_type": "code",
   "execution_count": 644,
   "id": "0458b223",
   "metadata": {},
   "outputs": [
    {
     "name": "stdout",
     "output_type": "stream",
     "text": [
      "<class 'pandas.core.frame.DataFrame'>\n",
      "Int64Index: 149 entries, 0 to 163\n",
      "Data columns (total 20 columns):\n",
      " #   Column                      Non-Null Count  Dtype  \n",
      "---  ------                      --------------  -----  \n",
      " 0   Car Make                    149 non-null    object \n",
      " 1   Car Model                   149 non-null    object \n",
      " 2   Year                        149 non-null    int64  \n",
      " 3   Body Type                   149 non-null    object \n",
      " 4   Color Options               149 non-null    object \n",
      " 5   Fuel Type                   149 non-null    object \n",
      " 6   Engine Size (L)             149 non-null    float64\n",
      " 7   Horsepower                  149 non-null    object \n",
      " 8   Torque (Nm)                 149 non-null    float64\n",
      " 9   Transmission Type           149 non-null    object \n",
      " 10  Acceleration (0-60 mph)     149 non-null    object \n",
      " 11  Top Speed (mph)             149 non-null    object \n",
      " 12  Mileage (MPG)               149 non-null    object \n",
      " 13  Safety Features             149 non-null    object \n",
      " 14  Entertainment Features      148 non-null    object \n",
      " 15  Interior Features           148 non-null    object \n",
      " 16  Exterior Features           148 non-null    object \n",
      " 17  Price ($)                   149 non-null    object \n",
      " 18  Customer Ratings            149 non-null    object \n",
      " 19  Sales Figures (Units Sold)  149 non-null    object \n",
      "dtypes: float64(2), int64(1), object(17)\n",
      "memory usage: 24.4+ KB\n"
     ]
    }
   ],
   "source": [
    "df.info()"
   ]
  },
  {
   "cell_type": "code",
   "execution_count": 645,
   "id": "4522b959",
   "metadata": {},
   "outputs": [
    {
     "data": {
      "text/plain": [
       "23    16\n",
       "27    15\n",
       "35    11\n",
       "21    10\n",
       "32     9\n",
       "29     9\n",
       "25     9\n",
       "26     9\n",
       "36     8\n",
       "22     7\n",
       "31     7\n",
       "37     6\n",
       "39     6\n",
       "28     5\n",
       "20     4\n",
       "24     4\n",
       "19     4\n",
       "34     3\n",
       "17     2\n",
       "30     2\n",
       "33     1\n",
       "38     1\n",
       "16     1\n",
       "Name: Mileage (MPG), dtype: int64"
      ]
     },
     "execution_count": 645,
     "metadata": {},
     "output_type": "execute_result"
    }
   ],
   "source": [
    "df['Mileage (MPG)'].value_counts()"
   ]
  },
  {
   "cell_type": "code",
   "execution_count": 646,
   "id": "2990544d",
   "metadata": {},
   "outputs": [
    {
     "data": {
      "text/plain": [
       "130    49\n",
       "120    36\n",
       "115    23\n",
       "155    11\n",
       "190     8\n",
       "135     6\n",
       "140     5\n",
       "125     4\n",
       "126     2\n",
       "145     1\n",
       "180     1\n",
       "129     1\n",
       "124     1\n",
       "110     1\n",
       "Name: Top Speed (mph), dtype: int64"
      ]
     },
     "execution_count": 646,
     "metadata": {},
     "output_type": "execute_result"
    }
   ],
   "source": [
    "df['Top Speed (mph)'].value_counts()"
   ]
  },
  {
   "cell_type": "code",
   "execution_count": null,
   "id": "64bd6fb5",
   "metadata": {},
   "outputs": [],
   "source": []
  },
  {
   "cell_type": "markdown",
   "id": "7fb40fc9",
   "metadata": {},
   "source": [
    "# changing data type of columns those are having numeric values."
   ]
  },
  {
   "cell_type": "code",
   "execution_count": 648,
   "id": "2b776908",
   "metadata": {},
   "outputs": [],
   "source": [
    "cols = df.columns"
   ]
  },
  {
   "cell_type": "code",
   "execution_count": 649,
   "id": "71b26f95",
   "metadata": {},
   "outputs": [],
   "source": [
    "for i in cols:\n",
    "    \n",
    "    for j in df[i]:\n",
    "        if str(j).isnumeric():\n",
    "            try:\n",
    "                df[i] = df[i].astype(float)\n",
    "            except Exception as e:\n",
    "                print(i,'--',e)\n",
    "                \n",
    "            "
   ]
  },
  {
   "cell_type": "code",
   "execution_count": 650,
   "id": "3d002155",
   "metadata": {},
   "outputs": [
    {
     "name": "stdout",
     "output_type": "stream",
     "text": [
      "<class 'pandas.core.frame.DataFrame'>\n",
      "Int64Index: 149 entries, 0 to 163\n",
      "Data columns (total 20 columns):\n",
      " #   Column                      Non-Null Count  Dtype  \n",
      "---  ------                      --------------  -----  \n",
      " 0   Car Make                    149 non-null    object \n",
      " 1   Car Model                   149 non-null    object \n",
      " 2   Year                        149 non-null    float64\n",
      " 3   Body Type                   149 non-null    object \n",
      " 4   Color Options               149 non-null    object \n",
      " 5   Fuel Type                   149 non-null    object \n",
      " 6   Engine Size (L)             149 non-null    float64\n",
      " 7   Horsepower                  149 non-null    float64\n",
      " 8   Torque (Nm)                 149 non-null    float64\n",
      " 9   Transmission Type           149 non-null    object \n",
      " 10  Acceleration (0-60 mph)     149 non-null    object \n",
      " 11  Top Speed (mph)             149 non-null    float64\n",
      " 12  Mileage (MPG)               149 non-null    float64\n",
      " 13  Safety Features             149 non-null    object \n",
      " 14  Entertainment Features      148 non-null    object \n",
      " 15  Interior Features           148 non-null    object \n",
      " 16  Exterior Features           148 non-null    object \n",
      " 17  Price ($)                   149 non-null    float64\n",
      " 18  Customer Ratings            149 non-null    object \n",
      " 19  Sales Figures (Units Sold)  149 non-null    float64\n",
      "dtypes: float64(8), object(12)\n",
      "memory usage: 24.4+ KB\n"
     ]
    }
   ],
   "source": [
    "df.info()"
   ]
  },
  {
   "cell_type": "code",
   "execution_count": 651,
   "id": "25ed49b8",
   "metadata": {},
   "outputs": [
    {
     "data": {
      "text/html": [
       "<div>\n",
       "<style scoped>\n",
       "    .dataframe tbody tr th:only-of-type {\n",
       "        vertical-align: middle;\n",
       "    }\n",
       "\n",
       "    .dataframe tbody tr th {\n",
       "        vertical-align: top;\n",
       "    }\n",
       "\n",
       "    .dataframe thead th {\n",
       "        text-align: right;\n",
       "    }\n",
       "</style>\n",
       "<table border=\"1\" class=\"dataframe\">\n",
       "  <thead>\n",
       "    <tr style=\"text-align: right;\">\n",
       "      <th></th>\n",
       "      <th>Car Make</th>\n",
       "      <th>Car Model</th>\n",
       "      <th>Year</th>\n",
       "      <th>Body Type</th>\n",
       "      <th>Color Options</th>\n",
       "      <th>Fuel Type</th>\n",
       "      <th>Engine Size (L)</th>\n",
       "      <th>Horsepower</th>\n",
       "      <th>Torque (Nm)</th>\n",
       "      <th>Transmission Type</th>\n",
       "      <th>Acceleration (0-60 mph)</th>\n",
       "      <th>Top Speed (mph)</th>\n",
       "      <th>Mileage (MPG)</th>\n",
       "      <th>Safety Features</th>\n",
       "      <th>Entertainment Features</th>\n",
       "      <th>Interior Features</th>\n",
       "      <th>Exterior Features</th>\n",
       "      <th>Price ($)</th>\n",
       "      <th>Customer Ratings</th>\n",
       "      <th>Sales Figures (Units Sold)</th>\n",
       "    </tr>\n",
       "  </thead>\n",
       "  <tbody>\n",
       "    <tr>\n",
       "      <th>0</th>\n",
       "      <td>Toyota</td>\n",
       "      <td>Camry</td>\n",
       "      <td>2022.0</td>\n",
       "      <td>Sedan</td>\n",
       "      <td>White, Silver, Black</td>\n",
       "      <td>Gasoline</td>\n",
       "      <td>2.5</td>\n",
       "      <td>203.0</td>\n",
       "      <td>245.0</td>\n",
       "      <td>Automatic</td>\n",
       "      <td>7.9</td>\n",
       "      <td>135.0</td>\n",
       "      <td>31.0</td>\n",
       "      <td>ABS, Airbags, Lane-Keeping Assist, Blind Spot ...</td>\n",
       "      <td>8-inch Touchscreen Infotainment System</td>\n",
       "      <td>Leather Seats, Power Driver's Seat, Dual-Zone...</td>\n",
       "      <td>LED Headlights, Alloy Wheels, Sunroof        ...</td>\n",
       "      <td>28500.0</td>\n",
       "      <td>4.5</td>\n",
       "      <td>1500.0</td>\n",
       "    </tr>\n",
       "    <tr>\n",
       "      <th>1</th>\n",
       "      <td>Ford</td>\n",
       "      <td>F-150</td>\n",
       "      <td>2023.0</td>\n",
       "      <td>Truck</td>\n",
       "      <td>Blue, Red, Gray</td>\n",
       "      <td>Gasoline</td>\n",
       "      <td>3.5</td>\n",
       "      <td>375.0</td>\n",
       "      <td>475.0</td>\n",
       "      <td>Automatic</td>\n",
       "      <td>6.1</td>\n",
       "      <td>145.0</td>\n",
       "      <td>23.0</td>\n",
       "      <td>ABS, Airbags, Trailer Sway Control, Rear View ...</td>\n",
       "      <td>12-inch SYNC 4 Infotainment System</td>\n",
       "      <td>Cloth Seats, Power Windows, Keyless Entry    ...</td>\n",
       "      <td>LED Taillights, Tow Hitch, Bed Liner         ...</td>\n",
       "      <td>45900.0</td>\n",
       "      <td>4.8</td>\n",
       "      <td>2200.0</td>\n",
       "    </tr>\n",
       "    <tr>\n",
       "      <th>2</th>\n",
       "      <td>Honda</td>\n",
       "      <td>Civic</td>\n",
       "      <td>2023.0</td>\n",
       "      <td>Sedan</td>\n",
       "      <td>Black, Blue, Silver</td>\n",
       "      <td>Gasoline</td>\n",
       "      <td>1.8</td>\n",
       "      <td>158.0</td>\n",
       "      <td>180.0</td>\n",
       "      <td>CVT</td>\n",
       "      <td>8.2</td>\n",
       "      <td>120.0</td>\n",
       "      <td>36.0</td>\n",
       "      <td>ABS, Airbags, Lane Departure Warning, Rear Cro...</td>\n",
       "      <td>7-inch Display Audio System</td>\n",
       "      <td>Cloth Seats, Bluetooth Connectivity, Push But...</td>\n",
       "      <td>LED Daytime Running Lights, Alloy Wheels     ...</td>\n",
       "      <td>22950.0</td>\n",
       "      <td>4.6</td>\n",
       "      <td>2800.0</td>\n",
       "    </tr>\n",
       "  </tbody>\n",
       "</table>\n",
       "</div>"
      ],
      "text/plain": [
       "  Car Make Car Model    Year Body Type         Color Options Fuel Type  \\\n",
       "0   Toyota     Camry  2022.0     Sedan  White, Silver, Black  Gasoline   \n",
       "1     Ford     F-150  2023.0     Truck       Blue, Red, Gray  Gasoline   \n",
       "2    Honda     Civic  2023.0     Sedan   Black, Blue, Silver  Gasoline   \n",
       "\n",
       "   Engine Size (L)  Horsepower  Torque (Nm) Transmission Type  \\\n",
       "0              2.5       203.0        245.0         Automatic   \n",
       "1              3.5       375.0        475.0         Automatic   \n",
       "2              1.8       158.0        180.0               CVT   \n",
       "\n",
       "  Acceleration (0-60 mph)  Top Speed (mph)  Mileage (MPG)  \\\n",
       "0                     7.9            135.0           31.0   \n",
       "1                     6.1            145.0           23.0   \n",
       "2                     8.2            120.0           36.0   \n",
       "\n",
       "                                     Safety Features  \\\n",
       "0  ABS, Airbags, Lane-Keeping Assist, Blind Spot ...   \n",
       "1  ABS, Airbags, Trailer Sway Control, Rear View ...   \n",
       "2  ABS, Airbags, Lane Departure Warning, Rear Cro...   \n",
       "\n",
       "                     Entertainment Features  \\\n",
       "0   8-inch Touchscreen Infotainment System    \n",
       "1     12-inch SYNC 4 Infotainment System      \n",
       "2        7-inch Display Audio System          \n",
       "\n",
       "                                   Interior Features  \\\n",
       "0   Leather Seats, Power Driver's Seat, Dual-Zone...   \n",
       "1   Cloth Seats, Power Windows, Keyless Entry    ...   \n",
       "2   Cloth Seats, Bluetooth Connectivity, Push But...   \n",
       "\n",
       "                                   Exterior Features  Price ($)  \\\n",
       "0   LED Headlights, Alloy Wheels, Sunroof        ...    28500.0   \n",
       "1   LED Taillights, Tow Hitch, Bed Liner         ...    45900.0   \n",
       "2   LED Daytime Running Lights, Alloy Wheels     ...    22950.0   \n",
       "\n",
       "  Customer Ratings  Sales Figures (Units Sold)  \n",
       "0              4.5                      1500.0  \n",
       "1              4.8                      2200.0  \n",
       "2              4.6                      2800.0  "
      ]
     },
     "execution_count": 651,
     "metadata": {},
     "output_type": "execute_result"
    }
   ],
   "source": [
    "df.head(3)"
   ]
  },
  {
   "cell_type": "code",
   "execution_count": null,
   "id": "0d0a1d5b",
   "metadata": {},
   "outputs": [],
   "source": []
  },
  {
   "cell_type": "markdown",
   "id": "5a434544",
   "metadata": {},
   "source": [
    "# In our Safety Featurs, Interior Features and Exterior Features containing a list of different different values so we have to separate all the values and save to the new column in which the values should be true if the feature is present for a car vice versa it would be false and after this drop the root columns."
   ]
  },
  {
   "cell_type": "code",
   "execution_count": null,
   "id": "48b8ae69",
   "metadata": {},
   "outputs": [],
   "source": []
  },
  {
   "cell_type": "code",
   "execution_count": 654,
   "id": "346cc8d4",
   "metadata": {},
   "outputs": [],
   "source": [
    "safety_feature_set = {0}"
   ]
  },
  {
   "cell_type": "code",
   "execution_count": 655,
   "id": "64d4d223",
   "metadata": {},
   "outputs": [],
   "source": [
    "for i in df['Safety Features']:\n",
    "    i = i.split(',')\n",
    "    for j in i:\n",
    "        safety_feature_set.add(strip(j))"
   ]
  },
  {
   "cell_type": "code",
   "execution_count": 656,
   "id": "5f5b74c3",
   "metadata": {},
   "outputs": [],
   "source": [
    "safety_feature_set_list = list(safety_feature_set)"
   ]
  },
  {
   "cell_type": "code",
   "execution_count": 657,
   "id": "1048cedc",
   "metadata": {},
   "outputs": [],
   "source": [
    "duplicate_feature_list = ['0','Blind Spot Monitor','Blind Spot Monitoring','Blind Spot View Monitor','Blind Zone Alert','Blind Zone Alert',\n",
    "                         'Collision Mitigation','EyeSight Driver Assist','Forward Collision Warning','Forward Collision-Avoidance Assist',\n",
    "                         'Forward Collision-Avoidance Assist with Pedestrian Detection','Hill Start Assist',\n",
    "                         'Lane Departure Warning',\n",
    "                         'Lane Keep Assist',\n",
    "                         'Lane Keeping Assist',\n",
    "                         'Lane Keeping System',\n",
    "                         'Lane Tracing Assist',\n",
    "                         'Lane-Keeping Assist',\n",
    "                         'Lane-Keeping System',\n",
    "                         'Rear Cross Traffic Alert',\n",
    "                         'Rear Cross Traffic Monitor',\n",
    "                         'Rear Cross-Traffic Alert',\n",
    "                         'Rear View Monitor',\n",
    "                         'Rear Vision Camera',\n",
    "                        'RearView Monitor',\n",
    "                         'Rearview Camera',\n",
    "                         'RearView Monitor',\n",
    "                         'Trailer-Sway Control']"
   ]
  },
  {
   "cell_type": "code",
   "execution_count": 899,
   "id": "d375839d",
   "metadata": {},
   "outputs": [
    {
     "data": {
      "text/plain": [
       "['Trailer Brake Control',\n",
       " 'Forward Collision Alert',\n",
       " 'Trailer-Sway Control',\n",
       " 'Rear Cross Path Detection',\n",
       " 'Traffic Sign Assist',\n",
       " 'Lexus Safety System+ 2.5',\n",
       " 'Trailer Sway Control',\n",
       " 'Parking Assistant Plus',\n",
       " 'EyeSight Driver Assist Technology',\n",
       " 'Trail Control',\n",
       " 'Adaptive Cruise Control',\n",
       " 'Audi Pre Sense Front',\n",
       " 'Blind Spot Warning',\n",
       " 'Rear Traffic Alert',\n",
       " 'Airbags',\n",
       " 'Parking Assist',\n",
       " 'Predictive Forward Collision Warning',\n",
       " 'Ford Co-Pilot360',\n",
       " 'Active Distance Assist',\n",
       " 'AdvanceTrac Electronic Stability Control',\n",
       " 'Lexus Safety System+ 3.0',\n",
       " 'Blind Spot Information System',\n",
       " 'Lane Keep Assist',\n",
       " 'Active Brake Assist',\n",
       " 'Backup Camera',\n",
       " 'Collision Mitigation Braking System',\n",
       " 'Forward Collision-Avoidance Assist',\n",
       " 'Toyota Safety Sense P',\n",
       " 'Automatic Emergency Braking',\n",
       " 'AdvanceTrac with Roll Stability Control',\n",
       " 'Dynamic Stability Control',\n",
       " 'Rear Parking Assist Sonar',\n",
       " 'Mazda Connected Services',\n",
       " 'Electronic Roll Mitigation',\n",
       " 'Lexus Safety System+ 3.5',\n",
       " 'StabiliTrak Electronic Stability Control',\n",
       " 'City Safety Collision Avoidance Technology',\n",
       " 'Multi-View Rear Camera',\n",
       " 'RearView Monitor',\n",
       " 'Hill Start Assist Control',\n",
       " 'Traction Control',\n",
       " 'ParkView Rear Back-Up Camera',\n",
       " 'Audi Pre Sense Basic',\n",
       " 'Forward Collision Warning',\n",
       " 'Forward Collision Avoidance-Assist with Pedestrian Detection',\n",
       " 'Rear View Camera',\n",
       " 'Electronic Stability Control',\n",
       " 'Audi Pre Sense City',\n",
       " 'Toyota Safety Sense 2.5+',\n",
       " 'Intelligent Forward Collision Warning',\n",
       " 'Rearview Camera',\n",
       " 'Blind Spot Monitoring',\n",
       " 'StabiliTrak',\n",
       " 'Rear Automatic Braking',\n",
       " 'ABS',\n",
       " 'Performance Traction Management',\n",
       " 'Rear Cross Traffic Alert',\n",
       " 'Nissan Safety Shield 360',\n",
       " 'Honda Sensing',\n",
       " 'Audi Side Assist',\n",
       " 'Road Departure Mitigation',\n",
       " 'Lane Departure Warning',\n",
       " 'AcuraWatch',\n",
       " 'AdvanceTrac with RSC',\n",
       " 'Forward Collision Avoidance Assist',\n",
       " 'Active Driving Assistant',\n",
       " 'Collision Mitigation',\n",
       " 'Lane Assist']"
      ]
     },
     "execution_count": 899,
     "metadata": {},
     "output_type": "execute_result"
    }
   ],
   "source": [
    "safety_feature_set_list"
   ]
  },
  {
   "cell_type": "code",
   "execution_count": 661,
   "id": "5d075e20",
   "metadata": {},
   "outputs": [],
   "source": [
    "for i in safety_feature_set_list:\n",
    "    if i in duplicate_feature_list:\n",
    "        safety_feature_set_list.remove(i)\n",
    "        "
   ]
  },
  {
   "cell_type": "code",
   "execution_count": 662,
   "id": "7bc5afc0",
   "metadata": {},
   "outputs": [
    {
     "data": {
      "text/plain": [
       "84"
      ]
     },
     "execution_count": 662,
     "metadata": {},
     "output_type": "execute_result"
    }
   ],
   "source": [
    "len(safety_feature_set)"
   ]
  },
  {
   "cell_type": "code",
   "execution_count": 663,
   "id": "1a1dba50",
   "metadata": {},
   "outputs": [
    {
     "data": {
      "text/plain": [
       "69"
      ]
     },
     "execution_count": 663,
     "metadata": {},
     "output_type": "execute_result"
    }
   ],
   "source": [
    "len(safety_feature_set_list)"
   ]
  },
  {
   "cell_type": "code",
   "execution_count": 664,
   "id": "69416ad7",
   "metadata": {},
   "outputs": [
    {
     "data": {
      "text/plain": [
       "28"
      ]
     },
     "execution_count": 664,
     "metadata": {},
     "output_type": "execute_result"
    }
   ],
   "source": [
    "len(duplicate_feature_list)"
   ]
  },
  {
   "cell_type": "code",
   "execution_count": 665,
   "id": "b0bba266",
   "metadata": {},
   "outputs": [],
   "source": [
    "safety_feature_set_list.remove(0)"
   ]
  },
  {
   "cell_type": "code",
   "execution_count": 900,
   "id": "e9007493",
   "metadata": {},
   "outputs": [
    {
     "data": {
      "text/plain": [
       "['Trailer Brake Control',\n",
       " 'Forward Collision Alert',\n",
       " 'Trailer-Sway Control',\n",
       " 'Rear Cross Path Detection',\n",
       " 'Traffic Sign Assist',\n",
       " 'Lexus Safety System+ 2.5',\n",
       " 'Trailer Sway Control',\n",
       " 'Parking Assistant Plus',\n",
       " 'EyeSight Driver Assist Technology',\n",
       " 'Trail Control',\n",
       " 'Adaptive Cruise Control',\n",
       " 'Audi Pre Sense Front',\n",
       " 'Blind Spot Warning',\n",
       " 'Rear Traffic Alert',\n",
       " 'Airbags',\n",
       " 'Parking Assist',\n",
       " 'Predictive Forward Collision Warning',\n",
       " 'Ford Co-Pilot360',\n",
       " 'Active Distance Assist',\n",
       " 'AdvanceTrac Electronic Stability Control',\n",
       " 'Lexus Safety System+ 3.0',\n",
       " 'Blind Spot Information System',\n",
       " 'Lane Keep Assist',\n",
       " 'Active Brake Assist',\n",
       " 'Backup Camera',\n",
       " 'Collision Mitigation Braking System',\n",
       " 'Forward Collision-Avoidance Assist',\n",
       " 'Toyota Safety Sense P',\n",
       " 'Automatic Emergency Braking',\n",
       " 'AdvanceTrac with Roll Stability Control',\n",
       " 'Dynamic Stability Control',\n",
       " 'Rear Parking Assist Sonar',\n",
       " 'Mazda Connected Services',\n",
       " 'Electronic Roll Mitigation',\n",
       " 'Lexus Safety System+ 3.5',\n",
       " 'StabiliTrak Electronic Stability Control',\n",
       " 'City Safety Collision Avoidance Technology',\n",
       " 'Multi-View Rear Camera',\n",
       " 'RearView Monitor',\n",
       " 'Hill Start Assist Control',\n",
       " 'Traction Control',\n",
       " 'ParkView Rear Back-Up Camera',\n",
       " 'Audi Pre Sense Basic',\n",
       " 'Forward Collision Warning',\n",
       " 'Forward Collision Avoidance-Assist with Pedestrian Detection',\n",
       " 'Rear View Camera',\n",
       " 'Electronic Stability Control',\n",
       " 'Audi Pre Sense City',\n",
       " 'Toyota Safety Sense 2.5+',\n",
       " 'Intelligent Forward Collision Warning',\n",
       " 'Rearview Camera',\n",
       " 'Blind Spot Monitoring',\n",
       " 'StabiliTrak',\n",
       " 'Rear Automatic Braking',\n",
       " 'ABS',\n",
       " 'Performance Traction Management',\n",
       " 'Rear Cross Traffic Alert',\n",
       " 'Nissan Safety Shield 360',\n",
       " 'Honda Sensing',\n",
       " 'Audi Side Assist',\n",
       " 'Road Departure Mitigation',\n",
       " 'Lane Departure Warning',\n",
       " 'AcuraWatch',\n",
       " 'AdvanceTrac with RSC',\n",
       " 'Forward Collision Avoidance Assist',\n",
       " 'Active Driving Assistant',\n",
       " 'Collision Mitigation',\n",
       " 'Lane Assist']"
      ]
     },
     "execution_count": 900,
     "metadata": {},
     "output_type": "execute_result"
    }
   ],
   "source": [
    "safety_feature_set_list"
   ]
  },
  {
   "cell_type": "code",
   "execution_count": 667,
   "id": "631a7def",
   "metadata": {},
   "outputs": [],
   "source": [
    "for feature_name in safety_feature_set_list:\n",
    "    df[feature_name] = df['Safety Features'].apply(lambda name : feature_name in name)"
   ]
  },
  {
   "cell_type": "code",
   "execution_count": 692,
   "id": "15d50f37",
   "metadata": {},
   "outputs": [],
   "source": [
    "df.drop('Safety Features', axis=1, inplace=True)"
   ]
  },
  {
   "cell_type": "code",
   "execution_count": null,
   "id": "0e34fe63",
   "metadata": {},
   "outputs": [],
   "source": []
  },
  {
   "cell_type": "code",
   "execution_count": null,
   "id": "a8a7117f",
   "metadata": {},
   "outputs": [],
   "source": []
  },
  {
   "cell_type": "code",
   "execution_count": 668,
   "id": "5b3c4641",
   "metadata": {},
   "outputs": [
    {
     "data": {
      "text/plain": [
       "' Cloth Seats, Power Windows, Keyless Entry                 '"
      ]
     },
     "execution_count": 668,
     "metadata": {},
     "output_type": "execute_result"
    }
   ],
   "source": [
    "df['Interior Features'][1]"
   ]
  },
  {
   "cell_type": "code",
   "execution_count": 669,
   "id": "6d5d91be",
   "metadata": {},
   "outputs": [],
   "source": [
    "interior_features_set = {0}"
   ]
  },
  {
   "cell_type": "code",
   "execution_count": 670,
   "id": "5b08345d",
   "metadata": {},
   "outputs": [],
   "source": [
    "for i in df['Interior Features']:\n",
    "#     print(i)\n",
    "    i = str(i).split(',')\n",
    "    for j in i:\n",
    "        interior_features_set.add(strip(j))"
   ]
  },
  {
   "cell_type": "code",
   "execution_count": 671,
   "id": "a25e699d",
   "metadata": {},
   "outputs": [],
   "source": [
    "interior_features_set.remove(0)"
   ]
  },
  {
   "cell_type": "code",
   "execution_count": 672,
   "id": "7924075e",
   "metadata": {},
   "outputs": [],
   "source": [
    "interior_features_set_list = list(interior_features_set)"
   ]
  },
  {
   "cell_type": "code",
   "execution_count": 673,
   "id": "b0cd30e3",
   "metadata": {},
   "outputs": [],
   "source": [
    "to_remove_int_feature_list = ['Power Sunroof',\n",
    "                        'Bose Premium Audio','Wireless Smartphone Charger','Three-Zone Automatic Climate Control','nan']"
   ]
  },
  {
   "cell_type": "code",
   "execution_count": 683,
   "id": "024667f8",
   "metadata": {},
   "outputs": [],
   "source": [
    "df['Interior Features'] = df['Interior Features'].str.strip()"
   ]
  },
  {
   "cell_type": "code",
   "execution_count": 684,
   "id": "73d1290c",
   "metadata": {},
   "outputs": [],
   "source": [
    "df['Interior Features'] = df['Interior Features'].str.lower()"
   ]
  },
  {
   "cell_type": "code",
   "execution_count": 685,
   "id": "0b281b2c",
   "metadata": {},
   "outputs": [],
   "source": [
    "df['Interior Features'] = df['Interior Features'].astype(str)"
   ]
  },
  {
   "cell_type": "code",
   "execution_count": 686,
   "id": "1221d722",
   "metadata": {},
   "outputs": [],
   "source": [
    "for i in interior_features_set_list:\n",
    "    if i in to_remove_int_feature_list:\n",
    "        interior_features_set_list.remove(i)"
   ]
  },
  {
   "cell_type": "code",
   "execution_count": 687,
   "id": "0b9b0630",
   "metadata": {},
   "outputs": [],
   "source": [
    "for feature_name in interior_features_set_list:\n",
    "    df[feature_name] = df['Interior Features'].apply(lambda name : feature_name in name)"
   ]
  },
  {
   "cell_type": "code",
   "execution_count": 688,
   "id": "1f155183",
   "metadata": {},
   "outputs": [
    {
     "data": {
      "text/html": [
       "<div>\n",
       "<style scoped>\n",
       "    .dataframe tbody tr th:only-of-type {\n",
       "        vertical-align: middle;\n",
       "    }\n",
       "\n",
       "    .dataframe tbody tr th {\n",
       "        vertical-align: top;\n",
       "    }\n",
       "\n",
       "    .dataframe thead th {\n",
       "        text-align: right;\n",
       "    }\n",
       "</style>\n",
       "<table border=\"1\" class=\"dataframe\">\n",
       "  <thead>\n",
       "    <tr style=\"text-align: right;\">\n",
       "      <th></th>\n",
       "      <th>Car Make</th>\n",
       "      <th>Car Model</th>\n",
       "      <th>Year</th>\n",
       "      <th>Body Type</th>\n",
       "      <th>Color Options</th>\n",
       "      <th>Fuel Type</th>\n",
       "      <th>Engine Size (L)</th>\n",
       "      <th>Horsepower</th>\n",
       "      <th>Torque (Nm)</th>\n",
       "      <th>Transmission Type</th>\n",
       "      <th>...</th>\n",
       "      <th>Leather Seats</th>\n",
       "      <th>Cloth Seats</th>\n",
       "      <th>Bose Audio System</th>\n",
       "      <th>Power Rear Window</th>\n",
       "      <th>Power Windows</th>\n",
       "      <th>Panoramic Moonroof</th>\n",
       "      <th>Dual-Zone Automatic Climate Control</th>\n",
       "      <th>Removable Doors</th>\n",
       "      <th>Power Tailgate</th>\n",
       "      <th>Keyless Access</th>\n",
       "    </tr>\n",
       "  </thead>\n",
       "  <tbody>\n",
       "    <tr>\n",
       "      <th>0</th>\n",
       "      <td>Toyota</td>\n",
       "      <td>Camry</td>\n",
       "      <td>2022.0</td>\n",
       "      <td>Sedan</td>\n",
       "      <td>White, Silver, Black</td>\n",
       "      <td>Gasoline</td>\n",
       "      <td>2.5</td>\n",
       "      <td>203.0</td>\n",
       "      <td>245.0</td>\n",
       "      <td>Automatic</td>\n",
       "      <td>...</td>\n",
       "      <td>False</td>\n",
       "      <td>False</td>\n",
       "      <td>False</td>\n",
       "      <td>False</td>\n",
       "      <td>False</td>\n",
       "      <td>False</td>\n",
       "      <td>False</td>\n",
       "      <td>False</td>\n",
       "      <td>False</td>\n",
       "      <td>False</td>\n",
       "    </tr>\n",
       "    <tr>\n",
       "      <th>1</th>\n",
       "      <td>Ford</td>\n",
       "      <td>F-150</td>\n",
       "      <td>2023.0</td>\n",
       "      <td>Truck</td>\n",
       "      <td>Blue, Red, Gray</td>\n",
       "      <td>Gasoline</td>\n",
       "      <td>3.5</td>\n",
       "      <td>375.0</td>\n",
       "      <td>475.0</td>\n",
       "      <td>Automatic</td>\n",
       "      <td>...</td>\n",
       "      <td>False</td>\n",
       "      <td>False</td>\n",
       "      <td>False</td>\n",
       "      <td>False</td>\n",
       "      <td>False</td>\n",
       "      <td>False</td>\n",
       "      <td>False</td>\n",
       "      <td>False</td>\n",
       "      <td>False</td>\n",
       "      <td>False</td>\n",
       "    </tr>\n",
       "    <tr>\n",
       "      <th>2</th>\n",
       "      <td>Honda</td>\n",
       "      <td>Civic</td>\n",
       "      <td>2023.0</td>\n",
       "      <td>Sedan</td>\n",
       "      <td>Black, Blue, Silver</td>\n",
       "      <td>Gasoline</td>\n",
       "      <td>1.8</td>\n",
       "      <td>158.0</td>\n",
       "      <td>180.0</td>\n",
       "      <td>CVT</td>\n",
       "      <td>...</td>\n",
       "      <td>False</td>\n",
       "      <td>False</td>\n",
       "      <td>False</td>\n",
       "      <td>False</td>\n",
       "      <td>False</td>\n",
       "      <td>False</td>\n",
       "      <td>False</td>\n",
       "      <td>False</td>\n",
       "      <td>False</td>\n",
       "      <td>False</td>\n",
       "    </tr>\n",
       "    <tr>\n",
       "      <th>3</th>\n",
       "      <td>Chevrolet</td>\n",
       "      <td>Tahoe</td>\n",
       "      <td>2023.0</td>\n",
       "      <td>SUV</td>\n",
       "      <td>Red, White, Gray</td>\n",
       "      <td>Gasoline</td>\n",
       "      <td>5.3</td>\n",
       "      <td>355.0</td>\n",
       "      <td>519.0</td>\n",
       "      <td>Automatic</td>\n",
       "      <td>...</td>\n",
       "      <td>False</td>\n",
       "      <td>False</td>\n",
       "      <td>False</td>\n",
       "      <td>False</td>\n",
       "      <td>False</td>\n",
       "      <td>False</td>\n",
       "      <td>False</td>\n",
       "      <td>False</td>\n",
       "      <td>False</td>\n",
       "      <td>False</td>\n",
       "    </tr>\n",
       "    <tr>\n",
       "      <th>5</th>\n",
       "      <td>Nissan</td>\n",
       "      <td>Rogue</td>\n",
       "      <td>2023.0</td>\n",
       "      <td>SUV</td>\n",
       "      <td>Green, Black, White</td>\n",
       "      <td>Gasoline</td>\n",
       "      <td>2.5</td>\n",
       "      <td>181.0</td>\n",
       "      <td>245.0</td>\n",
       "      <td>CVT</td>\n",
       "      <td>...</td>\n",
       "      <td>False</td>\n",
       "      <td>False</td>\n",
       "      <td>False</td>\n",
       "      <td>False</td>\n",
       "      <td>False</td>\n",
       "      <td>False</td>\n",
       "      <td>False</td>\n",
       "      <td>False</td>\n",
       "      <td>False</td>\n",
       "      <td>False</td>\n",
       "    </tr>\n",
       "    <tr>\n",
       "      <th>...</th>\n",
       "      <td>...</td>\n",
       "      <td>...</td>\n",
       "      <td>...</td>\n",
       "      <td>...</td>\n",
       "      <td>...</td>\n",
       "      <td>...</td>\n",
       "      <td>...</td>\n",
       "      <td>...</td>\n",
       "      <td>...</td>\n",
       "      <td>...</td>\n",
       "      <td>...</td>\n",
       "      <td>...</td>\n",
       "      <td>...</td>\n",
       "      <td>...</td>\n",
       "      <td>...</td>\n",
       "      <td>...</td>\n",
       "      <td>...</td>\n",
       "      <td>...</td>\n",
       "      <td>...</td>\n",
       "      <td>...</td>\n",
       "      <td>...</td>\n",
       "    </tr>\n",
       "    <tr>\n",
       "      <th>159</th>\n",
       "      <td>Nissan</td>\n",
       "      <td>Pathfinder</td>\n",
       "      <td>2023.0</td>\n",
       "      <td>SUV</td>\n",
       "      <td>Black, White, Gray</td>\n",
       "      <td>Gasoline</td>\n",
       "      <td>3.5</td>\n",
       "      <td>284.0</td>\n",
       "      <td>259.0</td>\n",
       "      <td>Automatic</td>\n",
       "      <td>...</td>\n",
       "      <td>False</td>\n",
       "      <td>False</td>\n",
       "      <td>False</td>\n",
       "      <td>False</td>\n",
       "      <td>False</td>\n",
       "      <td>False</td>\n",
       "      <td>False</td>\n",
       "      <td>False</td>\n",
       "      <td>False</td>\n",
       "      <td>False</td>\n",
       "    </tr>\n",
       "    <tr>\n",
       "      <th>160</th>\n",
       "      <td>Volvo</td>\n",
       "      <td>XC60</td>\n",
       "      <td>2023.0</td>\n",
       "      <td>SUV</td>\n",
       "      <td>Black, White, Silver</td>\n",
       "      <td>Gasoline</td>\n",
       "      <td>2.0</td>\n",
       "      <td>250.0</td>\n",
       "      <td>258.0</td>\n",
       "      <td>Automatic</td>\n",
       "      <td>...</td>\n",
       "      <td>False</td>\n",
       "      <td>False</td>\n",
       "      <td>False</td>\n",
       "      <td>False</td>\n",
       "      <td>False</td>\n",
       "      <td>False</td>\n",
       "      <td>False</td>\n",
       "      <td>False</td>\n",
       "      <td>False</td>\n",
       "      <td>False</td>\n",
       "    </tr>\n",
       "    <tr>\n",
       "      <th>161</th>\n",
       "      <td>Subaru</td>\n",
       "      <td>Legacy</td>\n",
       "      <td>2023.0</td>\n",
       "      <td>Sedan</td>\n",
       "      <td>Blue, White, Gray</td>\n",
       "      <td>Gasoline</td>\n",
       "      <td>2.4</td>\n",
       "      <td>182.0</td>\n",
       "      <td>176.0</td>\n",
       "      <td>CVT</td>\n",
       "      <td>...</td>\n",
       "      <td>False</td>\n",
       "      <td>False</td>\n",
       "      <td>False</td>\n",
       "      <td>False</td>\n",
       "      <td>False</td>\n",
       "      <td>False</td>\n",
       "      <td>False</td>\n",
       "      <td>False</td>\n",
       "      <td>False</td>\n",
       "      <td>False</td>\n",
       "    </tr>\n",
       "    <tr>\n",
       "      <th>162</th>\n",
       "      <td>Acura</td>\n",
       "      <td>MDX</td>\n",
       "      <td>2023.0</td>\n",
       "      <td>SUV</td>\n",
       "      <td>Black, White, Gray</td>\n",
       "      <td>Gasoline</td>\n",
       "      <td>3.5</td>\n",
       "      <td>290.0</td>\n",
       "      <td>267.0</td>\n",
       "      <td>Automatic</td>\n",
       "      <td>...</td>\n",
       "      <td>False</td>\n",
       "      <td>False</td>\n",
       "      <td>False</td>\n",
       "      <td>False</td>\n",
       "      <td>False</td>\n",
       "      <td>False</td>\n",
       "      <td>False</td>\n",
       "      <td>False</td>\n",
       "      <td>False</td>\n",
       "      <td>False</td>\n",
       "    </tr>\n",
       "    <tr>\n",
       "      <th>163</th>\n",
       "      <td>Mazda</td>\n",
       "      <td>CX-5</td>\n",
       "      <td>2023.0</td>\n",
       "      <td>SUV</td>\n",
       "      <td>Blue, White, Gray</td>\n",
       "      <td>Gasoline</td>\n",
       "      <td>2.5</td>\n",
       "      <td>187.0</td>\n",
       "      <td>186.0</td>\n",
       "      <td>Automatic</td>\n",
       "      <td>...</td>\n",
       "      <td>False</td>\n",
       "      <td>False</td>\n",
       "      <td>False</td>\n",
       "      <td>False</td>\n",
       "      <td>False</td>\n",
       "      <td>False</td>\n",
       "      <td>False</td>\n",
       "      <td>False</td>\n",
       "      <td>False</td>\n",
       "      <td>False</td>\n",
       "    </tr>\n",
       "  </tbody>\n",
       "</table>\n",
       "<p>149 rows × 120 columns</p>\n",
       "</div>"
      ],
      "text/plain": [
       "      Car Make   Car Model    Year Body Type         Color Options Fuel Type  \\\n",
       "0       Toyota       Camry  2022.0     Sedan  White, Silver, Black  Gasoline   \n",
       "1         Ford       F-150  2023.0     Truck       Blue, Red, Gray  Gasoline   \n",
       "2        Honda       Civic  2023.0     Sedan   Black, Blue, Silver  Gasoline   \n",
       "3    Chevrolet       Tahoe  2023.0       SUV      Red, White, Gray  Gasoline   \n",
       "5       Nissan       Rogue  2023.0       SUV   Green, Black, White  Gasoline   \n",
       "..         ...         ...     ...       ...                   ...       ...   \n",
       "159     Nissan  Pathfinder  2023.0       SUV    Black, White, Gray  Gasoline   \n",
       "160      Volvo        XC60  2023.0       SUV  Black, White, Silver  Gasoline   \n",
       "161     Subaru      Legacy  2023.0     Sedan     Blue, White, Gray  Gasoline   \n",
       "162      Acura         MDX  2023.0       SUV    Black, White, Gray  Gasoline   \n",
       "163      Mazda        CX-5  2023.0       SUV     Blue, White, Gray  Gasoline   \n",
       "\n",
       "     Engine Size (L)  Horsepower  Torque (Nm) Transmission Type  ...  \\\n",
       "0                2.5       203.0        245.0         Automatic  ...   \n",
       "1                3.5       375.0        475.0         Automatic  ...   \n",
       "2                1.8       158.0        180.0               CVT  ...   \n",
       "3                5.3       355.0        519.0         Automatic  ...   \n",
       "5                2.5       181.0        245.0               CVT  ...   \n",
       "..               ...         ...          ...               ...  ...   \n",
       "159              3.5       284.0        259.0         Automatic  ...   \n",
       "160              2.0       250.0        258.0         Automatic  ...   \n",
       "161              2.4       182.0        176.0               CVT  ...   \n",
       "162              3.5       290.0        267.0         Automatic  ...   \n",
       "163              2.5       187.0        186.0         Automatic  ...   \n",
       "\n",
       "    Leather Seats  Cloth Seats  Bose Audio System Power Rear Window  \\\n",
       "0           False        False              False             False   \n",
       "1           False        False              False             False   \n",
       "2           False        False              False             False   \n",
       "3           False        False              False             False   \n",
       "5           False        False              False             False   \n",
       "..            ...          ...                ...               ...   \n",
       "159         False        False              False             False   \n",
       "160         False        False              False             False   \n",
       "161         False        False              False             False   \n",
       "162         False        False              False             False   \n",
       "163         False        False              False             False   \n",
       "\n",
       "    Power Windows Panoramic Moonroof Dual-Zone Automatic Climate Control  \\\n",
       "0           False              False                               False   \n",
       "1           False              False                               False   \n",
       "2           False              False                               False   \n",
       "3           False              False                               False   \n",
       "5           False              False                               False   \n",
       "..            ...                ...                                 ...   \n",
       "159         False              False                               False   \n",
       "160         False              False                               False   \n",
       "161         False              False                               False   \n",
       "162         False              False                               False   \n",
       "163         False              False                               False   \n",
       "\n",
       "     Removable Doors Power Tailgate  Keyless Access  \n",
       "0              False          False           False  \n",
       "1              False          False           False  \n",
       "2              False          False           False  \n",
       "3              False          False           False  \n",
       "5              False          False           False  \n",
       "..               ...            ...             ...  \n",
       "159            False          False           False  \n",
       "160            False          False           False  \n",
       "161            False          False           False  \n",
       "162            False          False           False  \n",
       "163            False          False           False  \n",
       "\n",
       "[149 rows x 120 columns]"
      ]
     },
     "execution_count": 688,
     "metadata": {},
     "output_type": "execute_result"
    }
   ],
   "source": [
    "df"
   ]
  },
  {
   "cell_type": "code",
   "execution_count": 691,
   "id": "d011c839",
   "metadata": {},
   "outputs": [],
   "source": [
    "df.drop('Interior Features', axis=1, inplace=True)"
   ]
  },
  {
   "cell_type": "code",
   "execution_count": null,
   "id": "04b3f2e8",
   "metadata": {},
   "outputs": [],
   "source": []
  },
  {
   "cell_type": "code",
   "execution_count": null,
   "id": "c8406751",
   "metadata": {},
   "outputs": [],
   "source": []
  },
  {
   "cell_type": "code",
   "execution_count": 726,
   "id": "ffc838c0",
   "metadata": {},
   "outputs": [],
   "source": [
    "df['Exterior Features'] = df['Exterior Features'].str.strip()\n",
    "df['Exterior Features'] = df['Exterior Features'].str.lower()\n",
    "df['Exterior Features'] = df['Exterior Features'].astype(str)"
   ]
  },
  {
   "cell_type": "code",
   "execution_count": 727,
   "id": "ea18c023",
   "metadata": {},
   "outputs": [],
   "source": [
    "Exterior_Features_set = {0}"
   ]
  },
  {
   "cell_type": "code",
   "execution_count": 728,
   "id": "34c9b507",
   "metadata": {},
   "outputs": [],
   "source": [
    "for i in df['Exterior Features']:\n",
    "    i = str(i).split(',')\n",
    "#     print(i)\n",
    "    for j in i:\n",
    "        Exterior_Features_set.add(strip(j))"
   ]
  },
  {
   "cell_type": "code",
   "execution_count": null,
   "id": "aee3786c",
   "metadata": {},
   "outputs": [],
   "source": []
  },
  {
   "cell_type": "code",
   "execution_count": 729,
   "id": "d7a7c028",
   "metadata": {},
   "outputs": [],
   "source": [
    "Exterior_Features_set.remove(0)"
   ]
  },
  {
   "cell_type": "code",
   "execution_count": 730,
   "id": "00718c46",
   "metadata": {},
   "outputs": [],
   "source": [
    "Exterior_Features_set_list = list(Exterior_Features_set)"
   ]
  },
  {
   "cell_type": "code",
   "execution_count": 731,
   "id": "99f365b4",
   "metadata": {},
   "outputs": [
    {
     "data": {
      "text/plain": [
       "['tow hooks',\n",
       " 'tow hitch',\n",
       " 'off-road suspension',\n",
       " 'dual exhaust',\n",
       " 'power sunroof',\n",
       " '17-inch alloy wheels',\n",
       " 'led headlights',\n",
       " '19-inch alloy wheels',\n",
       " '20-inch alloy wheels',\n",
       " 'power liftgate',\n",
       " 'nan',\n",
       " '22-inch alloy wheels',\n",
       " '18-inch alloy wheels',\n",
       " 'sunroof',\n",
       " 'dual power sliding doors',\n",
       " '16-inch alloy wheels',\n",
       " 'power sliding doors',\n",
       " 'led taillights',\n",
       " 'roof rails',\n",
       " 'power trunk',\n",
       " 'bedliner',\n",
       " 'deck rail system',\n",
       " 'removable top',\n",
       " 'bed liner',\n",
       " 'led daytime running lights',\n",
       " 'rear spoiler',\n",
       " 'panoramic sunroof',\n",
       " 'alloy wheels']"
      ]
     },
     "execution_count": 731,
     "metadata": {},
     "output_type": "execute_result"
    }
   ],
   "source": [
    "Exterior_Features_set_list"
   ]
  },
  {
   "cell_type": "code",
   "execution_count": 732,
   "id": "3d35df4f",
   "metadata": {},
   "outputs": [],
   "source": [
    "to_remove_list = ['Power Sunroof','nan']"
   ]
  },
  {
   "cell_type": "code",
   "execution_count": 733,
   "id": "01ef58cf",
   "metadata": {},
   "outputs": [],
   "source": [
    "for i in Exterior_Features_set_list:\n",
    "    if i in to_remove_list:\n",
    "        Exterior_Features_set_list.remove(i)"
   ]
  },
  {
   "cell_type": "code",
   "execution_count": 734,
   "id": "1cb0191d",
   "metadata": {},
   "outputs": [],
   "source": [
    "for feature in Exterior_Features_set_list:\n",
    "    df[feature] = df['Exterior Features'].apply(lambda name : feature in name)"
   ]
  },
  {
   "cell_type": "code",
   "execution_count": 736,
   "id": "48981168",
   "metadata": {},
   "outputs": [],
   "source": [
    "df.drop('Exterior Features',axis=1, inplace=True)\n",
    "df.drop('Color Options', axis=1, inplace=True)"
   ]
  },
  {
   "cell_type": "code",
   "execution_count": null,
   "id": "7d9c09f5",
   "metadata": {},
   "outputs": [],
   "source": []
  },
  {
   "cell_type": "markdown",
   "id": "12f7851c",
   "metadata": {},
   "source": [
    "# Now change the True, False values to 1 and 0."
   ]
  },
  {
   "cell_type": "code",
   "execution_count": 739,
   "id": "c6a8ee4d",
   "metadata": {},
   "outputs": [],
   "source": [
    "bool_cols = [i for i in df.columns if df[i].dtype == 'bool']"
   ]
  },
  {
   "cell_type": "code",
   "execution_count": 897,
   "id": "9ed07597",
   "metadata": {},
   "outputs": [
    {
     "data": {
      "text/plain": [
       "['Trailer Brake Control',\n",
       " 'Forward Collision Alert',\n",
       " 'Trailer-Sway Control',\n",
       " 'Rear Cross Path Detection',\n",
       " 'Traffic Sign Assist',\n",
       " 'Lexus Safety System+ 2.5',\n",
       " 'Trailer Sway Control',\n",
       " 'Parking Assistant Plus',\n",
       " 'EyeSight Driver Assist Technology',\n",
       " 'Trail Control',\n",
       " 'Adaptive Cruise Control',\n",
       " 'Audi Pre Sense Front',\n",
       " 'Blind Spot Warning',\n",
       " 'Rear Traffic Alert',\n",
       " 'Airbags',\n",
       " 'Parking Assist',\n",
       " 'Predictive Forward Collision Warning',\n",
       " 'Ford Co-Pilot360',\n",
       " 'Active Distance Assist',\n",
       " 'AdvanceTrac Electronic Stability Control',\n",
       " 'Lexus Safety System+ 3.0',\n",
       " 'Blind Spot Information System',\n",
       " 'Lane Keep Assist',\n",
       " 'Active Brake Assist',\n",
       " 'Backup Camera',\n",
       " 'Collision Mitigation Braking System',\n",
       " 'Forward Collision-Avoidance Assist',\n",
       " 'Toyota Safety Sense P',\n",
       " 'Automatic Emergency Braking',\n",
       " 'AdvanceTrac with Roll Stability Control',\n",
       " 'Dynamic Stability Control',\n",
       " 'Rear Parking Assist Sonar',\n",
       " 'Mazda Connected Services',\n",
       " 'Electronic Roll Mitigation',\n",
       " 'Lexus Safety System+ 3.5',\n",
       " 'StabiliTrak Electronic Stability Control',\n",
       " 'City Safety Collision Avoidance Technology',\n",
       " 'Multi-View Rear Camera',\n",
       " 'RearView Monitor',\n",
       " 'Hill Start Assist Control',\n",
       " 'Traction Control',\n",
       " 'ParkView Rear Back-Up Camera',\n",
       " 'Audi Pre Sense Basic',\n",
       " 'Forward Collision Warning',\n",
       " 'Forward Collision Avoidance-Assist with Pedestrian Detection',\n",
       " 'Rear View Camera',\n",
       " 'Electronic Stability Control',\n",
       " 'Audi Pre Sense City',\n",
       " 'Toyota Safety Sense 2.5+',\n",
       " 'Intelligent Forward Collision Warning',\n",
       " 'Rearview Camera',\n",
       " 'Blind Spot Monitoring',\n",
       " 'StabiliTrak',\n",
       " 'Rear Automatic Braking',\n",
       " 'ABS',\n",
       " 'Performance Traction Management',\n",
       " 'Rear Cross Traffic Alert',\n",
       " 'Nissan Safety Shield 360',\n",
       " 'Honda Sensing',\n",
       " 'Audi Side Assist',\n",
       " 'Road Departure Mitigation',\n",
       " 'Lane Departure Warning',\n",
       " 'AcuraWatch',\n",
       " 'AdvanceTrac with RSC',\n",
       " 'Forward Collision Avoidance Assist',\n",
       " 'Active Driving Assistant',\n",
       " 'Collision Mitigation',\n",
       " 'Lane Assist',\n",
       " 'Push Button Start',\n",
       " 'Power Front Seats',\n",
       " 'Power Fold Third-Row Seats',\n",
       " 'Heated Front Seats',\n",
       " 'Wireless Smartphone Charging',\n",
       " 'Power Front Windows',\n",
       " 'Power Liftgate',\n",
       " 'Rear Occupant Alert',\n",
       " 'Lane Keeping Assist',\n",
       " 'Removable Top',\n",
       " 'Keyless Entry',\n",
       " \"Power Driver's Seat\",\n",
       " 'Third-Row Seating',\n",
       " 'Tri-Zone Automatic Climate Control',\n",
       " 'Heated and Ventilated Front Seats',\n",
       " 'Ambient Lighting',\n",
       " 'Bluetooth Connectivity',\n",
       " 'Dual-Zone Climate Control',\n",
       " 'Panoramic Sunroof',\n",
       " 'Tri-Zone Climate Control',\n",
       " 'Sunroof',\n",
       " 'Power Mirrors',\n",
       " 'Leather Seats',\n",
       " 'Cloth Seats',\n",
       " 'Bose Audio System',\n",
       " 'Power Rear Window',\n",
       " 'Power Windows',\n",
       " 'Panoramic Moonroof',\n",
       " 'Dual-Zone Automatic Climate Control',\n",
       " 'Removable Doors',\n",
       " 'Power Tailgate',\n",
       " 'Keyless Access',\n",
       " 'tow hooks',\n",
       " 'tow hitch',\n",
       " 'off-road suspension',\n",
       " 'dual exhaust',\n",
       " 'power sunroof',\n",
       " '17-inch alloy wheels',\n",
       " 'led headlights',\n",
       " '19-inch alloy wheels',\n",
       " '20-inch alloy wheels',\n",
       " 'power liftgate',\n",
       " '22-inch alloy wheels',\n",
       " '18-inch alloy wheels',\n",
       " 'sunroof',\n",
       " 'dual power sliding doors',\n",
       " '16-inch alloy wheels',\n",
       " 'power sliding doors',\n",
       " 'led taillights',\n",
       " 'roof rails',\n",
       " 'power trunk',\n",
       " 'bedliner',\n",
       " 'deck rail system',\n",
       " 'removable top',\n",
       " 'bed liner',\n",
       " 'led daytime running lights',\n",
       " 'rear spoiler',\n",
       " 'panoramic sunroof',\n",
       " 'alloy wheels']"
      ]
     },
     "execution_count": 897,
     "metadata": {},
     "output_type": "execute_result"
    }
   ],
   "source": [
    "bool_cols"
   ]
  },
  {
   "cell_type": "code",
   "execution_count": null,
   "id": "cf712cdf",
   "metadata": {},
   "outputs": [],
   "source": [
    "for i in bool_cols:\n",
    "    df[i] = df[i].map({True : 1, False : 0})"
   ]
  },
  {
   "cell_type": "markdown",
   "id": "735e0ba0",
   "metadata": {},
   "source": [
    "# For the sake of the data cleansing it is good practice to make the copy of the dataframe in between our work so making a copy of df in a new_df"
   ]
  },
  {
   "cell_type": "code",
   "execution_count": 904,
   "id": "475b59ad",
   "metadata": {},
   "outputs": [],
   "source": [
    "new_df = df.copy()"
   ]
  },
  {
   "cell_type": "code",
   "execution_count": 762,
   "id": "66607a57",
   "metadata": {},
   "outputs": [
    {
     "data": {
      "text/html": [
       "<div>\n",
       "<style scoped>\n",
       "    .dataframe tbody tr th:only-of-type {\n",
       "        vertical-align: middle;\n",
       "    }\n",
       "\n",
       "    .dataframe tbody tr th {\n",
       "        vertical-align: top;\n",
       "    }\n",
       "\n",
       "    .dataframe thead th {\n",
       "        text-align: right;\n",
       "    }\n",
       "</style>\n",
       "<table border=\"1\" class=\"dataframe\">\n",
       "  <thead>\n",
       "    <tr style=\"text-align: right;\">\n",
       "      <th></th>\n",
       "      <th>Car Make</th>\n",
       "      <th>Car Model</th>\n",
       "      <th>Year</th>\n",
       "      <th>Body Type</th>\n",
       "      <th>Fuel Type</th>\n",
       "      <th>Engine Size (L)</th>\n",
       "      <th>Horsepower</th>\n",
       "      <th>Torque (Nm)</th>\n",
       "      <th>Transmission Type</th>\n",
       "      <th>Acceleration (0-60 mph)</th>\n",
       "      <th>...</th>\n",
       "      <th>roof rails</th>\n",
       "      <th>power trunk</th>\n",
       "      <th>bedliner</th>\n",
       "      <th>deck rail system</th>\n",
       "      <th>removable top</th>\n",
       "      <th>bed liner</th>\n",
       "      <th>led daytime running lights</th>\n",
       "      <th>rear spoiler</th>\n",
       "      <th>panoramic sunroof</th>\n",
       "      <th>alloy wheels</th>\n",
       "    </tr>\n",
       "  </thead>\n",
       "  <tbody>\n",
       "    <tr>\n",
       "      <th>0</th>\n",
       "      <td>Toyota</td>\n",
       "      <td>Camry</td>\n",
       "      <td>2022.0</td>\n",
       "      <td>Sedan</td>\n",
       "      <td>Gasoline</td>\n",
       "      <td>2.5</td>\n",
       "      <td>203.0</td>\n",
       "      <td>245.0</td>\n",
       "      <td>Automatic</td>\n",
       "      <td>7.9</td>\n",
       "      <td>...</td>\n",
       "      <td>0</td>\n",
       "      <td>0</td>\n",
       "      <td>0</td>\n",
       "      <td>0</td>\n",
       "      <td>0</td>\n",
       "      <td>0</td>\n",
       "      <td>0</td>\n",
       "      <td>0</td>\n",
       "      <td>0</td>\n",
       "      <td>1</td>\n",
       "    </tr>\n",
       "    <tr>\n",
       "      <th>1</th>\n",
       "      <td>Ford</td>\n",
       "      <td>F-150</td>\n",
       "      <td>2023.0</td>\n",
       "      <td>Truck</td>\n",
       "      <td>Gasoline</td>\n",
       "      <td>3.5</td>\n",
       "      <td>375.0</td>\n",
       "      <td>475.0</td>\n",
       "      <td>Automatic</td>\n",
       "      <td>6.1</td>\n",
       "      <td>...</td>\n",
       "      <td>0</td>\n",
       "      <td>0</td>\n",
       "      <td>0</td>\n",
       "      <td>0</td>\n",
       "      <td>0</td>\n",
       "      <td>1</td>\n",
       "      <td>0</td>\n",
       "      <td>0</td>\n",
       "      <td>0</td>\n",
       "      <td>0</td>\n",
       "    </tr>\n",
       "    <tr>\n",
       "      <th>2</th>\n",
       "      <td>Honda</td>\n",
       "      <td>Civic</td>\n",
       "      <td>2023.0</td>\n",
       "      <td>Sedan</td>\n",
       "      <td>Gasoline</td>\n",
       "      <td>1.8</td>\n",
       "      <td>158.0</td>\n",
       "      <td>180.0</td>\n",
       "      <td>CVT</td>\n",
       "      <td>8.2</td>\n",
       "      <td>...</td>\n",
       "      <td>0</td>\n",
       "      <td>0</td>\n",
       "      <td>0</td>\n",
       "      <td>0</td>\n",
       "      <td>0</td>\n",
       "      <td>0</td>\n",
       "      <td>1</td>\n",
       "      <td>0</td>\n",
       "      <td>0</td>\n",
       "      <td>1</td>\n",
       "    </tr>\n",
       "    <tr>\n",
       "      <th>3</th>\n",
       "      <td>Chevrolet</td>\n",
       "      <td>Tahoe</td>\n",
       "      <td>2023.0</td>\n",
       "      <td>SUV</td>\n",
       "      <td>Gasoline</td>\n",
       "      <td>5.3</td>\n",
       "      <td>355.0</td>\n",
       "      <td>519.0</td>\n",
       "      <td>Automatic</td>\n",
       "      <td>7.1</td>\n",
       "      <td>...</td>\n",
       "      <td>1</td>\n",
       "      <td>0</td>\n",
       "      <td>0</td>\n",
       "      <td>0</td>\n",
       "      <td>0</td>\n",
       "      <td>0</td>\n",
       "      <td>0</td>\n",
       "      <td>0</td>\n",
       "      <td>0</td>\n",
       "      <td>0</td>\n",
       "    </tr>\n",
       "    <tr>\n",
       "      <th>5</th>\n",
       "      <td>Nissan</td>\n",
       "      <td>Rogue</td>\n",
       "      <td>2023.0</td>\n",
       "      <td>SUV</td>\n",
       "      <td>Gasoline</td>\n",
       "      <td>2.5</td>\n",
       "      <td>181.0</td>\n",
       "      <td>245.0</td>\n",
       "      <td>CVT</td>\n",
       "      <td>8.6</td>\n",
       "      <td>...</td>\n",
       "      <td>1</td>\n",
       "      <td>0</td>\n",
       "      <td>0</td>\n",
       "      <td>0</td>\n",
       "      <td>0</td>\n",
       "      <td>0</td>\n",
       "      <td>0</td>\n",
       "      <td>0</td>\n",
       "      <td>0</td>\n",
       "      <td>0</td>\n",
       "    </tr>\n",
       "    <tr>\n",
       "      <th>...</th>\n",
       "      <td>...</td>\n",
       "      <td>...</td>\n",
       "      <td>...</td>\n",
       "      <td>...</td>\n",
       "      <td>...</td>\n",
       "      <td>...</td>\n",
       "      <td>...</td>\n",
       "      <td>...</td>\n",
       "      <td>...</td>\n",
       "      <td>...</td>\n",
       "      <td>...</td>\n",
       "      <td>...</td>\n",
       "      <td>...</td>\n",
       "      <td>...</td>\n",
       "      <td>...</td>\n",
       "      <td>...</td>\n",
       "      <td>...</td>\n",
       "      <td>...</td>\n",
       "      <td>...</td>\n",
       "      <td>...</td>\n",
       "      <td>...</td>\n",
       "    </tr>\n",
       "    <tr>\n",
       "      <th>159</th>\n",
       "      <td>Nissan</td>\n",
       "      <td>Pathfinder</td>\n",
       "      <td>2023.0</td>\n",
       "      <td>SUV</td>\n",
       "      <td>Gasoline</td>\n",
       "      <td>3.5</td>\n",
       "      <td>284.0</td>\n",
       "      <td>259.0</td>\n",
       "      <td>Automatic</td>\n",
       "      <td>6.4</td>\n",
       "      <td>...</td>\n",
       "      <td>0</td>\n",
       "      <td>0</td>\n",
       "      <td>0</td>\n",
       "      <td>0</td>\n",
       "      <td>0</td>\n",
       "      <td>0</td>\n",
       "      <td>0</td>\n",
       "      <td>0</td>\n",
       "      <td>0</td>\n",
       "      <td>1</td>\n",
       "    </tr>\n",
       "    <tr>\n",
       "      <th>160</th>\n",
       "      <td>Volvo</td>\n",
       "      <td>XC60</td>\n",
       "      <td>2023.0</td>\n",
       "      <td>SUV</td>\n",
       "      <td>Gasoline</td>\n",
       "      <td>2.0</td>\n",
       "      <td>250.0</td>\n",
       "      <td>258.0</td>\n",
       "      <td>Automatic</td>\n",
       "      <td>6.4</td>\n",
       "      <td>...</td>\n",
       "      <td>0</td>\n",
       "      <td>0</td>\n",
       "      <td>0</td>\n",
       "      <td>0</td>\n",
       "      <td>0</td>\n",
       "      <td>0</td>\n",
       "      <td>0</td>\n",
       "      <td>0</td>\n",
       "      <td>0</td>\n",
       "      <td>1</td>\n",
       "    </tr>\n",
       "    <tr>\n",
       "      <th>161</th>\n",
       "      <td>Subaru</td>\n",
       "      <td>Legacy</td>\n",
       "      <td>2023.0</td>\n",
       "      <td>Sedan</td>\n",
       "      <td>Gasoline</td>\n",
       "      <td>2.4</td>\n",
       "      <td>182.0</td>\n",
       "      <td>176.0</td>\n",
       "      <td>CVT</td>\n",
       "      <td>8.9</td>\n",
       "      <td>...</td>\n",
       "      <td>0</td>\n",
       "      <td>0</td>\n",
       "      <td>0</td>\n",
       "      <td>0</td>\n",
       "      <td>0</td>\n",
       "      <td>0</td>\n",
       "      <td>0</td>\n",
       "      <td>0</td>\n",
       "      <td>0</td>\n",
       "      <td>1</td>\n",
       "    </tr>\n",
       "    <tr>\n",
       "      <th>162</th>\n",
       "      <td>Acura</td>\n",
       "      <td>MDX</td>\n",
       "      <td>2023.0</td>\n",
       "      <td>SUV</td>\n",
       "      <td>Gasoline</td>\n",
       "      <td>3.5</td>\n",
       "      <td>290.0</td>\n",
       "      <td>267.0</td>\n",
       "      <td>Automatic</td>\n",
       "      <td>6.2</td>\n",
       "      <td>...</td>\n",
       "      <td>0</td>\n",
       "      <td>0</td>\n",
       "      <td>0</td>\n",
       "      <td>0</td>\n",
       "      <td>0</td>\n",
       "      <td>0</td>\n",
       "      <td>0</td>\n",
       "      <td>0</td>\n",
       "      <td>0</td>\n",
       "      <td>1</td>\n",
       "    </tr>\n",
       "    <tr>\n",
       "      <th>163</th>\n",
       "      <td>Mazda</td>\n",
       "      <td>CX-5</td>\n",
       "      <td>2023.0</td>\n",
       "      <td>SUV</td>\n",
       "      <td>Gasoline</td>\n",
       "      <td>2.5</td>\n",
       "      <td>187.0</td>\n",
       "      <td>186.0</td>\n",
       "      <td>Automatic</td>\n",
       "      <td>7.6</td>\n",
       "      <td>...</td>\n",
       "      <td>0</td>\n",
       "      <td>0</td>\n",
       "      <td>0</td>\n",
       "      <td>0</td>\n",
       "      <td>0</td>\n",
       "      <td>0</td>\n",
       "      <td>0</td>\n",
       "      <td>0</td>\n",
       "      <td>0</td>\n",
       "      <td>0</td>\n",
       "    </tr>\n",
       "  </tbody>\n",
       "</table>\n",
       "<p>149 rows × 143 columns</p>\n",
       "</div>"
      ],
      "text/plain": [
       "      Car Make   Car Model    Year Body Type Fuel Type  Engine Size (L)  \\\n",
       "0       Toyota       Camry  2022.0     Sedan  Gasoline              2.5   \n",
       "1         Ford       F-150  2023.0     Truck  Gasoline              3.5   \n",
       "2        Honda       Civic  2023.0     Sedan  Gasoline              1.8   \n",
       "3    Chevrolet       Tahoe  2023.0       SUV  Gasoline              5.3   \n",
       "5       Nissan       Rogue  2023.0       SUV  Gasoline              2.5   \n",
       "..         ...         ...     ...       ...       ...              ...   \n",
       "159     Nissan  Pathfinder  2023.0       SUV  Gasoline              3.5   \n",
       "160      Volvo        XC60  2023.0       SUV  Gasoline              2.0   \n",
       "161     Subaru      Legacy  2023.0     Sedan  Gasoline              2.4   \n",
       "162      Acura         MDX  2023.0       SUV  Gasoline              3.5   \n",
       "163      Mazda        CX-5  2023.0       SUV  Gasoline              2.5   \n",
       "\n",
       "     Horsepower  Torque (Nm) Transmission Type Acceleration (0-60 mph)  ...  \\\n",
       "0         203.0        245.0         Automatic                     7.9  ...   \n",
       "1         375.0        475.0         Automatic                     6.1  ...   \n",
       "2         158.0        180.0               CVT                     8.2  ...   \n",
       "3         355.0        519.0         Automatic                     7.1  ...   \n",
       "5         181.0        245.0               CVT                     8.6  ...   \n",
       "..          ...          ...               ...                     ...  ...   \n",
       "159       284.0        259.0         Automatic                     6.4  ...   \n",
       "160       250.0        258.0         Automatic                     6.4  ...   \n",
       "161       182.0        176.0               CVT                     8.9  ...   \n",
       "162       290.0        267.0         Automatic                     6.2  ...   \n",
       "163       187.0        186.0         Automatic                     7.6  ...   \n",
       "\n",
       "     roof rails  power trunk bedliner  deck rail system removable top  \\\n",
       "0             0            0        0                 0             0   \n",
       "1             0            0        0                 0             0   \n",
       "2             0            0        0                 0             0   \n",
       "3             1            0        0                 0             0   \n",
       "5             1            0        0                 0             0   \n",
       "..          ...          ...      ...               ...           ...   \n",
       "159           0            0        0                 0             0   \n",
       "160           0            0        0                 0             0   \n",
       "161           0            0        0                 0             0   \n",
       "162           0            0        0                 0             0   \n",
       "163           0            0        0                 0             0   \n",
       "\n",
       "     bed liner  led daytime running lights  rear spoiler  panoramic sunroof  \\\n",
       "0            0                           0             0                  0   \n",
       "1            1                           0             0                  0   \n",
       "2            0                           1             0                  0   \n",
       "3            0                           0             0                  0   \n",
       "5            0                           0             0                  0   \n",
       "..         ...                         ...           ...                ...   \n",
       "159          0                           0             0                  0   \n",
       "160          0                           0             0                  0   \n",
       "161          0                           0             0                  0   \n",
       "162          0                           0             0                  0   \n",
       "163          0                           0             0                  0   \n",
       "\n",
       "     alloy wheels  \n",
       "0               1  \n",
       "1               0  \n",
       "2               1  \n",
       "3               0  \n",
       "5               0  \n",
       "..            ...  \n",
       "159             1  \n",
       "160             1  \n",
       "161             1  \n",
       "162             1  \n",
       "163             0  \n",
       "\n",
       "[149 rows x 143 columns]"
      ]
     },
     "execution_count": 762,
     "metadata": {},
     "output_type": "execute_result"
    }
   ],
   "source": [
    "new_df"
   ]
  },
  {
   "cell_type": "code",
   "execution_count": null,
   "id": "309a9bd4",
   "metadata": {},
   "outputs": [],
   "source": []
  },
  {
   "cell_type": "markdown",
   "id": "b04c0e90",
   "metadata": {},
   "source": [
    "# Separating the categorical and numeriacl columns"
   ]
  },
  {
   "cell_type": "code",
   "execution_count": 810,
   "id": "a4ddc705",
   "metadata": {},
   "outputs": [
    {
     "data": {
      "text/plain": [
       "['Car Make',\n",
       " 'Car Model',\n",
       " 'Body Type',\n",
       " 'Fuel Type',\n",
       " 'Transmission Type',\n",
       " 'Acceleration (0-60 mph)',\n",
       " 'Entertainment Features',\n",
       " 'Customer Ratings']"
      ]
     },
     "execution_count": 810,
     "metadata": {},
     "output_type": "execute_result"
    }
   ],
   "source": [
    "cat_cols = [i for i in new_df.columns if new_df[i].dtype == 'object']\n",
    "cat_cols"
   ]
  },
  {
   "cell_type": "code",
   "execution_count": 812,
   "id": "a1a9a725",
   "metadata": {},
   "outputs": [
    {
     "data": {
      "text/plain": [
       "8"
      ]
     },
     "execution_count": 812,
     "metadata": {},
     "output_type": "execute_result"
    }
   ],
   "source": [
    "len(cat_cols)"
   ]
  },
  {
   "cell_type": "code",
   "execution_count": 828,
   "id": "54fa0d17",
   "metadata": {},
   "outputs": [
    {
     "data": {
      "text/plain": [
       "['Year',\n",
       " 'Engine Size (L)',\n",
       " 'Horsepower',\n",
       " 'Torque (Nm)',\n",
       " 'Top Speed (mph)',\n",
       " 'Mileage (MPG)',\n",
       " 'Sales Figures (Units Sold)',\n",
       " 'Trailer Brake Control',\n",
       " 'Forward Collision Alert',\n",
       " 'Trailer-Sway Control',\n",
       " 'Rear Cross Path Detection',\n",
       " 'Traffic Sign Assist',\n",
       " 'Lexus Safety System+ 2.5',\n",
       " 'Trailer Sway Control',\n",
       " 'Parking Assistant Plus',\n",
       " 'EyeSight Driver Assist Technology',\n",
       " 'Trail Control',\n",
       " 'Adaptive Cruise Control',\n",
       " 'Audi Pre Sense Front',\n",
       " 'Blind Spot Warning',\n",
       " 'Rear Traffic Alert',\n",
       " 'Airbags',\n",
       " 'Parking Assist',\n",
       " 'Predictive Forward Collision Warning',\n",
       " 'Ford Co-Pilot360',\n",
       " 'Active Distance Assist',\n",
       " 'AdvanceTrac Electronic Stability Control',\n",
       " 'Lexus Safety System+ 3.0',\n",
       " 'Blind Spot Information System',\n",
       " 'Lane Keep Assist',\n",
       " 'Active Brake Assist',\n",
       " 'Backup Camera',\n",
       " 'Collision Mitigation Braking System',\n",
       " 'Forward Collision-Avoidance Assist',\n",
       " 'Toyota Safety Sense P',\n",
       " 'Automatic Emergency Braking',\n",
       " 'AdvanceTrac with Roll Stability Control',\n",
       " 'Dynamic Stability Control',\n",
       " 'Rear Parking Assist Sonar',\n",
       " 'Mazda Connected Services',\n",
       " 'Electronic Roll Mitigation',\n",
       " 'Lexus Safety System+ 3.5',\n",
       " 'StabiliTrak Electronic Stability Control',\n",
       " 'City Safety Collision Avoidance Technology',\n",
       " 'Multi-View Rear Camera',\n",
       " 'RearView Monitor',\n",
       " 'Hill Start Assist Control',\n",
       " 'Traction Control',\n",
       " 'ParkView Rear Back-Up Camera',\n",
       " 'Audi Pre Sense Basic',\n",
       " 'Forward Collision Warning',\n",
       " 'Forward Collision Avoidance-Assist with Pedestrian Detection',\n",
       " 'Rear View Camera',\n",
       " 'Electronic Stability Control',\n",
       " 'Audi Pre Sense City',\n",
       " 'Toyota Safety Sense 2.5+',\n",
       " 'Intelligent Forward Collision Warning',\n",
       " 'Rearview Camera',\n",
       " 'Blind Spot Monitoring',\n",
       " 'StabiliTrak',\n",
       " 'Rear Automatic Braking',\n",
       " 'ABS',\n",
       " 'Performance Traction Management',\n",
       " 'Rear Cross Traffic Alert',\n",
       " 'Nissan Safety Shield 360',\n",
       " 'Honda Sensing',\n",
       " 'Audi Side Assist',\n",
       " 'Road Departure Mitigation',\n",
       " 'Lane Departure Warning',\n",
       " 'AcuraWatch',\n",
       " 'AdvanceTrac with RSC',\n",
       " 'Forward Collision Avoidance Assist',\n",
       " 'Active Driving Assistant',\n",
       " 'Collision Mitigation',\n",
       " 'Lane Assist',\n",
       " 'Push Button Start',\n",
       " 'Power Front Seats',\n",
       " 'Power Fold Third-Row Seats',\n",
       " 'Heated Front Seats',\n",
       " 'Wireless Smartphone Charging',\n",
       " 'Power Front Windows',\n",
       " 'Power Liftgate',\n",
       " 'Rear Occupant Alert',\n",
       " 'Lane Keeping Assist',\n",
       " 'Removable Top',\n",
       " 'Keyless Entry',\n",
       " \"Power Driver's Seat\",\n",
       " 'Third-Row Seating',\n",
       " 'Tri-Zone Automatic Climate Control',\n",
       " 'Heated and Ventilated Front Seats',\n",
       " 'Ambient Lighting',\n",
       " 'Bluetooth Connectivity',\n",
       " 'Dual-Zone Climate Control',\n",
       " 'Panoramic Sunroof',\n",
       " 'Tri-Zone Climate Control',\n",
       " 'Sunroof',\n",
       " 'Power Mirrors',\n",
       " 'Leather Seats',\n",
       " 'Cloth Seats',\n",
       " 'Bose Audio System',\n",
       " 'Power Rear Window',\n",
       " 'Power Windows',\n",
       " 'Panoramic Moonroof',\n",
       " 'Dual-Zone Automatic Climate Control',\n",
       " 'Removable Doors',\n",
       " 'Power Tailgate',\n",
       " 'Keyless Access',\n",
       " 'tow hooks',\n",
       " 'tow hitch',\n",
       " 'off-road suspension',\n",
       " 'dual exhaust',\n",
       " 'power sunroof',\n",
       " '17-inch alloy wheels',\n",
       " 'led headlights',\n",
       " '19-inch alloy wheels',\n",
       " '20-inch alloy wheels',\n",
       " 'power liftgate',\n",
       " '22-inch alloy wheels',\n",
       " '18-inch alloy wheels',\n",
       " 'sunroof',\n",
       " 'dual power sliding doors',\n",
       " '16-inch alloy wheels',\n",
       " 'power sliding doors',\n",
       " 'led taillights',\n",
       " 'roof rails',\n",
       " 'power trunk',\n",
       " 'bedliner',\n",
       " 'deck rail system',\n",
       " 'removable top',\n",
       " 'bed liner',\n",
       " 'led daytime running lights',\n",
       " 'rear spoiler',\n",
       " 'panoramic sunroof',\n",
       " 'alloy wheels']"
      ]
     },
     "execution_count": 828,
     "metadata": {},
     "output_type": "execute_result"
    }
   ],
   "source": [
    "num_cols = [i for i in new_df.columns if ((new_df[i].dtype!='object')&(i!='Price ($)'))]\n",
    "num_cols"
   ]
  },
  {
   "cell_type": "code",
   "execution_count": 829,
   "id": "39f061bb",
   "metadata": {},
   "outputs": [
    {
     "data": {
      "text/plain": [
       "134"
      ]
     },
     "execution_count": 829,
     "metadata": {},
     "output_type": "execute_result"
    }
   ],
   "source": [
    "len(num_cols)"
   ]
  },
  {
   "cell_type": "code",
   "execution_count": 830,
   "id": "9c0d61d2",
   "metadata": {},
   "outputs": [
    {
     "data": {
      "text/plain": [
       "(149, 143)"
      ]
     },
     "execution_count": 830,
     "metadata": {},
     "output_type": "execute_result"
    }
   ],
   "source": [
    "new_df.shape"
   ]
  },
  {
   "cell_type": "code",
   "execution_count": 831,
   "id": "bea6e0a5",
   "metadata": {},
   "outputs": [
    {
     "data": {
      "text/plain": [
       "143"
      ]
     },
     "execution_count": 831,
     "metadata": {},
     "output_type": "execute_result"
    }
   ],
   "source": [
    "135+8"
   ]
  },
  {
   "cell_type": "code",
   "execution_count": null,
   "id": "cd403256",
   "metadata": {},
   "outputs": [],
   "source": []
  },
  {
   "cell_type": "markdown",
   "id": "6033d34f",
   "metadata": {},
   "source": [
    "# Making multiple Piplines"
   ]
  },
  {
   "cell_type": "markdown",
   "id": "f1ab2398",
   "metadata": {},
   "source": [
    "With the help of column transformer making piplines for numerical then standardize the data and categorical data then encode the data"
   ]
  },
  {
   "cell_type": "code",
   "execution_count": 833,
   "id": "6bdd31a6",
   "metadata": {},
   "outputs": [],
   "source": [
    "categorical = Pipeline(\n",
    "    steps=[(\"categorical_imputer\",SimpleImputer(fill_value=\"missing\",strategy=\"constant\")),\n",
    "          (\"onehot\",OneHotEncoder(handle_unknown=\"ignore\"))]\n",
    "\n",
    ")"
   ]
  },
  {
   "cell_type": "code",
   "execution_count": 834,
   "id": "c5dcb2e2",
   "metadata": {},
   "outputs": [
    {
     "data": {
      "text/html": [
       "<style>#sk-136c6de6-5c31-4bd7-899d-8321ac07df61 {color: black;background-color: white;}#sk-136c6de6-5c31-4bd7-899d-8321ac07df61 pre{padding: 0;}#sk-136c6de6-5c31-4bd7-899d-8321ac07df61 div.sk-toggleable {background-color: white;}#sk-136c6de6-5c31-4bd7-899d-8321ac07df61 label.sk-toggleable__label {cursor: pointer;display: block;width: 100%;margin-bottom: 0;padding: 0.3em;box-sizing: border-box;text-align: center;}#sk-136c6de6-5c31-4bd7-899d-8321ac07df61 label.sk-toggleable__label-arrow:before {content: \"▸\";float: left;margin-right: 0.25em;color: #696969;}#sk-136c6de6-5c31-4bd7-899d-8321ac07df61 label.sk-toggleable__label-arrow:hover:before {color: black;}#sk-136c6de6-5c31-4bd7-899d-8321ac07df61 div.sk-estimator:hover label.sk-toggleable__label-arrow:before {color: black;}#sk-136c6de6-5c31-4bd7-899d-8321ac07df61 div.sk-toggleable__content {max-height: 0;max-width: 0;overflow: hidden;text-align: left;background-color: #f0f8ff;}#sk-136c6de6-5c31-4bd7-899d-8321ac07df61 div.sk-toggleable__content pre {margin: 0.2em;color: black;border-radius: 0.25em;background-color: #f0f8ff;}#sk-136c6de6-5c31-4bd7-899d-8321ac07df61 input.sk-toggleable__control:checked~div.sk-toggleable__content {max-height: 200px;max-width: 100%;overflow: auto;}#sk-136c6de6-5c31-4bd7-899d-8321ac07df61 input.sk-toggleable__control:checked~label.sk-toggleable__label-arrow:before {content: \"▾\";}#sk-136c6de6-5c31-4bd7-899d-8321ac07df61 div.sk-estimator input.sk-toggleable__control:checked~label.sk-toggleable__label {background-color: #d4ebff;}#sk-136c6de6-5c31-4bd7-899d-8321ac07df61 div.sk-label input.sk-toggleable__control:checked~label.sk-toggleable__label {background-color: #d4ebff;}#sk-136c6de6-5c31-4bd7-899d-8321ac07df61 input.sk-hidden--visually {border: 0;clip: rect(1px 1px 1px 1px);clip: rect(1px, 1px, 1px, 1px);height: 1px;margin: -1px;overflow: hidden;padding: 0;position: absolute;width: 1px;}#sk-136c6de6-5c31-4bd7-899d-8321ac07df61 div.sk-estimator {font-family: monospace;background-color: #f0f8ff;border: 1px dotted black;border-radius: 0.25em;box-sizing: border-box;margin-bottom: 0.5em;}#sk-136c6de6-5c31-4bd7-899d-8321ac07df61 div.sk-estimator:hover {background-color: #d4ebff;}#sk-136c6de6-5c31-4bd7-899d-8321ac07df61 div.sk-parallel-item::after {content: \"\";width: 100%;border-bottom: 1px solid gray;flex-grow: 1;}#sk-136c6de6-5c31-4bd7-899d-8321ac07df61 div.sk-label:hover label.sk-toggleable__label {background-color: #d4ebff;}#sk-136c6de6-5c31-4bd7-899d-8321ac07df61 div.sk-serial::before {content: \"\";position: absolute;border-left: 1px solid gray;box-sizing: border-box;top: 2em;bottom: 0;left: 50%;}#sk-136c6de6-5c31-4bd7-899d-8321ac07df61 div.sk-serial {display: flex;flex-direction: column;align-items: center;background-color: white;padding-right: 0.2em;padding-left: 0.2em;}#sk-136c6de6-5c31-4bd7-899d-8321ac07df61 div.sk-item {z-index: 1;}#sk-136c6de6-5c31-4bd7-899d-8321ac07df61 div.sk-parallel {display: flex;align-items: stretch;justify-content: center;background-color: white;}#sk-136c6de6-5c31-4bd7-899d-8321ac07df61 div.sk-parallel::before {content: \"\";position: absolute;border-left: 1px solid gray;box-sizing: border-box;top: 2em;bottom: 0;left: 50%;}#sk-136c6de6-5c31-4bd7-899d-8321ac07df61 div.sk-parallel-item {display: flex;flex-direction: column;position: relative;background-color: white;}#sk-136c6de6-5c31-4bd7-899d-8321ac07df61 div.sk-parallel-item:first-child::after {align-self: flex-end;width: 50%;}#sk-136c6de6-5c31-4bd7-899d-8321ac07df61 div.sk-parallel-item:last-child::after {align-self: flex-start;width: 50%;}#sk-136c6de6-5c31-4bd7-899d-8321ac07df61 div.sk-parallel-item:only-child::after {width: 0;}#sk-136c6de6-5c31-4bd7-899d-8321ac07df61 div.sk-dashed-wrapped {border: 1px dashed gray;margin: 0 0.4em 0.5em 0.4em;box-sizing: border-box;padding-bottom: 0.4em;background-color: white;position: relative;}#sk-136c6de6-5c31-4bd7-899d-8321ac07df61 div.sk-label label {font-family: monospace;font-weight: bold;background-color: white;display: inline-block;line-height: 1.2em;}#sk-136c6de6-5c31-4bd7-899d-8321ac07df61 div.sk-label-container {position: relative;z-index: 2;text-align: center;}#sk-136c6de6-5c31-4bd7-899d-8321ac07df61 div.sk-container {/* jupyter's `normalize.less` sets `[hidden] { display: none; }` but bootstrap.min.css set `[hidden] { display: none !important; }` so we also need the `!important` here to be able to override the default hidden behavior on the sphinx rendered scikit-learn.org. See: https://github.com/scikit-learn/scikit-learn/issues/21755 */display: inline-block !important;position: relative;}#sk-136c6de6-5c31-4bd7-899d-8321ac07df61 div.sk-text-repr-fallback {display: none;}</style><div id=\"sk-136c6de6-5c31-4bd7-899d-8321ac07df61\" class=\"sk-top-container\"><div class=\"sk-text-repr-fallback\"><pre>Pipeline(steps=[(&#x27;categorical_imputer&#x27;,\n",
       "                 SimpleImputer(fill_value=&#x27;missing&#x27;, strategy=&#x27;constant&#x27;)),\n",
       "                (&#x27;onehot&#x27;, OneHotEncoder(handle_unknown=&#x27;ignore&#x27;))])</pre><b>Please rerun this cell to show the HTML repr or trust the notebook.</b></div><div class=\"sk-container\" hidden><div class=\"sk-item sk-dashed-wrapped\"><div class=\"sk-label-container\"><div class=\"sk-label sk-toggleable\"><input class=\"sk-toggleable__control sk-hidden--visually\" id=\"1f044209-1ed4-4e04-a176-54ca7385b00e\" type=\"checkbox\" ><label for=\"1f044209-1ed4-4e04-a176-54ca7385b00e\" class=\"sk-toggleable__label sk-toggleable__label-arrow\">Pipeline</label><div class=\"sk-toggleable__content\"><pre>Pipeline(steps=[(&#x27;categorical_imputer&#x27;,\n",
       "                 SimpleImputer(fill_value=&#x27;missing&#x27;, strategy=&#x27;constant&#x27;)),\n",
       "                (&#x27;onehot&#x27;, OneHotEncoder(handle_unknown=&#x27;ignore&#x27;))])</pre></div></div></div><div class=\"sk-serial\"><div class=\"sk-item\"><div class=\"sk-estimator sk-toggleable\"><input class=\"sk-toggleable__control sk-hidden--visually\" id=\"41f71275-cda6-46bc-a1b1-b8f27873a35e\" type=\"checkbox\" ><label for=\"41f71275-cda6-46bc-a1b1-b8f27873a35e\" class=\"sk-toggleable__label sk-toggleable__label-arrow\">SimpleImputer</label><div class=\"sk-toggleable__content\"><pre>SimpleImputer(fill_value=&#x27;missing&#x27;, strategy=&#x27;constant&#x27;)</pre></div></div></div><div class=\"sk-item\"><div class=\"sk-estimator sk-toggleable\"><input class=\"sk-toggleable__control sk-hidden--visually\" id=\"92246ae3-cbee-4a0b-9162-5ea2f139bbae\" type=\"checkbox\" ><label for=\"92246ae3-cbee-4a0b-9162-5ea2f139bbae\" class=\"sk-toggleable__label sk-toggleable__label-arrow\">OneHotEncoder</label><div class=\"sk-toggleable__content\"><pre>OneHotEncoder(handle_unknown=&#x27;ignore&#x27;)</pre></div></div></div></div></div></div></div>"
      ],
      "text/plain": [
       "Pipeline(steps=[('categorical_imputer',\n",
       "                 SimpleImputer(fill_value='missing', strategy='constant')),\n",
       "                ('onehot', OneHotEncoder(handle_unknown='ignore'))])"
      ]
     },
     "execution_count": 834,
     "metadata": {},
     "output_type": "execute_result"
    }
   ],
   "source": [
    "categorical"
   ]
  },
  {
   "cell_type": "code",
   "execution_count": 835,
   "id": "e995f1b4",
   "metadata": {},
   "outputs": [],
   "source": [
    "numeric = Pipeline(\n",
    "    steps=[(\"numeric_imputer\",SimpleImputer(missing_values=np.nan,strategy=\"mean\")),\n",
    "          (\"scaler\",StandardScaler())]\n",
    "\n",
    ")"
   ]
  },
  {
   "cell_type": "code",
   "execution_count": 836,
   "id": "1a919ae3",
   "metadata": {},
   "outputs": [
    {
     "data": {
      "text/html": [
       "<style>#sk-98dec672-eaaa-46e8-a522-48814de36616 {color: black;background-color: white;}#sk-98dec672-eaaa-46e8-a522-48814de36616 pre{padding: 0;}#sk-98dec672-eaaa-46e8-a522-48814de36616 div.sk-toggleable {background-color: white;}#sk-98dec672-eaaa-46e8-a522-48814de36616 label.sk-toggleable__label {cursor: pointer;display: block;width: 100%;margin-bottom: 0;padding: 0.3em;box-sizing: border-box;text-align: center;}#sk-98dec672-eaaa-46e8-a522-48814de36616 label.sk-toggleable__label-arrow:before {content: \"▸\";float: left;margin-right: 0.25em;color: #696969;}#sk-98dec672-eaaa-46e8-a522-48814de36616 label.sk-toggleable__label-arrow:hover:before {color: black;}#sk-98dec672-eaaa-46e8-a522-48814de36616 div.sk-estimator:hover label.sk-toggleable__label-arrow:before {color: black;}#sk-98dec672-eaaa-46e8-a522-48814de36616 div.sk-toggleable__content {max-height: 0;max-width: 0;overflow: hidden;text-align: left;background-color: #f0f8ff;}#sk-98dec672-eaaa-46e8-a522-48814de36616 div.sk-toggleable__content pre {margin: 0.2em;color: black;border-radius: 0.25em;background-color: #f0f8ff;}#sk-98dec672-eaaa-46e8-a522-48814de36616 input.sk-toggleable__control:checked~div.sk-toggleable__content {max-height: 200px;max-width: 100%;overflow: auto;}#sk-98dec672-eaaa-46e8-a522-48814de36616 input.sk-toggleable__control:checked~label.sk-toggleable__label-arrow:before {content: \"▾\";}#sk-98dec672-eaaa-46e8-a522-48814de36616 div.sk-estimator input.sk-toggleable__control:checked~label.sk-toggleable__label {background-color: #d4ebff;}#sk-98dec672-eaaa-46e8-a522-48814de36616 div.sk-label input.sk-toggleable__control:checked~label.sk-toggleable__label {background-color: #d4ebff;}#sk-98dec672-eaaa-46e8-a522-48814de36616 input.sk-hidden--visually {border: 0;clip: rect(1px 1px 1px 1px);clip: rect(1px, 1px, 1px, 1px);height: 1px;margin: -1px;overflow: hidden;padding: 0;position: absolute;width: 1px;}#sk-98dec672-eaaa-46e8-a522-48814de36616 div.sk-estimator {font-family: monospace;background-color: #f0f8ff;border: 1px dotted black;border-radius: 0.25em;box-sizing: border-box;margin-bottom: 0.5em;}#sk-98dec672-eaaa-46e8-a522-48814de36616 div.sk-estimator:hover {background-color: #d4ebff;}#sk-98dec672-eaaa-46e8-a522-48814de36616 div.sk-parallel-item::after {content: \"\";width: 100%;border-bottom: 1px solid gray;flex-grow: 1;}#sk-98dec672-eaaa-46e8-a522-48814de36616 div.sk-label:hover label.sk-toggleable__label {background-color: #d4ebff;}#sk-98dec672-eaaa-46e8-a522-48814de36616 div.sk-serial::before {content: \"\";position: absolute;border-left: 1px solid gray;box-sizing: border-box;top: 2em;bottom: 0;left: 50%;}#sk-98dec672-eaaa-46e8-a522-48814de36616 div.sk-serial {display: flex;flex-direction: column;align-items: center;background-color: white;padding-right: 0.2em;padding-left: 0.2em;}#sk-98dec672-eaaa-46e8-a522-48814de36616 div.sk-item {z-index: 1;}#sk-98dec672-eaaa-46e8-a522-48814de36616 div.sk-parallel {display: flex;align-items: stretch;justify-content: center;background-color: white;}#sk-98dec672-eaaa-46e8-a522-48814de36616 div.sk-parallel::before {content: \"\";position: absolute;border-left: 1px solid gray;box-sizing: border-box;top: 2em;bottom: 0;left: 50%;}#sk-98dec672-eaaa-46e8-a522-48814de36616 div.sk-parallel-item {display: flex;flex-direction: column;position: relative;background-color: white;}#sk-98dec672-eaaa-46e8-a522-48814de36616 div.sk-parallel-item:first-child::after {align-self: flex-end;width: 50%;}#sk-98dec672-eaaa-46e8-a522-48814de36616 div.sk-parallel-item:last-child::after {align-self: flex-start;width: 50%;}#sk-98dec672-eaaa-46e8-a522-48814de36616 div.sk-parallel-item:only-child::after {width: 0;}#sk-98dec672-eaaa-46e8-a522-48814de36616 div.sk-dashed-wrapped {border: 1px dashed gray;margin: 0 0.4em 0.5em 0.4em;box-sizing: border-box;padding-bottom: 0.4em;background-color: white;position: relative;}#sk-98dec672-eaaa-46e8-a522-48814de36616 div.sk-label label {font-family: monospace;font-weight: bold;background-color: white;display: inline-block;line-height: 1.2em;}#sk-98dec672-eaaa-46e8-a522-48814de36616 div.sk-label-container {position: relative;z-index: 2;text-align: center;}#sk-98dec672-eaaa-46e8-a522-48814de36616 div.sk-container {/* jupyter's `normalize.less` sets `[hidden] { display: none; }` but bootstrap.min.css set `[hidden] { display: none !important; }` so we also need the `!important` here to be able to override the default hidden behavior on the sphinx rendered scikit-learn.org. See: https://github.com/scikit-learn/scikit-learn/issues/21755 */display: inline-block !important;position: relative;}#sk-98dec672-eaaa-46e8-a522-48814de36616 div.sk-text-repr-fallback {display: none;}</style><div id=\"sk-98dec672-eaaa-46e8-a522-48814de36616\" class=\"sk-top-container\"><div class=\"sk-text-repr-fallback\"><pre>Pipeline(steps=[(&#x27;numeric_imputer&#x27;, SimpleImputer()),\n",
       "                (&#x27;scaler&#x27;, StandardScaler())])</pre><b>Please rerun this cell to show the HTML repr or trust the notebook.</b></div><div class=\"sk-container\" hidden><div class=\"sk-item sk-dashed-wrapped\"><div class=\"sk-label-container\"><div class=\"sk-label sk-toggleable\"><input class=\"sk-toggleable__control sk-hidden--visually\" id=\"dcf99d73-d294-48b2-8525-a62416f26d2d\" type=\"checkbox\" ><label for=\"dcf99d73-d294-48b2-8525-a62416f26d2d\" class=\"sk-toggleable__label sk-toggleable__label-arrow\">Pipeline</label><div class=\"sk-toggleable__content\"><pre>Pipeline(steps=[(&#x27;numeric_imputer&#x27;, SimpleImputer()),\n",
       "                (&#x27;scaler&#x27;, StandardScaler())])</pre></div></div></div><div class=\"sk-serial\"><div class=\"sk-item\"><div class=\"sk-estimator sk-toggleable\"><input class=\"sk-toggleable__control sk-hidden--visually\" id=\"e48dda08-e65a-4c64-8cbc-7504344a434d\" type=\"checkbox\" ><label for=\"e48dda08-e65a-4c64-8cbc-7504344a434d\" class=\"sk-toggleable__label sk-toggleable__label-arrow\">SimpleImputer</label><div class=\"sk-toggleable__content\"><pre>SimpleImputer()</pre></div></div></div><div class=\"sk-item\"><div class=\"sk-estimator sk-toggleable\"><input class=\"sk-toggleable__control sk-hidden--visually\" id=\"748154de-2823-406b-a4df-13ea8c0aef2e\" type=\"checkbox\" ><label for=\"748154de-2823-406b-a4df-13ea8c0aef2e\" class=\"sk-toggleable__label sk-toggleable__label-arrow\">StandardScaler</label><div class=\"sk-toggleable__content\"><pre>StandardScaler()</pre></div></div></div></div></div></div></div>"
      ],
      "text/plain": [
       "Pipeline(steps=[('numeric_imputer', SimpleImputer()),\n",
       "                ('scaler', StandardScaler())])"
      ]
     },
     "execution_count": 836,
     "metadata": {},
     "output_type": "execute_result"
    }
   ],
   "source": [
    "numeric"
   ]
  },
  {
   "cell_type": "code",
   "execution_count": null,
   "id": "f74a2208",
   "metadata": {},
   "outputs": [],
   "source": []
  },
  {
   "cell_type": "code",
   "execution_count": 837,
   "id": "588c3a82",
   "metadata": {},
   "outputs": [],
   "source": [
    "all_col_transformer = ColumnTransformer(\n",
    "    [(\"categorical\",categorical, cat_cols),\n",
    "    (\"numerical\",numeric, num_cols)]\n",
    ")"
   ]
  },
  {
   "cell_type": "code",
   "execution_count": 838,
   "id": "b6dfe1ed",
   "metadata": {},
   "outputs": [
    {
     "data": {
      "text/html": [
       "<style>#sk-da61c44a-cce5-4655-b753-8f7d11c870af {color: black;background-color: white;}#sk-da61c44a-cce5-4655-b753-8f7d11c870af pre{padding: 0;}#sk-da61c44a-cce5-4655-b753-8f7d11c870af div.sk-toggleable {background-color: white;}#sk-da61c44a-cce5-4655-b753-8f7d11c870af label.sk-toggleable__label {cursor: pointer;display: block;width: 100%;margin-bottom: 0;padding: 0.3em;box-sizing: border-box;text-align: center;}#sk-da61c44a-cce5-4655-b753-8f7d11c870af label.sk-toggleable__label-arrow:before {content: \"▸\";float: left;margin-right: 0.25em;color: #696969;}#sk-da61c44a-cce5-4655-b753-8f7d11c870af label.sk-toggleable__label-arrow:hover:before {color: black;}#sk-da61c44a-cce5-4655-b753-8f7d11c870af div.sk-estimator:hover label.sk-toggleable__label-arrow:before {color: black;}#sk-da61c44a-cce5-4655-b753-8f7d11c870af div.sk-toggleable__content {max-height: 0;max-width: 0;overflow: hidden;text-align: left;background-color: #f0f8ff;}#sk-da61c44a-cce5-4655-b753-8f7d11c870af div.sk-toggleable__content pre {margin: 0.2em;color: black;border-radius: 0.25em;background-color: #f0f8ff;}#sk-da61c44a-cce5-4655-b753-8f7d11c870af input.sk-toggleable__control:checked~div.sk-toggleable__content {max-height: 200px;max-width: 100%;overflow: auto;}#sk-da61c44a-cce5-4655-b753-8f7d11c870af input.sk-toggleable__control:checked~label.sk-toggleable__label-arrow:before {content: \"▾\";}#sk-da61c44a-cce5-4655-b753-8f7d11c870af div.sk-estimator input.sk-toggleable__control:checked~label.sk-toggleable__label {background-color: #d4ebff;}#sk-da61c44a-cce5-4655-b753-8f7d11c870af div.sk-label input.sk-toggleable__control:checked~label.sk-toggleable__label {background-color: #d4ebff;}#sk-da61c44a-cce5-4655-b753-8f7d11c870af input.sk-hidden--visually {border: 0;clip: rect(1px 1px 1px 1px);clip: rect(1px, 1px, 1px, 1px);height: 1px;margin: -1px;overflow: hidden;padding: 0;position: absolute;width: 1px;}#sk-da61c44a-cce5-4655-b753-8f7d11c870af div.sk-estimator {font-family: monospace;background-color: #f0f8ff;border: 1px dotted black;border-radius: 0.25em;box-sizing: border-box;margin-bottom: 0.5em;}#sk-da61c44a-cce5-4655-b753-8f7d11c870af div.sk-estimator:hover {background-color: #d4ebff;}#sk-da61c44a-cce5-4655-b753-8f7d11c870af div.sk-parallel-item::after {content: \"\";width: 100%;border-bottom: 1px solid gray;flex-grow: 1;}#sk-da61c44a-cce5-4655-b753-8f7d11c870af div.sk-label:hover label.sk-toggleable__label {background-color: #d4ebff;}#sk-da61c44a-cce5-4655-b753-8f7d11c870af div.sk-serial::before {content: \"\";position: absolute;border-left: 1px solid gray;box-sizing: border-box;top: 2em;bottom: 0;left: 50%;}#sk-da61c44a-cce5-4655-b753-8f7d11c870af div.sk-serial {display: flex;flex-direction: column;align-items: center;background-color: white;padding-right: 0.2em;padding-left: 0.2em;}#sk-da61c44a-cce5-4655-b753-8f7d11c870af div.sk-item {z-index: 1;}#sk-da61c44a-cce5-4655-b753-8f7d11c870af div.sk-parallel {display: flex;align-items: stretch;justify-content: center;background-color: white;}#sk-da61c44a-cce5-4655-b753-8f7d11c870af div.sk-parallel::before {content: \"\";position: absolute;border-left: 1px solid gray;box-sizing: border-box;top: 2em;bottom: 0;left: 50%;}#sk-da61c44a-cce5-4655-b753-8f7d11c870af div.sk-parallel-item {display: flex;flex-direction: column;position: relative;background-color: white;}#sk-da61c44a-cce5-4655-b753-8f7d11c870af div.sk-parallel-item:first-child::after {align-self: flex-end;width: 50%;}#sk-da61c44a-cce5-4655-b753-8f7d11c870af div.sk-parallel-item:last-child::after {align-self: flex-start;width: 50%;}#sk-da61c44a-cce5-4655-b753-8f7d11c870af div.sk-parallel-item:only-child::after {width: 0;}#sk-da61c44a-cce5-4655-b753-8f7d11c870af div.sk-dashed-wrapped {border: 1px dashed gray;margin: 0 0.4em 0.5em 0.4em;box-sizing: border-box;padding-bottom: 0.4em;background-color: white;position: relative;}#sk-da61c44a-cce5-4655-b753-8f7d11c870af div.sk-label label {font-family: monospace;font-weight: bold;background-color: white;display: inline-block;line-height: 1.2em;}#sk-da61c44a-cce5-4655-b753-8f7d11c870af div.sk-label-container {position: relative;z-index: 2;text-align: center;}#sk-da61c44a-cce5-4655-b753-8f7d11c870af div.sk-container {/* jupyter's `normalize.less` sets `[hidden] { display: none; }` but bootstrap.min.css set `[hidden] { display: none !important; }` so we also need the `!important` here to be able to override the default hidden behavior on the sphinx rendered scikit-learn.org. See: https://github.com/scikit-learn/scikit-learn/issues/21755 */display: inline-block !important;position: relative;}#sk-da61c44a-cce5-4655-b753-8f7d11c870af div.sk-text-repr-fallback {display: none;}</style><div id=\"sk-da61c44a-cce5-4655-b753-8f7d11c870af\" class=\"sk-top-container\"><div class=\"sk-text-repr-fallback\"><pre>ColumnTransformer(transformers=[(&#x27;categorical&#x27;,\n",
       "                                 Pipeline(steps=[(&#x27;categorical_imputer&#x27;,\n",
       "                                                  SimpleImputer(fill_value=&#x27;missing&#x27;,\n",
       "                                                                strategy=&#x27;constant&#x27;)),\n",
       "                                                 (&#x27;onehot&#x27;,\n",
       "                                                  OneHotEncoder(handle_unknown=&#x27;ignore&#x27;))]),\n",
       "                                 [&#x27;Car Make&#x27;, &#x27;Car Model&#x27;, &#x27;Body Type&#x27;,\n",
       "                                  &#x27;Fuel Type&#x27;, &#x27;Transmission Type&#x27;,\n",
       "                                  &#x27;Acceleration (0-60 mph)&#x27;,\n",
       "                                  &#x27;Entertainment Features&#x27;,\n",
       "                                  &#x27;Customer Ratings&#x27;]),\n",
       "                                (&#x27;numerical&#x27;,\n",
       "                                 Pipeline(st...\n",
       "                                  &#x27;EyeSight Driver Assist Technology&#x27;,\n",
       "                                  &#x27;Trail Control&#x27;, &#x27;Adaptive Cruise Control&#x27;,\n",
       "                                  &#x27;Audi Pre Sense Front&#x27;, &#x27;Blind Spot Warning&#x27;,\n",
       "                                  &#x27;Rear Traffic Alert&#x27;, &#x27;Airbags&#x27;,\n",
       "                                  &#x27;Parking Assist&#x27;,\n",
       "                                  &#x27;Predictive Forward Collision Warning&#x27;,\n",
       "                                  &#x27;Ford Co-Pilot360&#x27;, &#x27;Active Distance Assist&#x27;,\n",
       "                                  &#x27;AdvanceTrac Electronic Stability Control&#x27;,\n",
       "                                  &#x27;Lexus Safety System+ 3.0&#x27;,\n",
       "                                  &#x27;Blind Spot Information System&#x27;,\n",
       "                                  &#x27;Lane Keep Assist&#x27;, ...])])</pre><b>Please rerun this cell to show the HTML repr or trust the notebook.</b></div><div class=\"sk-container\" hidden><div class=\"sk-item sk-dashed-wrapped\"><div class=\"sk-label-container\"><div class=\"sk-label sk-toggleable\"><input class=\"sk-toggleable__control sk-hidden--visually\" id=\"f6352a52-1a15-4667-83be-a18a4edeb990\" type=\"checkbox\" ><label for=\"f6352a52-1a15-4667-83be-a18a4edeb990\" class=\"sk-toggleable__label sk-toggleable__label-arrow\">ColumnTransformer</label><div class=\"sk-toggleable__content\"><pre>ColumnTransformer(transformers=[(&#x27;categorical&#x27;,\n",
       "                                 Pipeline(steps=[(&#x27;categorical_imputer&#x27;,\n",
       "                                                  SimpleImputer(fill_value=&#x27;missing&#x27;,\n",
       "                                                                strategy=&#x27;constant&#x27;)),\n",
       "                                                 (&#x27;onehot&#x27;,\n",
       "                                                  OneHotEncoder(handle_unknown=&#x27;ignore&#x27;))]),\n",
       "                                 [&#x27;Car Make&#x27;, &#x27;Car Model&#x27;, &#x27;Body Type&#x27;,\n",
       "                                  &#x27;Fuel Type&#x27;, &#x27;Transmission Type&#x27;,\n",
       "                                  &#x27;Acceleration (0-60 mph)&#x27;,\n",
       "                                  &#x27;Entertainment Features&#x27;,\n",
       "                                  &#x27;Customer Ratings&#x27;]),\n",
       "                                (&#x27;numerical&#x27;,\n",
       "                                 Pipeline(st...\n",
       "                                  &#x27;EyeSight Driver Assist Technology&#x27;,\n",
       "                                  &#x27;Trail Control&#x27;, &#x27;Adaptive Cruise Control&#x27;,\n",
       "                                  &#x27;Audi Pre Sense Front&#x27;, &#x27;Blind Spot Warning&#x27;,\n",
       "                                  &#x27;Rear Traffic Alert&#x27;, &#x27;Airbags&#x27;,\n",
       "                                  &#x27;Parking Assist&#x27;,\n",
       "                                  &#x27;Predictive Forward Collision Warning&#x27;,\n",
       "                                  &#x27;Ford Co-Pilot360&#x27;, &#x27;Active Distance Assist&#x27;,\n",
       "                                  &#x27;AdvanceTrac Electronic Stability Control&#x27;,\n",
       "                                  &#x27;Lexus Safety System+ 3.0&#x27;,\n",
       "                                  &#x27;Blind Spot Information System&#x27;,\n",
       "                                  &#x27;Lane Keep Assist&#x27;, ...])])</pre></div></div></div><div class=\"sk-parallel\"><div class=\"sk-parallel-item\"><div class=\"sk-item\"><div class=\"sk-label-container\"><div class=\"sk-label sk-toggleable\"><input class=\"sk-toggleable__control sk-hidden--visually\" id=\"c4bcb7bd-4c3b-4f7e-a8a2-0405ecff9d07\" type=\"checkbox\" ><label for=\"c4bcb7bd-4c3b-4f7e-a8a2-0405ecff9d07\" class=\"sk-toggleable__label sk-toggleable__label-arrow\">categorical</label><div class=\"sk-toggleable__content\"><pre>[&#x27;Car Make&#x27;, &#x27;Car Model&#x27;, &#x27;Body Type&#x27;, &#x27;Fuel Type&#x27;, &#x27;Transmission Type&#x27;, &#x27;Acceleration (0-60 mph)&#x27;, &#x27;Entertainment Features&#x27;, &#x27;Customer Ratings&#x27;]</pre></div></div></div><div class=\"sk-serial\"><div class=\"sk-item\"><div class=\"sk-serial\"><div class=\"sk-item\"><div class=\"sk-estimator sk-toggleable\"><input class=\"sk-toggleable__control sk-hidden--visually\" id=\"adcb2cf3-c094-47ca-b0c0-872faa1e39c2\" type=\"checkbox\" ><label for=\"adcb2cf3-c094-47ca-b0c0-872faa1e39c2\" class=\"sk-toggleable__label sk-toggleable__label-arrow\">SimpleImputer</label><div class=\"sk-toggleable__content\"><pre>SimpleImputer(fill_value=&#x27;missing&#x27;, strategy=&#x27;constant&#x27;)</pre></div></div></div><div class=\"sk-item\"><div class=\"sk-estimator sk-toggleable\"><input class=\"sk-toggleable__control sk-hidden--visually\" id=\"71d86cac-c535-4c49-be6f-78575a566c5b\" type=\"checkbox\" ><label for=\"71d86cac-c535-4c49-be6f-78575a566c5b\" class=\"sk-toggleable__label sk-toggleable__label-arrow\">OneHotEncoder</label><div class=\"sk-toggleable__content\"><pre>OneHotEncoder(handle_unknown=&#x27;ignore&#x27;)</pre></div></div></div></div></div></div></div></div><div class=\"sk-parallel-item\"><div class=\"sk-item\"><div class=\"sk-label-container\"><div class=\"sk-label sk-toggleable\"><input class=\"sk-toggleable__control sk-hidden--visually\" id=\"861deb51-fa39-489d-a29c-0c297f03da01\" type=\"checkbox\" ><label for=\"861deb51-fa39-489d-a29c-0c297f03da01\" class=\"sk-toggleable__label sk-toggleable__label-arrow\">numerical</label><div class=\"sk-toggleable__content\"><pre>[&#x27;Year&#x27;, &#x27;Engine Size (L)&#x27;, &#x27;Horsepower&#x27;, &#x27;Torque (Nm)&#x27;, &#x27;Top Speed (mph)&#x27;, &#x27;Mileage (MPG)&#x27;, &#x27;Sales Figures (Units Sold)&#x27;, &#x27;Trailer Brake Control&#x27;, &#x27;Forward Collision Alert&#x27;, &#x27;Trailer-Sway Control&#x27;, &#x27;Rear Cross Path Detection&#x27;, &#x27;Traffic Sign Assist&#x27;, &#x27;Lexus Safety System+ 2.5&#x27;, &#x27;Trailer Sway Control&#x27;, &#x27;Parking Assistant Plus&#x27;, &#x27;EyeSight Driver Assist Technology&#x27;, &#x27;Trail Control&#x27;, &#x27;Adaptive Cruise Control&#x27;, &#x27;Audi Pre Sense Front&#x27;, &#x27;Blind Spot Warning&#x27;, &#x27;Rear Traffic Alert&#x27;, &#x27;Airbags&#x27;, &#x27;Parking Assist&#x27;, &#x27;Predictive Forward Collision Warning&#x27;, &#x27;Ford Co-Pilot360&#x27;, &#x27;Active Distance Assist&#x27;, &#x27;AdvanceTrac Electronic Stability Control&#x27;, &#x27;Lexus Safety System+ 3.0&#x27;, &#x27;Blind Spot Information System&#x27;, &#x27;Lane Keep Assist&#x27;, &#x27;Active Brake Assist&#x27;, &#x27;Backup Camera&#x27;, &#x27;Collision Mitigation Braking System&#x27;, &#x27;Forward Collision-Avoidance Assist&#x27;, &#x27;Toyota Safety Sense P&#x27;, &#x27;Automatic Emergency Braking&#x27;, &#x27;AdvanceTrac with Roll Stability Control&#x27;, &#x27;Dynamic Stability Control&#x27;, &#x27;Rear Parking Assist Sonar&#x27;, &#x27;Mazda Connected Services&#x27;, &#x27;Electronic Roll Mitigation&#x27;, &#x27;Lexus Safety System+ 3.5&#x27;, &#x27;StabiliTrak Electronic Stability Control&#x27;, &#x27;City Safety Collision Avoidance Technology&#x27;, &#x27;Multi-View Rear Camera&#x27;, &#x27;RearView Monitor&#x27;, &#x27;Hill Start Assist Control&#x27;, &#x27;Traction Control&#x27;, &#x27;ParkView Rear Back-Up Camera&#x27;, &#x27;Audi Pre Sense Basic&#x27;, &#x27;Forward Collision Warning&#x27;, &#x27;Forward Collision Avoidance-Assist with Pedestrian Detection&#x27;, &#x27;Rear View Camera&#x27;, &#x27;Electronic Stability Control&#x27;, &#x27;Audi Pre Sense City&#x27;, &#x27;Toyota Safety Sense 2.5+&#x27;, &#x27;Intelligent Forward Collision Warning&#x27;, &#x27;Rearview Camera&#x27;, &#x27;Blind Spot Monitoring&#x27;, &#x27;StabiliTrak&#x27;, &#x27;Rear Automatic Braking&#x27;, &#x27;ABS&#x27;, &#x27;Performance Traction Management&#x27;, &#x27;Rear Cross Traffic Alert&#x27;, &#x27;Nissan Safety Shield 360&#x27;, &#x27;Honda Sensing&#x27;, &#x27;Audi Side Assist&#x27;, &#x27;Road Departure Mitigation&#x27;, &#x27;Lane Departure Warning&#x27;, &#x27;AcuraWatch&#x27;, &#x27;AdvanceTrac with RSC&#x27;, &#x27;Forward Collision Avoidance Assist&#x27;, &#x27;Active Driving Assistant&#x27;, &#x27;Collision Mitigation&#x27;, &#x27;Lane Assist&#x27;, &#x27;Push Button Start&#x27;, &#x27;Power Front Seats&#x27;, &#x27;Power Fold Third-Row Seats&#x27;, &#x27;Heated Front Seats&#x27;, &#x27;Wireless Smartphone Charging&#x27;, &#x27;Power Front Windows&#x27;, &#x27;Power Liftgate&#x27;, &#x27;Rear Occupant Alert&#x27;, &#x27;Lane Keeping Assist&#x27;, &#x27;Removable Top&#x27;, &#x27;Keyless Entry&#x27;, &quot;Power Driver&#x27;s Seat&quot;, &#x27;Third-Row Seating&#x27;, &#x27;Tri-Zone Automatic Climate Control&#x27;, &#x27;Heated and Ventilated Front Seats&#x27;, &#x27;Ambient Lighting&#x27;, &#x27;Bluetooth Connectivity&#x27;, &#x27;Dual-Zone Climate Control&#x27;, &#x27;Panoramic Sunroof&#x27;, &#x27;Tri-Zone Climate Control&#x27;, &#x27;Sunroof&#x27;, &#x27;Power Mirrors&#x27;, &#x27;Leather Seats&#x27;, &#x27;Cloth Seats&#x27;, &#x27;Bose Audio System&#x27;, &#x27;Power Rear Window&#x27;, &#x27;Power Windows&#x27;, &#x27;Panoramic Moonroof&#x27;, &#x27;Dual-Zone Automatic Climate Control&#x27;, &#x27;Removable Doors&#x27;, &#x27;Power Tailgate&#x27;, &#x27;Keyless Access&#x27;, &#x27;tow hooks&#x27;, &#x27;tow hitch&#x27;, &#x27;off-road suspension&#x27;, &#x27;dual exhaust&#x27;, &#x27;power sunroof&#x27;, &#x27;17-inch alloy wheels&#x27;, &#x27;led headlights&#x27;, &#x27;19-inch alloy wheels&#x27;, &#x27;20-inch alloy wheels&#x27;, &#x27;power liftgate&#x27;, &#x27;22-inch alloy wheels&#x27;, &#x27;18-inch alloy wheels&#x27;, &#x27;sunroof&#x27;, &#x27;dual power sliding doors&#x27;, &#x27;16-inch alloy wheels&#x27;, &#x27;power sliding doors&#x27;, &#x27;led taillights&#x27;, &#x27;roof rails&#x27;, &#x27;power trunk&#x27;, &#x27;bedliner&#x27;, &#x27;deck rail system&#x27;, &#x27;removable top&#x27;, &#x27;bed liner&#x27;, &#x27;led daytime running lights&#x27;, &#x27;rear spoiler&#x27;, &#x27;panoramic sunroof&#x27;, &#x27;alloy wheels&#x27;]</pre></div></div></div><div class=\"sk-serial\"><div class=\"sk-item\"><div class=\"sk-serial\"><div class=\"sk-item\"><div class=\"sk-estimator sk-toggleable\"><input class=\"sk-toggleable__control sk-hidden--visually\" id=\"a3a97502-e59b-46ba-bf45-c34c92e35327\" type=\"checkbox\" ><label for=\"a3a97502-e59b-46ba-bf45-c34c92e35327\" class=\"sk-toggleable__label sk-toggleable__label-arrow\">SimpleImputer</label><div class=\"sk-toggleable__content\"><pre>SimpleImputer()</pre></div></div></div><div class=\"sk-item\"><div class=\"sk-estimator sk-toggleable\"><input class=\"sk-toggleable__control sk-hidden--visually\" id=\"b174053a-72a7-4e24-8587-a0d4488cc6c4\" type=\"checkbox\" ><label for=\"b174053a-72a7-4e24-8587-a0d4488cc6c4\" class=\"sk-toggleable__label sk-toggleable__label-arrow\">StandardScaler</label><div class=\"sk-toggleable__content\"><pre>StandardScaler()</pre></div></div></div></div></div></div></div></div></div></div></div></div>"
      ],
      "text/plain": [
       "ColumnTransformer(transformers=[('categorical',\n",
       "                                 Pipeline(steps=[('categorical_imputer',\n",
       "                                                  SimpleImputer(fill_value='missing',\n",
       "                                                                strategy='constant')),\n",
       "                                                 ('onehot',\n",
       "                                                  OneHotEncoder(handle_unknown='ignore'))]),\n",
       "                                 ['Car Make', 'Car Model', 'Body Type',\n",
       "                                  'Fuel Type', 'Transmission Type',\n",
       "                                  'Acceleration (0-60 mph)',\n",
       "                                  'Entertainment Features',\n",
       "                                  'Customer Ratings']),\n",
       "                                ('numerical',\n",
       "                                 Pipeline(st...\n",
       "                                  'EyeSight Driver Assist Technology',\n",
       "                                  'Trail Control', 'Adaptive Cruise Control',\n",
       "                                  'Audi Pre Sense Front', 'Blind Spot Warning',\n",
       "                                  'Rear Traffic Alert', 'Airbags',\n",
       "                                  'Parking Assist',\n",
       "                                  'Predictive Forward Collision Warning',\n",
       "                                  'Ford Co-Pilot360', 'Active Distance Assist',\n",
       "                                  'AdvanceTrac Electronic Stability Control',\n",
       "                                  'Lexus Safety System+ 3.0',\n",
       "                                  'Blind Spot Information System',\n",
       "                                  'Lane Keep Assist', ...])])"
      ]
     },
     "execution_count": 838,
     "metadata": {},
     "output_type": "execute_result"
    }
   ],
   "source": [
    "all_col_transformer"
   ]
  },
  {
   "cell_type": "code",
   "execution_count": null,
   "id": "31e9fb91",
   "metadata": {},
   "outputs": [],
   "source": []
  },
  {
   "cell_type": "markdown",
   "id": "7a7f65b8",
   "metadata": {},
   "source": [
    "# Now this is our two final pipelines one is for Linear Regression and the other is for Random Forest Regressor "
   ]
  },
  {
   "cell_type": "code",
   "execution_count": 855,
   "id": "01b36c30",
   "metadata": {},
   "outputs": [],
   "source": [
    "steps_for_LR = [('all_col_transformer',all_col_transformer),\n",
    "        ('PCA' , PCA()),\n",
    "        ('regressor' , LinearRegression())]"
   ]
  },
  {
   "cell_type": "code",
   "execution_count": 856,
   "id": "91685c1c",
   "metadata": {},
   "outputs": [],
   "source": [
    "Linear_pipe = Pipeline(steps_for_LR)"
   ]
  },
  {
   "cell_type": "code",
   "execution_count": 854,
   "id": "81499e85",
   "metadata": {},
   "outputs": [
    {
     "data": {
      "text/html": [
       "<style>#sk-c601bcb7-448f-4cde-bef9-8d1517dcba4a {color: black;background-color: white;}#sk-c601bcb7-448f-4cde-bef9-8d1517dcba4a pre{padding: 0;}#sk-c601bcb7-448f-4cde-bef9-8d1517dcba4a div.sk-toggleable {background-color: white;}#sk-c601bcb7-448f-4cde-bef9-8d1517dcba4a label.sk-toggleable__label {cursor: pointer;display: block;width: 100%;margin-bottom: 0;padding: 0.3em;box-sizing: border-box;text-align: center;}#sk-c601bcb7-448f-4cde-bef9-8d1517dcba4a label.sk-toggleable__label-arrow:before {content: \"▸\";float: left;margin-right: 0.25em;color: #696969;}#sk-c601bcb7-448f-4cde-bef9-8d1517dcba4a label.sk-toggleable__label-arrow:hover:before {color: black;}#sk-c601bcb7-448f-4cde-bef9-8d1517dcba4a div.sk-estimator:hover label.sk-toggleable__label-arrow:before {color: black;}#sk-c601bcb7-448f-4cde-bef9-8d1517dcba4a div.sk-toggleable__content {max-height: 0;max-width: 0;overflow: hidden;text-align: left;background-color: #f0f8ff;}#sk-c601bcb7-448f-4cde-bef9-8d1517dcba4a div.sk-toggleable__content pre {margin: 0.2em;color: black;border-radius: 0.25em;background-color: #f0f8ff;}#sk-c601bcb7-448f-4cde-bef9-8d1517dcba4a input.sk-toggleable__control:checked~div.sk-toggleable__content {max-height: 200px;max-width: 100%;overflow: auto;}#sk-c601bcb7-448f-4cde-bef9-8d1517dcba4a input.sk-toggleable__control:checked~label.sk-toggleable__label-arrow:before {content: \"▾\";}#sk-c601bcb7-448f-4cde-bef9-8d1517dcba4a div.sk-estimator input.sk-toggleable__control:checked~label.sk-toggleable__label {background-color: #d4ebff;}#sk-c601bcb7-448f-4cde-bef9-8d1517dcba4a div.sk-label input.sk-toggleable__control:checked~label.sk-toggleable__label {background-color: #d4ebff;}#sk-c601bcb7-448f-4cde-bef9-8d1517dcba4a input.sk-hidden--visually {border: 0;clip: rect(1px 1px 1px 1px);clip: rect(1px, 1px, 1px, 1px);height: 1px;margin: -1px;overflow: hidden;padding: 0;position: absolute;width: 1px;}#sk-c601bcb7-448f-4cde-bef9-8d1517dcba4a div.sk-estimator {font-family: monospace;background-color: #f0f8ff;border: 1px dotted black;border-radius: 0.25em;box-sizing: border-box;margin-bottom: 0.5em;}#sk-c601bcb7-448f-4cde-bef9-8d1517dcba4a div.sk-estimator:hover {background-color: #d4ebff;}#sk-c601bcb7-448f-4cde-bef9-8d1517dcba4a div.sk-parallel-item::after {content: \"\";width: 100%;border-bottom: 1px solid gray;flex-grow: 1;}#sk-c601bcb7-448f-4cde-bef9-8d1517dcba4a div.sk-label:hover label.sk-toggleable__label {background-color: #d4ebff;}#sk-c601bcb7-448f-4cde-bef9-8d1517dcba4a div.sk-serial::before {content: \"\";position: absolute;border-left: 1px solid gray;box-sizing: border-box;top: 2em;bottom: 0;left: 50%;}#sk-c601bcb7-448f-4cde-bef9-8d1517dcba4a div.sk-serial {display: flex;flex-direction: column;align-items: center;background-color: white;padding-right: 0.2em;padding-left: 0.2em;}#sk-c601bcb7-448f-4cde-bef9-8d1517dcba4a div.sk-item {z-index: 1;}#sk-c601bcb7-448f-4cde-bef9-8d1517dcba4a div.sk-parallel {display: flex;align-items: stretch;justify-content: center;background-color: white;}#sk-c601bcb7-448f-4cde-bef9-8d1517dcba4a div.sk-parallel::before {content: \"\";position: absolute;border-left: 1px solid gray;box-sizing: border-box;top: 2em;bottom: 0;left: 50%;}#sk-c601bcb7-448f-4cde-bef9-8d1517dcba4a div.sk-parallel-item {display: flex;flex-direction: column;position: relative;background-color: white;}#sk-c601bcb7-448f-4cde-bef9-8d1517dcba4a div.sk-parallel-item:first-child::after {align-self: flex-end;width: 50%;}#sk-c601bcb7-448f-4cde-bef9-8d1517dcba4a div.sk-parallel-item:last-child::after {align-self: flex-start;width: 50%;}#sk-c601bcb7-448f-4cde-bef9-8d1517dcba4a div.sk-parallel-item:only-child::after {width: 0;}#sk-c601bcb7-448f-4cde-bef9-8d1517dcba4a div.sk-dashed-wrapped {border: 1px dashed gray;margin: 0 0.4em 0.5em 0.4em;box-sizing: border-box;padding-bottom: 0.4em;background-color: white;position: relative;}#sk-c601bcb7-448f-4cde-bef9-8d1517dcba4a div.sk-label label {font-family: monospace;font-weight: bold;background-color: white;display: inline-block;line-height: 1.2em;}#sk-c601bcb7-448f-4cde-bef9-8d1517dcba4a div.sk-label-container {position: relative;z-index: 2;text-align: center;}#sk-c601bcb7-448f-4cde-bef9-8d1517dcba4a div.sk-container {/* jupyter's `normalize.less` sets `[hidden] { display: none; }` but bootstrap.min.css set `[hidden] { display: none !important; }` so we also need the `!important` here to be able to override the default hidden behavior on the sphinx rendered scikit-learn.org. See: https://github.com/scikit-learn/scikit-learn/issues/21755 */display: inline-block !important;position: relative;}#sk-c601bcb7-448f-4cde-bef9-8d1517dcba4a div.sk-text-repr-fallback {display: none;}</style><div id=\"sk-c601bcb7-448f-4cde-bef9-8d1517dcba4a\" class=\"sk-top-container\"><div class=\"sk-text-repr-fallback\"><pre>Pipeline(steps=[(&#x27;preprocessing&#x27;,\n",
       "                 ColumnTransformer(transformers=[(&#x27;categorical&#x27;,\n",
       "                                                  Pipeline(steps=[(&#x27;categorical_imputer&#x27;,\n",
       "                                                                   SimpleImputer(fill_value=&#x27;missing&#x27;,\n",
       "                                                                                 strategy=&#x27;constant&#x27;)),\n",
       "                                                                  (&#x27;onehot&#x27;,\n",
       "                                                                   OneHotEncoder(handle_unknown=&#x27;ignore&#x27;))]),\n",
       "                                                  [&#x27;Car Make&#x27;, &#x27;Car Model&#x27;,\n",
       "                                                   &#x27;Body Type&#x27;, &#x27;Fuel Type&#x27;,\n",
       "                                                   &#x27;Transmission Type&#x27;,\n",
       "                                                   &#x27;Acceleration (0-60 mph)&#x27;,\n",
       "                                                   &#x27;Entertainment Features&#x27;,\n",
       "                                                   &#x27;Customer Ra...\n",
       "                                                   &#x27;Adaptive Cruise Control&#x27;,\n",
       "                                                   &#x27;Audi Pre Sense Front&#x27;,\n",
       "                                                   &#x27;Blind Spot Warning&#x27;,\n",
       "                                                   &#x27;Rear Traffic Alert&#x27;,\n",
       "                                                   &#x27;Airbags&#x27;, &#x27;Parking Assist&#x27;,\n",
       "                                                   &#x27;Predictive Forward &#x27;\n",
       "                                                   &#x27;Collision Warning&#x27;,\n",
       "                                                   &#x27;Ford Co-Pilot360&#x27;,\n",
       "                                                   &#x27;Active Distance Assist&#x27;,\n",
       "                                                   &#x27;AdvanceTrac Electronic &#x27;\n",
       "                                                   &#x27;Stability Control&#x27;,\n",
       "                                                   &#x27;Lexus Safety System+ 3.0&#x27;,\n",
       "                                                   &#x27;Blind Spot Information &#x27;\n",
       "                                                   &#x27;System&#x27;,\n",
       "                                                   &#x27;Lane Keep Assist&#x27;, ...])])),\n",
       "                (&#x27;PCA&#x27;, PCA()), (&#x27;regressor&#x27;, LinearRegression())])</pre><b>Please rerun this cell to show the HTML repr or trust the notebook.</b></div><div class=\"sk-container\" hidden><div class=\"sk-item sk-dashed-wrapped\"><div class=\"sk-label-container\"><div class=\"sk-label sk-toggleable\"><input class=\"sk-toggleable__control sk-hidden--visually\" id=\"32f734e8-c412-4aeb-bfde-945c214760c4\" type=\"checkbox\" ><label for=\"32f734e8-c412-4aeb-bfde-945c214760c4\" class=\"sk-toggleable__label sk-toggleable__label-arrow\">Pipeline</label><div class=\"sk-toggleable__content\"><pre>Pipeline(steps=[(&#x27;preprocessing&#x27;,\n",
       "                 ColumnTransformer(transformers=[(&#x27;categorical&#x27;,\n",
       "                                                  Pipeline(steps=[(&#x27;categorical_imputer&#x27;,\n",
       "                                                                   SimpleImputer(fill_value=&#x27;missing&#x27;,\n",
       "                                                                                 strategy=&#x27;constant&#x27;)),\n",
       "                                                                  (&#x27;onehot&#x27;,\n",
       "                                                                   OneHotEncoder(handle_unknown=&#x27;ignore&#x27;))]),\n",
       "                                                  [&#x27;Car Make&#x27;, &#x27;Car Model&#x27;,\n",
       "                                                   &#x27;Body Type&#x27;, &#x27;Fuel Type&#x27;,\n",
       "                                                   &#x27;Transmission Type&#x27;,\n",
       "                                                   &#x27;Acceleration (0-60 mph)&#x27;,\n",
       "                                                   &#x27;Entertainment Features&#x27;,\n",
       "                                                   &#x27;Customer Ra...\n",
       "                                                   &#x27;Adaptive Cruise Control&#x27;,\n",
       "                                                   &#x27;Audi Pre Sense Front&#x27;,\n",
       "                                                   &#x27;Blind Spot Warning&#x27;,\n",
       "                                                   &#x27;Rear Traffic Alert&#x27;,\n",
       "                                                   &#x27;Airbags&#x27;, &#x27;Parking Assist&#x27;,\n",
       "                                                   &#x27;Predictive Forward &#x27;\n",
       "                                                   &#x27;Collision Warning&#x27;,\n",
       "                                                   &#x27;Ford Co-Pilot360&#x27;,\n",
       "                                                   &#x27;Active Distance Assist&#x27;,\n",
       "                                                   &#x27;AdvanceTrac Electronic &#x27;\n",
       "                                                   &#x27;Stability Control&#x27;,\n",
       "                                                   &#x27;Lexus Safety System+ 3.0&#x27;,\n",
       "                                                   &#x27;Blind Spot Information &#x27;\n",
       "                                                   &#x27;System&#x27;,\n",
       "                                                   &#x27;Lane Keep Assist&#x27;, ...])])),\n",
       "                (&#x27;PCA&#x27;, PCA()), (&#x27;regressor&#x27;, LinearRegression())])</pre></div></div></div><div class=\"sk-serial\"><div class=\"sk-item sk-dashed-wrapped\"><div class=\"sk-label-container\"><div class=\"sk-label sk-toggleable\"><input class=\"sk-toggleable__control sk-hidden--visually\" id=\"8c3331bc-7d33-41dd-96c3-12398c0ebfc2\" type=\"checkbox\" ><label for=\"8c3331bc-7d33-41dd-96c3-12398c0ebfc2\" class=\"sk-toggleable__label sk-toggleable__label-arrow\">preprocessing: ColumnTransformer</label><div class=\"sk-toggleable__content\"><pre>ColumnTransformer(transformers=[(&#x27;categorical&#x27;,\n",
       "                                 Pipeline(steps=[(&#x27;categorical_imputer&#x27;,\n",
       "                                                  SimpleImputer(fill_value=&#x27;missing&#x27;,\n",
       "                                                                strategy=&#x27;constant&#x27;)),\n",
       "                                                 (&#x27;onehot&#x27;,\n",
       "                                                  OneHotEncoder(handle_unknown=&#x27;ignore&#x27;))]),\n",
       "                                 [&#x27;Car Make&#x27;, &#x27;Car Model&#x27;, &#x27;Body Type&#x27;,\n",
       "                                  &#x27;Fuel Type&#x27;, &#x27;Transmission Type&#x27;,\n",
       "                                  &#x27;Acceleration (0-60 mph)&#x27;,\n",
       "                                  &#x27;Entertainment Features&#x27;,\n",
       "                                  &#x27;Customer Ratings&#x27;]),\n",
       "                                (&#x27;numerical&#x27;,\n",
       "                                 Pipeline(st...\n",
       "                                  &#x27;EyeSight Driver Assist Technology&#x27;,\n",
       "                                  &#x27;Trail Control&#x27;, &#x27;Adaptive Cruise Control&#x27;,\n",
       "                                  &#x27;Audi Pre Sense Front&#x27;, &#x27;Blind Spot Warning&#x27;,\n",
       "                                  &#x27;Rear Traffic Alert&#x27;, &#x27;Airbags&#x27;,\n",
       "                                  &#x27;Parking Assist&#x27;,\n",
       "                                  &#x27;Predictive Forward Collision Warning&#x27;,\n",
       "                                  &#x27;Ford Co-Pilot360&#x27;, &#x27;Active Distance Assist&#x27;,\n",
       "                                  &#x27;AdvanceTrac Electronic Stability Control&#x27;,\n",
       "                                  &#x27;Lexus Safety System+ 3.0&#x27;,\n",
       "                                  &#x27;Blind Spot Information System&#x27;,\n",
       "                                  &#x27;Lane Keep Assist&#x27;, ...])])</pre></div></div></div><div class=\"sk-parallel\"><div class=\"sk-parallel-item\"><div class=\"sk-item\"><div class=\"sk-label-container\"><div class=\"sk-label sk-toggleable\"><input class=\"sk-toggleable__control sk-hidden--visually\" id=\"a6d8daf1-647c-4f03-bfbe-cf213bcb59d7\" type=\"checkbox\" ><label for=\"a6d8daf1-647c-4f03-bfbe-cf213bcb59d7\" class=\"sk-toggleable__label sk-toggleable__label-arrow\">categorical</label><div class=\"sk-toggleable__content\"><pre>[&#x27;Car Make&#x27;, &#x27;Car Model&#x27;, &#x27;Body Type&#x27;, &#x27;Fuel Type&#x27;, &#x27;Transmission Type&#x27;, &#x27;Acceleration (0-60 mph)&#x27;, &#x27;Entertainment Features&#x27;, &#x27;Customer Ratings&#x27;]</pre></div></div></div><div class=\"sk-serial\"><div class=\"sk-item\"><div class=\"sk-serial\"><div class=\"sk-item\"><div class=\"sk-estimator sk-toggleable\"><input class=\"sk-toggleable__control sk-hidden--visually\" id=\"80b3ea9b-fd73-4a69-98bf-4b82cc187ee9\" type=\"checkbox\" ><label for=\"80b3ea9b-fd73-4a69-98bf-4b82cc187ee9\" class=\"sk-toggleable__label sk-toggleable__label-arrow\">SimpleImputer</label><div class=\"sk-toggleable__content\"><pre>SimpleImputer(fill_value=&#x27;missing&#x27;, strategy=&#x27;constant&#x27;)</pre></div></div></div><div class=\"sk-item\"><div class=\"sk-estimator sk-toggleable\"><input class=\"sk-toggleable__control sk-hidden--visually\" id=\"78a2aec5-533e-4d07-a94f-50118e326d88\" type=\"checkbox\" ><label for=\"78a2aec5-533e-4d07-a94f-50118e326d88\" class=\"sk-toggleable__label sk-toggleable__label-arrow\">OneHotEncoder</label><div class=\"sk-toggleable__content\"><pre>OneHotEncoder(handle_unknown=&#x27;ignore&#x27;)</pre></div></div></div></div></div></div></div></div><div class=\"sk-parallel-item\"><div class=\"sk-item\"><div class=\"sk-label-container\"><div class=\"sk-label sk-toggleable\"><input class=\"sk-toggleable__control sk-hidden--visually\" id=\"5aa5ceb3-37d1-4487-b692-8073bba682c5\" type=\"checkbox\" ><label for=\"5aa5ceb3-37d1-4487-b692-8073bba682c5\" class=\"sk-toggleable__label sk-toggleable__label-arrow\">numerical</label><div class=\"sk-toggleable__content\"><pre>[&#x27;Year&#x27;, &#x27;Engine Size (L)&#x27;, &#x27;Horsepower&#x27;, &#x27;Torque (Nm)&#x27;, &#x27;Top Speed (mph)&#x27;, &#x27;Mileage (MPG)&#x27;, &#x27;Sales Figures (Units Sold)&#x27;, &#x27;Trailer Brake Control&#x27;, &#x27;Forward Collision Alert&#x27;, &#x27;Trailer-Sway Control&#x27;, &#x27;Rear Cross Path Detection&#x27;, &#x27;Traffic Sign Assist&#x27;, &#x27;Lexus Safety System+ 2.5&#x27;, &#x27;Trailer Sway Control&#x27;, &#x27;Parking Assistant Plus&#x27;, &#x27;EyeSight Driver Assist Technology&#x27;, &#x27;Trail Control&#x27;, &#x27;Adaptive Cruise Control&#x27;, &#x27;Audi Pre Sense Front&#x27;, &#x27;Blind Spot Warning&#x27;, &#x27;Rear Traffic Alert&#x27;, &#x27;Airbags&#x27;, &#x27;Parking Assist&#x27;, &#x27;Predictive Forward Collision Warning&#x27;, &#x27;Ford Co-Pilot360&#x27;, &#x27;Active Distance Assist&#x27;, &#x27;AdvanceTrac Electronic Stability Control&#x27;, &#x27;Lexus Safety System+ 3.0&#x27;, &#x27;Blind Spot Information System&#x27;, &#x27;Lane Keep Assist&#x27;, &#x27;Active Brake Assist&#x27;, &#x27;Backup Camera&#x27;, &#x27;Collision Mitigation Braking System&#x27;, &#x27;Forward Collision-Avoidance Assist&#x27;, &#x27;Toyota Safety Sense P&#x27;, &#x27;Automatic Emergency Braking&#x27;, &#x27;AdvanceTrac with Roll Stability Control&#x27;, &#x27;Dynamic Stability Control&#x27;, &#x27;Rear Parking Assist Sonar&#x27;, &#x27;Mazda Connected Services&#x27;, &#x27;Electronic Roll Mitigation&#x27;, &#x27;Lexus Safety System+ 3.5&#x27;, &#x27;StabiliTrak Electronic Stability Control&#x27;, &#x27;City Safety Collision Avoidance Technology&#x27;, &#x27;Multi-View Rear Camera&#x27;, &#x27;RearView Monitor&#x27;, &#x27;Hill Start Assist Control&#x27;, &#x27;Traction Control&#x27;, &#x27;ParkView Rear Back-Up Camera&#x27;, &#x27;Audi Pre Sense Basic&#x27;, &#x27;Forward Collision Warning&#x27;, &#x27;Forward Collision Avoidance-Assist with Pedestrian Detection&#x27;, &#x27;Rear View Camera&#x27;, &#x27;Electronic Stability Control&#x27;, &#x27;Audi Pre Sense City&#x27;, &#x27;Toyota Safety Sense 2.5+&#x27;, &#x27;Intelligent Forward Collision Warning&#x27;, &#x27;Rearview Camera&#x27;, &#x27;Blind Spot Monitoring&#x27;, &#x27;StabiliTrak&#x27;, &#x27;Rear Automatic Braking&#x27;, &#x27;ABS&#x27;, &#x27;Performance Traction Management&#x27;, &#x27;Rear Cross Traffic Alert&#x27;, &#x27;Nissan Safety Shield 360&#x27;, &#x27;Honda Sensing&#x27;, &#x27;Audi Side Assist&#x27;, &#x27;Road Departure Mitigation&#x27;, &#x27;Lane Departure Warning&#x27;, &#x27;AcuraWatch&#x27;, &#x27;AdvanceTrac with RSC&#x27;, &#x27;Forward Collision Avoidance Assist&#x27;, &#x27;Active Driving Assistant&#x27;, &#x27;Collision Mitigation&#x27;, &#x27;Lane Assist&#x27;, &#x27;Push Button Start&#x27;, &#x27;Power Front Seats&#x27;, &#x27;Power Fold Third-Row Seats&#x27;, &#x27;Heated Front Seats&#x27;, &#x27;Wireless Smartphone Charging&#x27;, &#x27;Power Front Windows&#x27;, &#x27;Power Liftgate&#x27;, &#x27;Rear Occupant Alert&#x27;, &#x27;Lane Keeping Assist&#x27;, &#x27;Removable Top&#x27;, &#x27;Keyless Entry&#x27;, &quot;Power Driver&#x27;s Seat&quot;, &#x27;Third-Row Seating&#x27;, &#x27;Tri-Zone Automatic Climate Control&#x27;, &#x27;Heated and Ventilated Front Seats&#x27;, &#x27;Ambient Lighting&#x27;, &#x27;Bluetooth Connectivity&#x27;, &#x27;Dual-Zone Climate Control&#x27;, &#x27;Panoramic Sunroof&#x27;, &#x27;Tri-Zone Climate Control&#x27;, &#x27;Sunroof&#x27;, &#x27;Power Mirrors&#x27;, &#x27;Leather Seats&#x27;, &#x27;Cloth Seats&#x27;, &#x27;Bose Audio System&#x27;, &#x27;Power Rear Window&#x27;, &#x27;Power Windows&#x27;, &#x27;Panoramic Moonroof&#x27;, &#x27;Dual-Zone Automatic Climate Control&#x27;, &#x27;Removable Doors&#x27;, &#x27;Power Tailgate&#x27;, &#x27;Keyless Access&#x27;, &#x27;tow hooks&#x27;, &#x27;tow hitch&#x27;, &#x27;off-road suspension&#x27;, &#x27;dual exhaust&#x27;, &#x27;power sunroof&#x27;, &#x27;17-inch alloy wheels&#x27;, &#x27;led headlights&#x27;, &#x27;19-inch alloy wheels&#x27;, &#x27;20-inch alloy wheels&#x27;, &#x27;power liftgate&#x27;, &#x27;22-inch alloy wheels&#x27;, &#x27;18-inch alloy wheels&#x27;, &#x27;sunroof&#x27;, &#x27;dual power sliding doors&#x27;, &#x27;16-inch alloy wheels&#x27;, &#x27;power sliding doors&#x27;, &#x27;led taillights&#x27;, &#x27;roof rails&#x27;, &#x27;power trunk&#x27;, &#x27;bedliner&#x27;, &#x27;deck rail system&#x27;, &#x27;removable top&#x27;, &#x27;bed liner&#x27;, &#x27;led daytime running lights&#x27;, &#x27;rear spoiler&#x27;, &#x27;panoramic sunroof&#x27;, &#x27;alloy wheels&#x27;]</pre></div></div></div><div class=\"sk-serial\"><div class=\"sk-item\"><div class=\"sk-serial\"><div class=\"sk-item\"><div class=\"sk-estimator sk-toggleable\"><input class=\"sk-toggleable__control sk-hidden--visually\" id=\"43b08a2d-d7b5-4f63-9cbe-a9c25482166e\" type=\"checkbox\" ><label for=\"43b08a2d-d7b5-4f63-9cbe-a9c25482166e\" class=\"sk-toggleable__label sk-toggleable__label-arrow\">SimpleImputer</label><div class=\"sk-toggleable__content\"><pre>SimpleImputer()</pre></div></div></div><div class=\"sk-item\"><div class=\"sk-estimator sk-toggleable\"><input class=\"sk-toggleable__control sk-hidden--visually\" id=\"d59a92bc-5390-44b2-9182-61cf41ca577a\" type=\"checkbox\" ><label for=\"d59a92bc-5390-44b2-9182-61cf41ca577a\" class=\"sk-toggleable__label sk-toggleable__label-arrow\">StandardScaler</label><div class=\"sk-toggleable__content\"><pre>StandardScaler()</pre></div></div></div></div></div></div></div></div></div></div><div class=\"sk-item\"><div class=\"sk-estimator sk-toggleable\"><input class=\"sk-toggleable__control sk-hidden--visually\" id=\"73ef704a-6f30-441e-af9d-63ebad19750c\" type=\"checkbox\" ><label for=\"73ef704a-6f30-441e-af9d-63ebad19750c\" class=\"sk-toggleable__label sk-toggleable__label-arrow\">PCA</label><div class=\"sk-toggleable__content\"><pre>PCA()</pre></div></div></div><div class=\"sk-item\"><div class=\"sk-estimator sk-toggleable\"><input class=\"sk-toggleable__control sk-hidden--visually\" id=\"de4068ca-22b8-49ec-a19d-36cd93a5df8b\" type=\"checkbox\" ><label for=\"de4068ca-22b8-49ec-a19d-36cd93a5df8b\" class=\"sk-toggleable__label sk-toggleable__label-arrow\">LinearRegression</label><div class=\"sk-toggleable__content\"><pre>LinearRegression()</pre></div></div></div></div></div></div></div>"
      ],
      "text/plain": [
       "Pipeline(steps=[('preprocessing',\n",
       "                 ColumnTransformer(transformers=[('categorical',\n",
       "                                                  Pipeline(steps=[('categorical_imputer',\n",
       "                                                                   SimpleImputer(fill_value='missing',\n",
       "                                                                                 strategy='constant')),\n",
       "                                                                  ('onehot',\n",
       "                                                                   OneHotEncoder(handle_unknown='ignore'))]),\n",
       "                                                  ['Car Make', 'Car Model',\n",
       "                                                   'Body Type', 'Fuel Type',\n",
       "                                                   'Transmission Type',\n",
       "                                                   'Acceleration (0-60 mph)',\n",
       "                                                   'Entertainment Features',\n",
       "                                                   'Customer Ra...\n",
       "                                                   'Adaptive Cruise Control',\n",
       "                                                   'Audi Pre Sense Front',\n",
       "                                                   'Blind Spot Warning',\n",
       "                                                   'Rear Traffic Alert',\n",
       "                                                   'Airbags', 'Parking Assist',\n",
       "                                                   'Predictive Forward '\n",
       "                                                   'Collision Warning',\n",
       "                                                   'Ford Co-Pilot360',\n",
       "                                                   'Active Distance Assist',\n",
       "                                                   'AdvanceTrac Electronic '\n",
       "                                                   'Stability Control',\n",
       "                                                   'Lexus Safety System+ 3.0',\n",
       "                                                   'Blind Spot Information '\n",
       "                                                   'System',\n",
       "                                                   'Lane Keep Assist', ...])])),\n",
       "                ('PCA', PCA()), ('regressor', LinearRegression())])"
      ]
     },
     "execution_count": 854,
     "metadata": {},
     "output_type": "execute_result"
    }
   ],
   "source": [
    "Linear_pipe"
   ]
  },
  {
   "cell_type": "code",
   "execution_count": null,
   "id": "660d2eb4",
   "metadata": {},
   "outputs": [],
   "source": []
  },
  {
   "cell_type": "code",
   "execution_count": 857,
   "id": "a2a6838c",
   "metadata": {},
   "outputs": [],
   "source": [
    "steps_for_ensambleRF = [('all_col_transformer',all_col_transformer),\n",
    "                        ('PCA' , PCA()),\n",
    "                        ('RF_regressor' , RandomForestRegressor(n_estimators=150, max_depth=8))]"
   ]
  },
  {
   "cell_type": "code",
   "execution_count": 858,
   "id": "fcfaa017",
   "metadata": {},
   "outputs": [],
   "source": [
    "RFR_pipe = Pipeline(steps_for_ensambleRF)"
   ]
  },
  {
   "cell_type": "code",
   "execution_count": 859,
   "id": "28444468",
   "metadata": {},
   "outputs": [
    {
     "data": {
      "text/html": [
       "<style>#sk-e7688678-06d9-4532-9dac-a91177d6cf98 {color: black;background-color: white;}#sk-e7688678-06d9-4532-9dac-a91177d6cf98 pre{padding: 0;}#sk-e7688678-06d9-4532-9dac-a91177d6cf98 div.sk-toggleable {background-color: white;}#sk-e7688678-06d9-4532-9dac-a91177d6cf98 label.sk-toggleable__label {cursor: pointer;display: block;width: 100%;margin-bottom: 0;padding: 0.3em;box-sizing: border-box;text-align: center;}#sk-e7688678-06d9-4532-9dac-a91177d6cf98 label.sk-toggleable__label-arrow:before {content: \"▸\";float: left;margin-right: 0.25em;color: #696969;}#sk-e7688678-06d9-4532-9dac-a91177d6cf98 label.sk-toggleable__label-arrow:hover:before {color: black;}#sk-e7688678-06d9-4532-9dac-a91177d6cf98 div.sk-estimator:hover label.sk-toggleable__label-arrow:before {color: black;}#sk-e7688678-06d9-4532-9dac-a91177d6cf98 div.sk-toggleable__content {max-height: 0;max-width: 0;overflow: hidden;text-align: left;background-color: #f0f8ff;}#sk-e7688678-06d9-4532-9dac-a91177d6cf98 div.sk-toggleable__content pre {margin: 0.2em;color: black;border-radius: 0.25em;background-color: #f0f8ff;}#sk-e7688678-06d9-4532-9dac-a91177d6cf98 input.sk-toggleable__control:checked~div.sk-toggleable__content {max-height: 200px;max-width: 100%;overflow: auto;}#sk-e7688678-06d9-4532-9dac-a91177d6cf98 input.sk-toggleable__control:checked~label.sk-toggleable__label-arrow:before {content: \"▾\";}#sk-e7688678-06d9-4532-9dac-a91177d6cf98 div.sk-estimator input.sk-toggleable__control:checked~label.sk-toggleable__label {background-color: #d4ebff;}#sk-e7688678-06d9-4532-9dac-a91177d6cf98 div.sk-label input.sk-toggleable__control:checked~label.sk-toggleable__label {background-color: #d4ebff;}#sk-e7688678-06d9-4532-9dac-a91177d6cf98 input.sk-hidden--visually {border: 0;clip: rect(1px 1px 1px 1px);clip: rect(1px, 1px, 1px, 1px);height: 1px;margin: -1px;overflow: hidden;padding: 0;position: absolute;width: 1px;}#sk-e7688678-06d9-4532-9dac-a91177d6cf98 div.sk-estimator {font-family: monospace;background-color: #f0f8ff;border: 1px dotted black;border-radius: 0.25em;box-sizing: border-box;margin-bottom: 0.5em;}#sk-e7688678-06d9-4532-9dac-a91177d6cf98 div.sk-estimator:hover {background-color: #d4ebff;}#sk-e7688678-06d9-4532-9dac-a91177d6cf98 div.sk-parallel-item::after {content: \"\";width: 100%;border-bottom: 1px solid gray;flex-grow: 1;}#sk-e7688678-06d9-4532-9dac-a91177d6cf98 div.sk-label:hover label.sk-toggleable__label {background-color: #d4ebff;}#sk-e7688678-06d9-4532-9dac-a91177d6cf98 div.sk-serial::before {content: \"\";position: absolute;border-left: 1px solid gray;box-sizing: border-box;top: 2em;bottom: 0;left: 50%;}#sk-e7688678-06d9-4532-9dac-a91177d6cf98 div.sk-serial {display: flex;flex-direction: column;align-items: center;background-color: white;padding-right: 0.2em;padding-left: 0.2em;}#sk-e7688678-06d9-4532-9dac-a91177d6cf98 div.sk-item {z-index: 1;}#sk-e7688678-06d9-4532-9dac-a91177d6cf98 div.sk-parallel {display: flex;align-items: stretch;justify-content: center;background-color: white;}#sk-e7688678-06d9-4532-9dac-a91177d6cf98 div.sk-parallel::before {content: \"\";position: absolute;border-left: 1px solid gray;box-sizing: border-box;top: 2em;bottom: 0;left: 50%;}#sk-e7688678-06d9-4532-9dac-a91177d6cf98 div.sk-parallel-item {display: flex;flex-direction: column;position: relative;background-color: white;}#sk-e7688678-06d9-4532-9dac-a91177d6cf98 div.sk-parallel-item:first-child::after {align-self: flex-end;width: 50%;}#sk-e7688678-06d9-4532-9dac-a91177d6cf98 div.sk-parallel-item:last-child::after {align-self: flex-start;width: 50%;}#sk-e7688678-06d9-4532-9dac-a91177d6cf98 div.sk-parallel-item:only-child::after {width: 0;}#sk-e7688678-06d9-4532-9dac-a91177d6cf98 div.sk-dashed-wrapped {border: 1px dashed gray;margin: 0 0.4em 0.5em 0.4em;box-sizing: border-box;padding-bottom: 0.4em;background-color: white;position: relative;}#sk-e7688678-06d9-4532-9dac-a91177d6cf98 div.sk-label label {font-family: monospace;font-weight: bold;background-color: white;display: inline-block;line-height: 1.2em;}#sk-e7688678-06d9-4532-9dac-a91177d6cf98 div.sk-label-container {position: relative;z-index: 2;text-align: center;}#sk-e7688678-06d9-4532-9dac-a91177d6cf98 div.sk-container {/* jupyter's `normalize.less` sets `[hidden] { display: none; }` but bootstrap.min.css set `[hidden] { display: none !important; }` so we also need the `!important` here to be able to override the default hidden behavior on the sphinx rendered scikit-learn.org. See: https://github.com/scikit-learn/scikit-learn/issues/21755 */display: inline-block !important;position: relative;}#sk-e7688678-06d9-4532-9dac-a91177d6cf98 div.sk-text-repr-fallback {display: none;}</style><div id=\"sk-e7688678-06d9-4532-9dac-a91177d6cf98\" class=\"sk-top-container\"><div class=\"sk-text-repr-fallback\"><pre>Pipeline(steps=[(&#x27;preprocessing&#x27;,\n",
       "                 ColumnTransformer(transformers=[(&#x27;categorical&#x27;,\n",
       "                                                  Pipeline(steps=[(&#x27;categorical_imputer&#x27;,\n",
       "                                                                   SimpleImputer(fill_value=&#x27;missing&#x27;,\n",
       "                                                                                 strategy=&#x27;constant&#x27;)),\n",
       "                                                                  (&#x27;onehot&#x27;,\n",
       "                                                                   OneHotEncoder(handle_unknown=&#x27;ignore&#x27;))]),\n",
       "                                                  [&#x27;Car Make&#x27;, &#x27;Car Model&#x27;,\n",
       "                                                   &#x27;Body Type&#x27;, &#x27;Fuel Type&#x27;,\n",
       "                                                   &#x27;Transmission Type&#x27;,\n",
       "                                                   &#x27;Acceleration (0-60 mph)&#x27;,\n",
       "                                                   &#x27;Entertainment Features&#x27;,\n",
       "                                                   &#x27;Customer Ra...\n",
       "                                                   &#x27;Blind Spot Warning&#x27;,\n",
       "                                                   &#x27;Rear Traffic Alert&#x27;,\n",
       "                                                   &#x27;Airbags&#x27;, &#x27;Parking Assist&#x27;,\n",
       "                                                   &#x27;Predictive Forward &#x27;\n",
       "                                                   &#x27;Collision Warning&#x27;,\n",
       "                                                   &#x27;Ford Co-Pilot360&#x27;,\n",
       "                                                   &#x27;Active Distance Assist&#x27;,\n",
       "                                                   &#x27;AdvanceTrac Electronic &#x27;\n",
       "                                                   &#x27;Stability Control&#x27;,\n",
       "                                                   &#x27;Lexus Safety System+ 3.0&#x27;,\n",
       "                                                   &#x27;Blind Spot Information &#x27;\n",
       "                                                   &#x27;System&#x27;,\n",
       "                                                   &#x27;Lane Keep Assist&#x27;, ...])])),\n",
       "                (&#x27;PCA&#x27;, PCA()),\n",
       "                (&#x27;RF_regressor&#x27;,\n",
       "                 RandomForestRegressor(max_depth=8, n_estimators=150))])</pre><b>Please rerun this cell to show the HTML repr or trust the notebook.</b></div><div class=\"sk-container\" hidden><div class=\"sk-item sk-dashed-wrapped\"><div class=\"sk-label-container\"><div class=\"sk-label sk-toggleable\"><input class=\"sk-toggleable__control sk-hidden--visually\" id=\"bd748045-59fa-49f6-b71d-873b519c4216\" type=\"checkbox\" ><label for=\"bd748045-59fa-49f6-b71d-873b519c4216\" class=\"sk-toggleable__label sk-toggleable__label-arrow\">Pipeline</label><div class=\"sk-toggleable__content\"><pre>Pipeline(steps=[(&#x27;preprocessing&#x27;,\n",
       "                 ColumnTransformer(transformers=[(&#x27;categorical&#x27;,\n",
       "                                                  Pipeline(steps=[(&#x27;categorical_imputer&#x27;,\n",
       "                                                                   SimpleImputer(fill_value=&#x27;missing&#x27;,\n",
       "                                                                                 strategy=&#x27;constant&#x27;)),\n",
       "                                                                  (&#x27;onehot&#x27;,\n",
       "                                                                   OneHotEncoder(handle_unknown=&#x27;ignore&#x27;))]),\n",
       "                                                  [&#x27;Car Make&#x27;, &#x27;Car Model&#x27;,\n",
       "                                                   &#x27;Body Type&#x27;, &#x27;Fuel Type&#x27;,\n",
       "                                                   &#x27;Transmission Type&#x27;,\n",
       "                                                   &#x27;Acceleration (0-60 mph)&#x27;,\n",
       "                                                   &#x27;Entertainment Features&#x27;,\n",
       "                                                   &#x27;Customer Ra...\n",
       "                                                   &#x27;Blind Spot Warning&#x27;,\n",
       "                                                   &#x27;Rear Traffic Alert&#x27;,\n",
       "                                                   &#x27;Airbags&#x27;, &#x27;Parking Assist&#x27;,\n",
       "                                                   &#x27;Predictive Forward &#x27;\n",
       "                                                   &#x27;Collision Warning&#x27;,\n",
       "                                                   &#x27;Ford Co-Pilot360&#x27;,\n",
       "                                                   &#x27;Active Distance Assist&#x27;,\n",
       "                                                   &#x27;AdvanceTrac Electronic &#x27;\n",
       "                                                   &#x27;Stability Control&#x27;,\n",
       "                                                   &#x27;Lexus Safety System+ 3.0&#x27;,\n",
       "                                                   &#x27;Blind Spot Information &#x27;\n",
       "                                                   &#x27;System&#x27;,\n",
       "                                                   &#x27;Lane Keep Assist&#x27;, ...])])),\n",
       "                (&#x27;PCA&#x27;, PCA()),\n",
       "                (&#x27;RF_regressor&#x27;,\n",
       "                 RandomForestRegressor(max_depth=8, n_estimators=150))])</pre></div></div></div><div class=\"sk-serial\"><div class=\"sk-item sk-dashed-wrapped\"><div class=\"sk-label-container\"><div class=\"sk-label sk-toggleable\"><input class=\"sk-toggleable__control sk-hidden--visually\" id=\"4f8b3557-dde7-495c-a188-f1002d88136b\" type=\"checkbox\" ><label for=\"4f8b3557-dde7-495c-a188-f1002d88136b\" class=\"sk-toggleable__label sk-toggleable__label-arrow\">preprocessing: ColumnTransformer</label><div class=\"sk-toggleable__content\"><pre>ColumnTransformer(transformers=[(&#x27;categorical&#x27;,\n",
       "                                 Pipeline(steps=[(&#x27;categorical_imputer&#x27;,\n",
       "                                                  SimpleImputer(fill_value=&#x27;missing&#x27;,\n",
       "                                                                strategy=&#x27;constant&#x27;)),\n",
       "                                                 (&#x27;onehot&#x27;,\n",
       "                                                  OneHotEncoder(handle_unknown=&#x27;ignore&#x27;))]),\n",
       "                                 [&#x27;Car Make&#x27;, &#x27;Car Model&#x27;, &#x27;Body Type&#x27;,\n",
       "                                  &#x27;Fuel Type&#x27;, &#x27;Transmission Type&#x27;,\n",
       "                                  &#x27;Acceleration (0-60 mph)&#x27;,\n",
       "                                  &#x27;Entertainment Features&#x27;,\n",
       "                                  &#x27;Customer Ratings&#x27;]),\n",
       "                                (&#x27;numerical&#x27;,\n",
       "                                 Pipeline(st...\n",
       "                                  &#x27;EyeSight Driver Assist Technology&#x27;,\n",
       "                                  &#x27;Trail Control&#x27;, &#x27;Adaptive Cruise Control&#x27;,\n",
       "                                  &#x27;Audi Pre Sense Front&#x27;, &#x27;Blind Spot Warning&#x27;,\n",
       "                                  &#x27;Rear Traffic Alert&#x27;, &#x27;Airbags&#x27;,\n",
       "                                  &#x27;Parking Assist&#x27;,\n",
       "                                  &#x27;Predictive Forward Collision Warning&#x27;,\n",
       "                                  &#x27;Ford Co-Pilot360&#x27;, &#x27;Active Distance Assist&#x27;,\n",
       "                                  &#x27;AdvanceTrac Electronic Stability Control&#x27;,\n",
       "                                  &#x27;Lexus Safety System+ 3.0&#x27;,\n",
       "                                  &#x27;Blind Spot Information System&#x27;,\n",
       "                                  &#x27;Lane Keep Assist&#x27;, ...])])</pre></div></div></div><div class=\"sk-parallel\"><div class=\"sk-parallel-item\"><div class=\"sk-item\"><div class=\"sk-label-container\"><div class=\"sk-label sk-toggleable\"><input class=\"sk-toggleable__control sk-hidden--visually\" id=\"4207e7d4-5efc-4ce4-b453-4141380c9a79\" type=\"checkbox\" ><label for=\"4207e7d4-5efc-4ce4-b453-4141380c9a79\" class=\"sk-toggleable__label sk-toggleable__label-arrow\">categorical</label><div class=\"sk-toggleable__content\"><pre>[&#x27;Car Make&#x27;, &#x27;Car Model&#x27;, &#x27;Body Type&#x27;, &#x27;Fuel Type&#x27;, &#x27;Transmission Type&#x27;, &#x27;Acceleration (0-60 mph)&#x27;, &#x27;Entertainment Features&#x27;, &#x27;Customer Ratings&#x27;]</pre></div></div></div><div class=\"sk-serial\"><div class=\"sk-item\"><div class=\"sk-serial\"><div class=\"sk-item\"><div class=\"sk-estimator sk-toggleable\"><input class=\"sk-toggleable__control sk-hidden--visually\" id=\"5e22a95b-1a19-476d-a3dc-653a5300d634\" type=\"checkbox\" ><label for=\"5e22a95b-1a19-476d-a3dc-653a5300d634\" class=\"sk-toggleable__label sk-toggleable__label-arrow\">SimpleImputer</label><div class=\"sk-toggleable__content\"><pre>SimpleImputer(fill_value=&#x27;missing&#x27;, strategy=&#x27;constant&#x27;)</pre></div></div></div><div class=\"sk-item\"><div class=\"sk-estimator sk-toggleable\"><input class=\"sk-toggleable__control sk-hidden--visually\" id=\"8cc39c4a-b866-4e86-a46d-6e892db5f8a0\" type=\"checkbox\" ><label for=\"8cc39c4a-b866-4e86-a46d-6e892db5f8a0\" class=\"sk-toggleable__label sk-toggleable__label-arrow\">OneHotEncoder</label><div class=\"sk-toggleable__content\"><pre>OneHotEncoder(handle_unknown=&#x27;ignore&#x27;)</pre></div></div></div></div></div></div></div></div><div class=\"sk-parallel-item\"><div class=\"sk-item\"><div class=\"sk-label-container\"><div class=\"sk-label sk-toggleable\"><input class=\"sk-toggleable__control sk-hidden--visually\" id=\"d3c8e743-b537-4efa-8727-39fc2ed9d061\" type=\"checkbox\" ><label for=\"d3c8e743-b537-4efa-8727-39fc2ed9d061\" class=\"sk-toggleable__label sk-toggleable__label-arrow\">numerical</label><div class=\"sk-toggleable__content\"><pre>[&#x27;Year&#x27;, &#x27;Engine Size (L)&#x27;, &#x27;Horsepower&#x27;, &#x27;Torque (Nm)&#x27;, &#x27;Top Speed (mph)&#x27;, &#x27;Mileage (MPG)&#x27;, &#x27;Sales Figures (Units Sold)&#x27;, &#x27;Trailer Brake Control&#x27;, &#x27;Forward Collision Alert&#x27;, &#x27;Trailer-Sway Control&#x27;, &#x27;Rear Cross Path Detection&#x27;, &#x27;Traffic Sign Assist&#x27;, &#x27;Lexus Safety System+ 2.5&#x27;, &#x27;Trailer Sway Control&#x27;, &#x27;Parking Assistant Plus&#x27;, &#x27;EyeSight Driver Assist Technology&#x27;, &#x27;Trail Control&#x27;, &#x27;Adaptive Cruise Control&#x27;, &#x27;Audi Pre Sense Front&#x27;, &#x27;Blind Spot Warning&#x27;, &#x27;Rear Traffic Alert&#x27;, &#x27;Airbags&#x27;, &#x27;Parking Assist&#x27;, &#x27;Predictive Forward Collision Warning&#x27;, &#x27;Ford Co-Pilot360&#x27;, &#x27;Active Distance Assist&#x27;, &#x27;AdvanceTrac Electronic Stability Control&#x27;, &#x27;Lexus Safety System+ 3.0&#x27;, &#x27;Blind Spot Information System&#x27;, &#x27;Lane Keep Assist&#x27;, &#x27;Active Brake Assist&#x27;, &#x27;Backup Camera&#x27;, &#x27;Collision Mitigation Braking System&#x27;, &#x27;Forward Collision-Avoidance Assist&#x27;, &#x27;Toyota Safety Sense P&#x27;, &#x27;Automatic Emergency Braking&#x27;, &#x27;AdvanceTrac with Roll Stability Control&#x27;, &#x27;Dynamic Stability Control&#x27;, &#x27;Rear Parking Assist Sonar&#x27;, &#x27;Mazda Connected Services&#x27;, &#x27;Electronic Roll Mitigation&#x27;, &#x27;Lexus Safety System+ 3.5&#x27;, &#x27;StabiliTrak Electronic Stability Control&#x27;, &#x27;City Safety Collision Avoidance Technology&#x27;, &#x27;Multi-View Rear Camera&#x27;, &#x27;RearView Monitor&#x27;, &#x27;Hill Start Assist Control&#x27;, &#x27;Traction Control&#x27;, &#x27;ParkView Rear Back-Up Camera&#x27;, &#x27;Audi Pre Sense Basic&#x27;, &#x27;Forward Collision Warning&#x27;, &#x27;Forward Collision Avoidance-Assist with Pedestrian Detection&#x27;, &#x27;Rear View Camera&#x27;, &#x27;Electronic Stability Control&#x27;, &#x27;Audi Pre Sense City&#x27;, &#x27;Toyota Safety Sense 2.5+&#x27;, &#x27;Intelligent Forward Collision Warning&#x27;, &#x27;Rearview Camera&#x27;, &#x27;Blind Spot Monitoring&#x27;, &#x27;StabiliTrak&#x27;, &#x27;Rear Automatic Braking&#x27;, &#x27;ABS&#x27;, &#x27;Performance Traction Management&#x27;, &#x27;Rear Cross Traffic Alert&#x27;, &#x27;Nissan Safety Shield 360&#x27;, &#x27;Honda Sensing&#x27;, &#x27;Audi Side Assist&#x27;, &#x27;Road Departure Mitigation&#x27;, &#x27;Lane Departure Warning&#x27;, &#x27;AcuraWatch&#x27;, &#x27;AdvanceTrac with RSC&#x27;, &#x27;Forward Collision Avoidance Assist&#x27;, &#x27;Active Driving Assistant&#x27;, &#x27;Collision Mitigation&#x27;, &#x27;Lane Assist&#x27;, &#x27;Push Button Start&#x27;, &#x27;Power Front Seats&#x27;, &#x27;Power Fold Third-Row Seats&#x27;, &#x27;Heated Front Seats&#x27;, &#x27;Wireless Smartphone Charging&#x27;, &#x27;Power Front Windows&#x27;, &#x27;Power Liftgate&#x27;, &#x27;Rear Occupant Alert&#x27;, &#x27;Lane Keeping Assist&#x27;, &#x27;Removable Top&#x27;, &#x27;Keyless Entry&#x27;, &quot;Power Driver&#x27;s Seat&quot;, &#x27;Third-Row Seating&#x27;, &#x27;Tri-Zone Automatic Climate Control&#x27;, &#x27;Heated and Ventilated Front Seats&#x27;, &#x27;Ambient Lighting&#x27;, &#x27;Bluetooth Connectivity&#x27;, &#x27;Dual-Zone Climate Control&#x27;, &#x27;Panoramic Sunroof&#x27;, &#x27;Tri-Zone Climate Control&#x27;, &#x27;Sunroof&#x27;, &#x27;Power Mirrors&#x27;, &#x27;Leather Seats&#x27;, &#x27;Cloth Seats&#x27;, &#x27;Bose Audio System&#x27;, &#x27;Power Rear Window&#x27;, &#x27;Power Windows&#x27;, &#x27;Panoramic Moonroof&#x27;, &#x27;Dual-Zone Automatic Climate Control&#x27;, &#x27;Removable Doors&#x27;, &#x27;Power Tailgate&#x27;, &#x27;Keyless Access&#x27;, &#x27;tow hooks&#x27;, &#x27;tow hitch&#x27;, &#x27;off-road suspension&#x27;, &#x27;dual exhaust&#x27;, &#x27;power sunroof&#x27;, &#x27;17-inch alloy wheels&#x27;, &#x27;led headlights&#x27;, &#x27;19-inch alloy wheels&#x27;, &#x27;20-inch alloy wheels&#x27;, &#x27;power liftgate&#x27;, &#x27;22-inch alloy wheels&#x27;, &#x27;18-inch alloy wheels&#x27;, &#x27;sunroof&#x27;, &#x27;dual power sliding doors&#x27;, &#x27;16-inch alloy wheels&#x27;, &#x27;power sliding doors&#x27;, &#x27;led taillights&#x27;, &#x27;roof rails&#x27;, &#x27;power trunk&#x27;, &#x27;bedliner&#x27;, &#x27;deck rail system&#x27;, &#x27;removable top&#x27;, &#x27;bed liner&#x27;, &#x27;led daytime running lights&#x27;, &#x27;rear spoiler&#x27;, &#x27;panoramic sunroof&#x27;, &#x27;alloy wheels&#x27;]</pre></div></div></div><div class=\"sk-serial\"><div class=\"sk-item\"><div class=\"sk-serial\"><div class=\"sk-item\"><div class=\"sk-estimator sk-toggleable\"><input class=\"sk-toggleable__control sk-hidden--visually\" id=\"3fa02203-0c13-45aa-af4b-6ca66315975d\" type=\"checkbox\" ><label for=\"3fa02203-0c13-45aa-af4b-6ca66315975d\" class=\"sk-toggleable__label sk-toggleable__label-arrow\">SimpleImputer</label><div class=\"sk-toggleable__content\"><pre>SimpleImputer()</pre></div></div></div><div class=\"sk-item\"><div class=\"sk-estimator sk-toggleable\"><input class=\"sk-toggleable__control sk-hidden--visually\" id=\"c392a488-46d2-45f6-8573-1fb9b946497a\" type=\"checkbox\" ><label for=\"c392a488-46d2-45f6-8573-1fb9b946497a\" class=\"sk-toggleable__label sk-toggleable__label-arrow\">StandardScaler</label><div class=\"sk-toggleable__content\"><pre>StandardScaler()</pre></div></div></div></div></div></div></div></div></div></div><div class=\"sk-item\"><div class=\"sk-estimator sk-toggleable\"><input class=\"sk-toggleable__control sk-hidden--visually\" id=\"3159e69f-0c3d-4374-9530-9203500cf29b\" type=\"checkbox\" ><label for=\"3159e69f-0c3d-4374-9530-9203500cf29b\" class=\"sk-toggleable__label sk-toggleable__label-arrow\">PCA</label><div class=\"sk-toggleable__content\"><pre>PCA()</pre></div></div></div><div class=\"sk-item\"><div class=\"sk-estimator sk-toggleable\"><input class=\"sk-toggleable__control sk-hidden--visually\" id=\"ceaa2404-380e-4bc2-a1ee-a2de78094eab\" type=\"checkbox\" ><label for=\"ceaa2404-380e-4bc2-a1ee-a2de78094eab\" class=\"sk-toggleable__label sk-toggleable__label-arrow\">RandomForestRegressor</label><div class=\"sk-toggleable__content\"><pre>RandomForestRegressor(max_depth=8, n_estimators=150)</pre></div></div></div></div></div></div></div>"
      ],
      "text/plain": [
       "Pipeline(steps=[('preprocessing',\n",
       "                 ColumnTransformer(transformers=[('categorical',\n",
       "                                                  Pipeline(steps=[('categorical_imputer',\n",
       "                                                                   SimpleImputer(fill_value='missing',\n",
       "                                                                                 strategy='constant')),\n",
       "                                                                  ('onehot',\n",
       "                                                                   OneHotEncoder(handle_unknown='ignore'))]),\n",
       "                                                  ['Car Make', 'Car Model',\n",
       "                                                   'Body Type', 'Fuel Type',\n",
       "                                                   'Transmission Type',\n",
       "                                                   'Acceleration (0-60 mph)',\n",
       "                                                   'Entertainment Features',\n",
       "                                                   'Customer Ra...\n",
       "                                                   'Blind Spot Warning',\n",
       "                                                   'Rear Traffic Alert',\n",
       "                                                   'Airbags', 'Parking Assist',\n",
       "                                                   'Predictive Forward '\n",
       "                                                   'Collision Warning',\n",
       "                                                   'Ford Co-Pilot360',\n",
       "                                                   'Active Distance Assist',\n",
       "                                                   'AdvanceTrac Electronic '\n",
       "                                                   'Stability Control',\n",
       "                                                   'Lexus Safety System+ 3.0',\n",
       "                                                   'Blind Spot Information '\n",
       "                                                   'System',\n",
       "                                                   'Lane Keep Assist', ...])])),\n",
       "                ('PCA', PCA()),\n",
       "                ('RF_regressor',\n",
       "                 RandomForestRegressor(max_depth=8, n_estimators=150))])"
      ]
     },
     "execution_count": 859,
     "metadata": {},
     "output_type": "execute_result"
    }
   ],
   "source": [
    "RFR_pipe"
   ]
  },
  {
   "cell_type": "code",
   "execution_count": null,
   "id": "ae63a9f6",
   "metadata": {},
   "outputs": [],
   "source": []
  },
  {
   "cell_type": "markdown",
   "id": "6aa09a7a",
   "metadata": {},
   "source": [
    "# Selecting Independant and Dependant columns"
   ]
  },
  {
   "cell_type": "code",
   "execution_count": 842,
   "id": "e7c2f69d",
   "metadata": {},
   "outputs": [],
   "source": [
    "X = new_df.drop('Price ($)', axis=1)"
   ]
  },
  {
   "cell_type": "code",
   "execution_count": 843,
   "id": "015e8986",
   "metadata": {},
   "outputs": [],
   "source": [
    "y = new_df['Price ($)']"
   ]
  },
  {
   "cell_type": "code",
   "execution_count": null,
   "id": "86abb630",
   "metadata": {},
   "outputs": [],
   "source": []
  },
  {
   "cell_type": "markdown",
   "id": "a4515477",
   "metadata": {},
   "source": [
    "# Deviding the data into training and testing data"
   ]
  },
  {
   "cell_type": "code",
   "execution_count": 844,
   "id": "cda3d7ff",
   "metadata": {},
   "outputs": [],
   "source": [
    "xtrain, xtest, ytrain, ytest = train_test_split(X, y, test_size=0.25, random_state=23)"
   ]
  },
  {
   "cell_type": "code",
   "execution_count": 845,
   "id": "b80916f7",
   "metadata": {},
   "outputs": [
    {
     "name": "stdout",
     "output_type": "stream",
     "text": [
      "(111, 142)\n",
      "(111,)\n",
      "(38, 142)\n",
      "(38,)\n"
     ]
    }
   ],
   "source": [
    "print(xtrain.shape)\n",
    "print(ytrain.shape)\n",
    "print(xtest.shape)\n",
    "print(ytest.shape)"
   ]
  },
  {
   "cell_type": "code",
   "execution_count": null,
   "id": "129ff73a",
   "metadata": {},
   "outputs": [],
   "source": []
  },
  {
   "cell_type": "markdown",
   "id": "c0e2c9d5",
   "metadata": {},
   "source": [
    "# Fitting Linear Regression model's with pipeline"
   ]
  },
  {
   "cell_type": "code",
   "execution_count": 860,
   "id": "47fd6ea5",
   "metadata": {},
   "outputs": [
    {
     "data": {
      "text/html": [
       "<style>#sk-152fc6d1-8e63-4946-84da-8fac9b9933fc {color: black;background-color: white;}#sk-152fc6d1-8e63-4946-84da-8fac9b9933fc pre{padding: 0;}#sk-152fc6d1-8e63-4946-84da-8fac9b9933fc div.sk-toggleable {background-color: white;}#sk-152fc6d1-8e63-4946-84da-8fac9b9933fc label.sk-toggleable__label {cursor: pointer;display: block;width: 100%;margin-bottom: 0;padding: 0.3em;box-sizing: border-box;text-align: center;}#sk-152fc6d1-8e63-4946-84da-8fac9b9933fc label.sk-toggleable__label-arrow:before {content: \"▸\";float: left;margin-right: 0.25em;color: #696969;}#sk-152fc6d1-8e63-4946-84da-8fac9b9933fc label.sk-toggleable__label-arrow:hover:before {color: black;}#sk-152fc6d1-8e63-4946-84da-8fac9b9933fc div.sk-estimator:hover label.sk-toggleable__label-arrow:before {color: black;}#sk-152fc6d1-8e63-4946-84da-8fac9b9933fc div.sk-toggleable__content {max-height: 0;max-width: 0;overflow: hidden;text-align: left;background-color: #f0f8ff;}#sk-152fc6d1-8e63-4946-84da-8fac9b9933fc div.sk-toggleable__content pre {margin: 0.2em;color: black;border-radius: 0.25em;background-color: #f0f8ff;}#sk-152fc6d1-8e63-4946-84da-8fac9b9933fc input.sk-toggleable__control:checked~div.sk-toggleable__content {max-height: 200px;max-width: 100%;overflow: auto;}#sk-152fc6d1-8e63-4946-84da-8fac9b9933fc input.sk-toggleable__control:checked~label.sk-toggleable__label-arrow:before {content: \"▾\";}#sk-152fc6d1-8e63-4946-84da-8fac9b9933fc div.sk-estimator input.sk-toggleable__control:checked~label.sk-toggleable__label {background-color: #d4ebff;}#sk-152fc6d1-8e63-4946-84da-8fac9b9933fc div.sk-label input.sk-toggleable__control:checked~label.sk-toggleable__label {background-color: #d4ebff;}#sk-152fc6d1-8e63-4946-84da-8fac9b9933fc input.sk-hidden--visually {border: 0;clip: rect(1px 1px 1px 1px);clip: rect(1px, 1px, 1px, 1px);height: 1px;margin: -1px;overflow: hidden;padding: 0;position: absolute;width: 1px;}#sk-152fc6d1-8e63-4946-84da-8fac9b9933fc div.sk-estimator {font-family: monospace;background-color: #f0f8ff;border: 1px dotted black;border-radius: 0.25em;box-sizing: border-box;margin-bottom: 0.5em;}#sk-152fc6d1-8e63-4946-84da-8fac9b9933fc div.sk-estimator:hover {background-color: #d4ebff;}#sk-152fc6d1-8e63-4946-84da-8fac9b9933fc div.sk-parallel-item::after {content: \"\";width: 100%;border-bottom: 1px solid gray;flex-grow: 1;}#sk-152fc6d1-8e63-4946-84da-8fac9b9933fc div.sk-label:hover label.sk-toggleable__label {background-color: #d4ebff;}#sk-152fc6d1-8e63-4946-84da-8fac9b9933fc div.sk-serial::before {content: \"\";position: absolute;border-left: 1px solid gray;box-sizing: border-box;top: 2em;bottom: 0;left: 50%;}#sk-152fc6d1-8e63-4946-84da-8fac9b9933fc div.sk-serial {display: flex;flex-direction: column;align-items: center;background-color: white;padding-right: 0.2em;padding-left: 0.2em;}#sk-152fc6d1-8e63-4946-84da-8fac9b9933fc div.sk-item {z-index: 1;}#sk-152fc6d1-8e63-4946-84da-8fac9b9933fc div.sk-parallel {display: flex;align-items: stretch;justify-content: center;background-color: white;}#sk-152fc6d1-8e63-4946-84da-8fac9b9933fc div.sk-parallel::before {content: \"\";position: absolute;border-left: 1px solid gray;box-sizing: border-box;top: 2em;bottom: 0;left: 50%;}#sk-152fc6d1-8e63-4946-84da-8fac9b9933fc div.sk-parallel-item {display: flex;flex-direction: column;position: relative;background-color: white;}#sk-152fc6d1-8e63-4946-84da-8fac9b9933fc div.sk-parallel-item:first-child::after {align-self: flex-end;width: 50%;}#sk-152fc6d1-8e63-4946-84da-8fac9b9933fc div.sk-parallel-item:last-child::after {align-self: flex-start;width: 50%;}#sk-152fc6d1-8e63-4946-84da-8fac9b9933fc div.sk-parallel-item:only-child::after {width: 0;}#sk-152fc6d1-8e63-4946-84da-8fac9b9933fc div.sk-dashed-wrapped {border: 1px dashed gray;margin: 0 0.4em 0.5em 0.4em;box-sizing: border-box;padding-bottom: 0.4em;background-color: white;position: relative;}#sk-152fc6d1-8e63-4946-84da-8fac9b9933fc div.sk-label label {font-family: monospace;font-weight: bold;background-color: white;display: inline-block;line-height: 1.2em;}#sk-152fc6d1-8e63-4946-84da-8fac9b9933fc div.sk-label-container {position: relative;z-index: 2;text-align: center;}#sk-152fc6d1-8e63-4946-84da-8fac9b9933fc div.sk-container {/* jupyter's `normalize.less` sets `[hidden] { display: none; }` but bootstrap.min.css set `[hidden] { display: none !important; }` so we also need the `!important` here to be able to override the default hidden behavior on the sphinx rendered scikit-learn.org. See: https://github.com/scikit-learn/scikit-learn/issues/21755 */display: inline-block !important;position: relative;}#sk-152fc6d1-8e63-4946-84da-8fac9b9933fc div.sk-text-repr-fallback {display: none;}</style><div id=\"sk-152fc6d1-8e63-4946-84da-8fac9b9933fc\" class=\"sk-top-container\"><div class=\"sk-text-repr-fallback\"><pre>Pipeline(steps=[(&#x27;preprocessing&#x27;,\n",
       "                 ColumnTransformer(transformers=[(&#x27;categorical&#x27;,\n",
       "                                                  Pipeline(steps=[(&#x27;categorical_imputer&#x27;,\n",
       "                                                                   SimpleImputer(fill_value=&#x27;missing&#x27;,\n",
       "                                                                                 strategy=&#x27;constant&#x27;)),\n",
       "                                                                  (&#x27;onehot&#x27;,\n",
       "                                                                   OneHotEncoder(handle_unknown=&#x27;ignore&#x27;))]),\n",
       "                                                  [&#x27;Car Make&#x27;, &#x27;Car Model&#x27;,\n",
       "                                                   &#x27;Body Type&#x27;, &#x27;Fuel Type&#x27;,\n",
       "                                                   &#x27;Transmission Type&#x27;,\n",
       "                                                   &#x27;Acceleration (0-60 mph)&#x27;,\n",
       "                                                   &#x27;Entertainment Features&#x27;,\n",
       "                                                   &#x27;Customer Ra...\n",
       "                                                   &#x27;Adaptive Cruise Control&#x27;,\n",
       "                                                   &#x27;Audi Pre Sense Front&#x27;,\n",
       "                                                   &#x27;Blind Spot Warning&#x27;,\n",
       "                                                   &#x27;Rear Traffic Alert&#x27;,\n",
       "                                                   &#x27;Airbags&#x27;, &#x27;Parking Assist&#x27;,\n",
       "                                                   &#x27;Predictive Forward &#x27;\n",
       "                                                   &#x27;Collision Warning&#x27;,\n",
       "                                                   &#x27;Ford Co-Pilot360&#x27;,\n",
       "                                                   &#x27;Active Distance Assist&#x27;,\n",
       "                                                   &#x27;AdvanceTrac Electronic &#x27;\n",
       "                                                   &#x27;Stability Control&#x27;,\n",
       "                                                   &#x27;Lexus Safety System+ 3.0&#x27;,\n",
       "                                                   &#x27;Blind Spot Information &#x27;\n",
       "                                                   &#x27;System&#x27;,\n",
       "                                                   &#x27;Lane Keep Assist&#x27;, ...])])),\n",
       "                (&#x27;PCA&#x27;, PCA()), (&#x27;regressor&#x27;, LinearRegression())])</pre><b>Please rerun this cell to show the HTML repr or trust the notebook.</b></div><div class=\"sk-container\" hidden><div class=\"sk-item sk-dashed-wrapped\"><div class=\"sk-label-container\"><div class=\"sk-label sk-toggleable\"><input class=\"sk-toggleable__control sk-hidden--visually\" id=\"32cda67a-5f11-454d-9977-df026f99c818\" type=\"checkbox\" ><label for=\"32cda67a-5f11-454d-9977-df026f99c818\" class=\"sk-toggleable__label sk-toggleable__label-arrow\">Pipeline</label><div class=\"sk-toggleable__content\"><pre>Pipeline(steps=[(&#x27;preprocessing&#x27;,\n",
       "                 ColumnTransformer(transformers=[(&#x27;categorical&#x27;,\n",
       "                                                  Pipeline(steps=[(&#x27;categorical_imputer&#x27;,\n",
       "                                                                   SimpleImputer(fill_value=&#x27;missing&#x27;,\n",
       "                                                                                 strategy=&#x27;constant&#x27;)),\n",
       "                                                                  (&#x27;onehot&#x27;,\n",
       "                                                                   OneHotEncoder(handle_unknown=&#x27;ignore&#x27;))]),\n",
       "                                                  [&#x27;Car Make&#x27;, &#x27;Car Model&#x27;,\n",
       "                                                   &#x27;Body Type&#x27;, &#x27;Fuel Type&#x27;,\n",
       "                                                   &#x27;Transmission Type&#x27;,\n",
       "                                                   &#x27;Acceleration (0-60 mph)&#x27;,\n",
       "                                                   &#x27;Entertainment Features&#x27;,\n",
       "                                                   &#x27;Customer Ra...\n",
       "                                                   &#x27;Adaptive Cruise Control&#x27;,\n",
       "                                                   &#x27;Audi Pre Sense Front&#x27;,\n",
       "                                                   &#x27;Blind Spot Warning&#x27;,\n",
       "                                                   &#x27;Rear Traffic Alert&#x27;,\n",
       "                                                   &#x27;Airbags&#x27;, &#x27;Parking Assist&#x27;,\n",
       "                                                   &#x27;Predictive Forward &#x27;\n",
       "                                                   &#x27;Collision Warning&#x27;,\n",
       "                                                   &#x27;Ford Co-Pilot360&#x27;,\n",
       "                                                   &#x27;Active Distance Assist&#x27;,\n",
       "                                                   &#x27;AdvanceTrac Electronic &#x27;\n",
       "                                                   &#x27;Stability Control&#x27;,\n",
       "                                                   &#x27;Lexus Safety System+ 3.0&#x27;,\n",
       "                                                   &#x27;Blind Spot Information &#x27;\n",
       "                                                   &#x27;System&#x27;,\n",
       "                                                   &#x27;Lane Keep Assist&#x27;, ...])])),\n",
       "                (&#x27;PCA&#x27;, PCA()), (&#x27;regressor&#x27;, LinearRegression())])</pre></div></div></div><div class=\"sk-serial\"><div class=\"sk-item sk-dashed-wrapped\"><div class=\"sk-label-container\"><div class=\"sk-label sk-toggleable\"><input class=\"sk-toggleable__control sk-hidden--visually\" id=\"6f63ab02-7956-4dd2-af59-2eabcad2036e\" type=\"checkbox\" ><label for=\"6f63ab02-7956-4dd2-af59-2eabcad2036e\" class=\"sk-toggleable__label sk-toggleable__label-arrow\">preprocessing: ColumnTransformer</label><div class=\"sk-toggleable__content\"><pre>ColumnTransformer(transformers=[(&#x27;categorical&#x27;,\n",
       "                                 Pipeline(steps=[(&#x27;categorical_imputer&#x27;,\n",
       "                                                  SimpleImputer(fill_value=&#x27;missing&#x27;,\n",
       "                                                                strategy=&#x27;constant&#x27;)),\n",
       "                                                 (&#x27;onehot&#x27;,\n",
       "                                                  OneHotEncoder(handle_unknown=&#x27;ignore&#x27;))]),\n",
       "                                 [&#x27;Car Make&#x27;, &#x27;Car Model&#x27;, &#x27;Body Type&#x27;,\n",
       "                                  &#x27;Fuel Type&#x27;, &#x27;Transmission Type&#x27;,\n",
       "                                  &#x27;Acceleration (0-60 mph)&#x27;,\n",
       "                                  &#x27;Entertainment Features&#x27;,\n",
       "                                  &#x27;Customer Ratings&#x27;]),\n",
       "                                (&#x27;numerical&#x27;,\n",
       "                                 Pipeline(st...\n",
       "                                  &#x27;EyeSight Driver Assist Technology&#x27;,\n",
       "                                  &#x27;Trail Control&#x27;, &#x27;Adaptive Cruise Control&#x27;,\n",
       "                                  &#x27;Audi Pre Sense Front&#x27;, &#x27;Blind Spot Warning&#x27;,\n",
       "                                  &#x27;Rear Traffic Alert&#x27;, &#x27;Airbags&#x27;,\n",
       "                                  &#x27;Parking Assist&#x27;,\n",
       "                                  &#x27;Predictive Forward Collision Warning&#x27;,\n",
       "                                  &#x27;Ford Co-Pilot360&#x27;, &#x27;Active Distance Assist&#x27;,\n",
       "                                  &#x27;AdvanceTrac Electronic Stability Control&#x27;,\n",
       "                                  &#x27;Lexus Safety System+ 3.0&#x27;,\n",
       "                                  &#x27;Blind Spot Information System&#x27;,\n",
       "                                  &#x27;Lane Keep Assist&#x27;, ...])])</pre></div></div></div><div class=\"sk-parallel\"><div class=\"sk-parallel-item\"><div class=\"sk-item\"><div class=\"sk-label-container\"><div class=\"sk-label sk-toggleable\"><input class=\"sk-toggleable__control sk-hidden--visually\" id=\"96611672-062f-46c8-9b3d-cf4d5a4f3ee5\" type=\"checkbox\" ><label for=\"96611672-062f-46c8-9b3d-cf4d5a4f3ee5\" class=\"sk-toggleable__label sk-toggleable__label-arrow\">categorical</label><div class=\"sk-toggleable__content\"><pre>[&#x27;Car Make&#x27;, &#x27;Car Model&#x27;, &#x27;Body Type&#x27;, &#x27;Fuel Type&#x27;, &#x27;Transmission Type&#x27;, &#x27;Acceleration (0-60 mph)&#x27;, &#x27;Entertainment Features&#x27;, &#x27;Customer Ratings&#x27;]</pre></div></div></div><div class=\"sk-serial\"><div class=\"sk-item\"><div class=\"sk-serial\"><div class=\"sk-item\"><div class=\"sk-estimator sk-toggleable\"><input class=\"sk-toggleable__control sk-hidden--visually\" id=\"49cef84f-d192-44e7-8a45-5ecc554c46da\" type=\"checkbox\" ><label for=\"49cef84f-d192-44e7-8a45-5ecc554c46da\" class=\"sk-toggleable__label sk-toggleable__label-arrow\">SimpleImputer</label><div class=\"sk-toggleable__content\"><pre>SimpleImputer(fill_value=&#x27;missing&#x27;, strategy=&#x27;constant&#x27;)</pre></div></div></div><div class=\"sk-item\"><div class=\"sk-estimator sk-toggleable\"><input class=\"sk-toggleable__control sk-hidden--visually\" id=\"eec2d6f6-c027-4eea-95f2-67c35bafc80d\" type=\"checkbox\" ><label for=\"eec2d6f6-c027-4eea-95f2-67c35bafc80d\" class=\"sk-toggleable__label sk-toggleable__label-arrow\">OneHotEncoder</label><div class=\"sk-toggleable__content\"><pre>OneHotEncoder(handle_unknown=&#x27;ignore&#x27;)</pre></div></div></div></div></div></div></div></div><div class=\"sk-parallel-item\"><div class=\"sk-item\"><div class=\"sk-label-container\"><div class=\"sk-label sk-toggleable\"><input class=\"sk-toggleable__control sk-hidden--visually\" id=\"cfc7c13b-482d-4cc3-b3d7-4b2a4bec394d\" type=\"checkbox\" ><label for=\"cfc7c13b-482d-4cc3-b3d7-4b2a4bec394d\" class=\"sk-toggleable__label sk-toggleable__label-arrow\">numerical</label><div class=\"sk-toggleable__content\"><pre>[&#x27;Year&#x27;, &#x27;Engine Size (L)&#x27;, &#x27;Horsepower&#x27;, &#x27;Torque (Nm)&#x27;, &#x27;Top Speed (mph)&#x27;, &#x27;Mileage (MPG)&#x27;, &#x27;Sales Figures (Units Sold)&#x27;, &#x27;Trailer Brake Control&#x27;, &#x27;Forward Collision Alert&#x27;, &#x27;Trailer-Sway Control&#x27;, &#x27;Rear Cross Path Detection&#x27;, &#x27;Traffic Sign Assist&#x27;, &#x27;Lexus Safety System+ 2.5&#x27;, &#x27;Trailer Sway Control&#x27;, &#x27;Parking Assistant Plus&#x27;, &#x27;EyeSight Driver Assist Technology&#x27;, &#x27;Trail Control&#x27;, &#x27;Adaptive Cruise Control&#x27;, &#x27;Audi Pre Sense Front&#x27;, &#x27;Blind Spot Warning&#x27;, &#x27;Rear Traffic Alert&#x27;, &#x27;Airbags&#x27;, &#x27;Parking Assist&#x27;, &#x27;Predictive Forward Collision Warning&#x27;, &#x27;Ford Co-Pilot360&#x27;, &#x27;Active Distance Assist&#x27;, &#x27;AdvanceTrac Electronic Stability Control&#x27;, &#x27;Lexus Safety System+ 3.0&#x27;, &#x27;Blind Spot Information System&#x27;, &#x27;Lane Keep Assist&#x27;, &#x27;Active Brake Assist&#x27;, &#x27;Backup Camera&#x27;, &#x27;Collision Mitigation Braking System&#x27;, &#x27;Forward Collision-Avoidance Assist&#x27;, &#x27;Toyota Safety Sense P&#x27;, &#x27;Automatic Emergency Braking&#x27;, &#x27;AdvanceTrac with Roll Stability Control&#x27;, &#x27;Dynamic Stability Control&#x27;, &#x27;Rear Parking Assist Sonar&#x27;, &#x27;Mazda Connected Services&#x27;, &#x27;Electronic Roll Mitigation&#x27;, &#x27;Lexus Safety System+ 3.5&#x27;, &#x27;StabiliTrak Electronic Stability Control&#x27;, &#x27;City Safety Collision Avoidance Technology&#x27;, &#x27;Multi-View Rear Camera&#x27;, &#x27;RearView Monitor&#x27;, &#x27;Hill Start Assist Control&#x27;, &#x27;Traction Control&#x27;, &#x27;ParkView Rear Back-Up Camera&#x27;, &#x27;Audi Pre Sense Basic&#x27;, &#x27;Forward Collision Warning&#x27;, &#x27;Forward Collision Avoidance-Assist with Pedestrian Detection&#x27;, &#x27;Rear View Camera&#x27;, &#x27;Electronic Stability Control&#x27;, &#x27;Audi Pre Sense City&#x27;, &#x27;Toyota Safety Sense 2.5+&#x27;, &#x27;Intelligent Forward Collision Warning&#x27;, &#x27;Rearview Camera&#x27;, &#x27;Blind Spot Monitoring&#x27;, &#x27;StabiliTrak&#x27;, &#x27;Rear Automatic Braking&#x27;, &#x27;ABS&#x27;, &#x27;Performance Traction Management&#x27;, &#x27;Rear Cross Traffic Alert&#x27;, &#x27;Nissan Safety Shield 360&#x27;, &#x27;Honda Sensing&#x27;, &#x27;Audi Side Assist&#x27;, &#x27;Road Departure Mitigation&#x27;, &#x27;Lane Departure Warning&#x27;, &#x27;AcuraWatch&#x27;, &#x27;AdvanceTrac with RSC&#x27;, &#x27;Forward Collision Avoidance Assist&#x27;, &#x27;Active Driving Assistant&#x27;, &#x27;Collision Mitigation&#x27;, &#x27;Lane Assist&#x27;, &#x27;Push Button Start&#x27;, &#x27;Power Front Seats&#x27;, &#x27;Power Fold Third-Row Seats&#x27;, &#x27;Heated Front Seats&#x27;, &#x27;Wireless Smartphone Charging&#x27;, &#x27;Power Front Windows&#x27;, &#x27;Power Liftgate&#x27;, &#x27;Rear Occupant Alert&#x27;, &#x27;Lane Keeping Assist&#x27;, &#x27;Removable Top&#x27;, &#x27;Keyless Entry&#x27;, &quot;Power Driver&#x27;s Seat&quot;, &#x27;Third-Row Seating&#x27;, &#x27;Tri-Zone Automatic Climate Control&#x27;, &#x27;Heated and Ventilated Front Seats&#x27;, &#x27;Ambient Lighting&#x27;, &#x27;Bluetooth Connectivity&#x27;, &#x27;Dual-Zone Climate Control&#x27;, &#x27;Panoramic Sunroof&#x27;, &#x27;Tri-Zone Climate Control&#x27;, &#x27;Sunroof&#x27;, &#x27;Power Mirrors&#x27;, &#x27;Leather Seats&#x27;, &#x27;Cloth Seats&#x27;, &#x27;Bose Audio System&#x27;, &#x27;Power Rear Window&#x27;, &#x27;Power Windows&#x27;, &#x27;Panoramic Moonroof&#x27;, &#x27;Dual-Zone Automatic Climate Control&#x27;, &#x27;Removable Doors&#x27;, &#x27;Power Tailgate&#x27;, &#x27;Keyless Access&#x27;, &#x27;tow hooks&#x27;, &#x27;tow hitch&#x27;, &#x27;off-road suspension&#x27;, &#x27;dual exhaust&#x27;, &#x27;power sunroof&#x27;, &#x27;17-inch alloy wheels&#x27;, &#x27;led headlights&#x27;, &#x27;19-inch alloy wheels&#x27;, &#x27;20-inch alloy wheels&#x27;, &#x27;power liftgate&#x27;, &#x27;22-inch alloy wheels&#x27;, &#x27;18-inch alloy wheels&#x27;, &#x27;sunroof&#x27;, &#x27;dual power sliding doors&#x27;, &#x27;16-inch alloy wheels&#x27;, &#x27;power sliding doors&#x27;, &#x27;led taillights&#x27;, &#x27;roof rails&#x27;, &#x27;power trunk&#x27;, &#x27;bedliner&#x27;, &#x27;deck rail system&#x27;, &#x27;removable top&#x27;, &#x27;bed liner&#x27;, &#x27;led daytime running lights&#x27;, &#x27;rear spoiler&#x27;, &#x27;panoramic sunroof&#x27;, &#x27;alloy wheels&#x27;]</pre></div></div></div><div class=\"sk-serial\"><div class=\"sk-item\"><div class=\"sk-serial\"><div class=\"sk-item\"><div class=\"sk-estimator sk-toggleable\"><input class=\"sk-toggleable__control sk-hidden--visually\" id=\"c5db6107-1f24-47b7-baae-98741f91f1c3\" type=\"checkbox\" ><label for=\"c5db6107-1f24-47b7-baae-98741f91f1c3\" class=\"sk-toggleable__label sk-toggleable__label-arrow\">SimpleImputer</label><div class=\"sk-toggleable__content\"><pre>SimpleImputer()</pre></div></div></div><div class=\"sk-item\"><div class=\"sk-estimator sk-toggleable\"><input class=\"sk-toggleable__control sk-hidden--visually\" id=\"3e843310-adc2-4a25-93e4-ed004ad41213\" type=\"checkbox\" ><label for=\"3e843310-adc2-4a25-93e4-ed004ad41213\" class=\"sk-toggleable__label sk-toggleable__label-arrow\">StandardScaler</label><div class=\"sk-toggleable__content\"><pre>StandardScaler()</pre></div></div></div></div></div></div></div></div></div></div><div class=\"sk-item\"><div class=\"sk-estimator sk-toggleable\"><input class=\"sk-toggleable__control sk-hidden--visually\" id=\"a0f3521c-42bc-4f9b-abff-5cca467d6a89\" type=\"checkbox\" ><label for=\"a0f3521c-42bc-4f9b-abff-5cca467d6a89\" class=\"sk-toggleable__label sk-toggleable__label-arrow\">PCA</label><div class=\"sk-toggleable__content\"><pre>PCA()</pre></div></div></div><div class=\"sk-item\"><div class=\"sk-estimator sk-toggleable\"><input class=\"sk-toggleable__control sk-hidden--visually\" id=\"434fdc81-50d1-458f-80e9-145e80d560c0\" type=\"checkbox\" ><label for=\"434fdc81-50d1-458f-80e9-145e80d560c0\" class=\"sk-toggleable__label sk-toggleable__label-arrow\">LinearRegression</label><div class=\"sk-toggleable__content\"><pre>LinearRegression()</pre></div></div></div></div></div></div></div>"
      ],
      "text/plain": [
       "Pipeline(steps=[('preprocessing',\n",
       "                 ColumnTransformer(transformers=[('categorical',\n",
       "                                                  Pipeline(steps=[('categorical_imputer',\n",
       "                                                                   SimpleImputer(fill_value='missing',\n",
       "                                                                                 strategy='constant')),\n",
       "                                                                  ('onehot',\n",
       "                                                                   OneHotEncoder(handle_unknown='ignore'))]),\n",
       "                                                  ['Car Make', 'Car Model',\n",
       "                                                   'Body Type', 'Fuel Type',\n",
       "                                                   'Transmission Type',\n",
       "                                                   'Acceleration (0-60 mph)',\n",
       "                                                   'Entertainment Features',\n",
       "                                                   'Customer Ra...\n",
       "                                                   'Adaptive Cruise Control',\n",
       "                                                   'Audi Pre Sense Front',\n",
       "                                                   'Blind Spot Warning',\n",
       "                                                   'Rear Traffic Alert',\n",
       "                                                   'Airbags', 'Parking Assist',\n",
       "                                                   'Predictive Forward '\n",
       "                                                   'Collision Warning',\n",
       "                                                   'Ford Co-Pilot360',\n",
       "                                                   'Active Distance Assist',\n",
       "                                                   'AdvanceTrac Electronic '\n",
       "                                                   'Stability Control',\n",
       "                                                   'Lexus Safety System+ 3.0',\n",
       "                                                   'Blind Spot Information '\n",
       "                                                   'System',\n",
       "                                                   'Lane Keep Assist', ...])])),\n",
       "                ('PCA', PCA()), ('regressor', LinearRegression())])"
      ]
     },
     "execution_count": 860,
     "metadata": {},
     "output_type": "execute_result"
    }
   ],
   "source": [
    "Linear_pipe.fit(xtrain, ytrain)"
   ]
  },
  {
   "cell_type": "code",
   "execution_count": 861,
   "id": "56a32cca",
   "metadata": {},
   "outputs": [],
   "source": [
    "LR_preds = Linear_pipe.predict(xtest)"
   ]
  },
  {
   "cell_type": "code",
   "execution_count": 877,
   "id": "d73f0ee4",
   "metadata": {
    "scrolled": true
   },
   "outputs": [
    {
     "data": {
      "text/plain": [
       "array([51842.68506111, 37775.        , 20400.        , 45983.43569263,\n",
       "       21490.        , 34093.5302104 , 38328.09384797, 29667.36358062,\n",
       "       41270.60255431, 40309.84578476, 21490.        , 39829.10002547,\n",
       "       26170.        , 25459.03263104, 53727.60150083, 28981.68769741,\n",
       "       24613.86576607, 39356.60632841, 28651.97312913, 43397.37772777,\n",
       "       37775.        , 56383.72306526, 24291.76011519, 24431.08097946,\n",
       "       38375.01892469, 37378.9112325 , 38738.37947178, 28745.31341175,\n",
       "       37775.        , 25000.        , 30293.37813998, 11949.25635238,\n",
       "       26724.75211616, 26170.        , 52126.08421348, 43168.30988926,\n",
       "       36195.10545048, 21490.        ])"
      ]
     },
     "execution_count": 877,
     "metadata": {},
     "output_type": "execute_result"
    }
   ],
   "source": [
    "LR_preds"
   ]
  },
  {
   "cell_type": "code",
   "execution_count": 862,
   "id": "3c2630e1",
   "metadata": {},
   "outputs": [],
   "source": [
    "score=r2_score(preds,ytest)"
   ]
  },
  {
   "cell_type": "code",
   "execution_count": 863,
   "id": "210406e5",
   "metadata": {},
   "outputs": [
    {
     "data": {
      "text/plain": [
       "0.522012913253374"
      ]
     },
     "execution_count": 863,
     "metadata": {},
     "output_type": "execute_result"
    }
   ],
   "source": [
    "score"
   ]
  },
  {
   "cell_type": "code",
   "execution_count": null,
   "id": "0ea63504",
   "metadata": {},
   "outputs": [],
   "source": []
  },
  {
   "cell_type": "markdown",
   "id": "513b94af",
   "metadata": {},
   "source": [
    "# Fitting Linear Regression model's with pipeline"
   ]
  },
  {
   "cell_type": "code",
   "execution_count": 865,
   "id": "703ea9ba",
   "metadata": {},
   "outputs": [
    {
     "data": {
      "text/html": [
       "<style>#sk-7715e8b9-4935-4c2f-b854-bde150e2268f {color: black;background-color: white;}#sk-7715e8b9-4935-4c2f-b854-bde150e2268f pre{padding: 0;}#sk-7715e8b9-4935-4c2f-b854-bde150e2268f div.sk-toggleable {background-color: white;}#sk-7715e8b9-4935-4c2f-b854-bde150e2268f label.sk-toggleable__label {cursor: pointer;display: block;width: 100%;margin-bottom: 0;padding: 0.3em;box-sizing: border-box;text-align: center;}#sk-7715e8b9-4935-4c2f-b854-bde150e2268f label.sk-toggleable__label-arrow:before {content: \"▸\";float: left;margin-right: 0.25em;color: #696969;}#sk-7715e8b9-4935-4c2f-b854-bde150e2268f label.sk-toggleable__label-arrow:hover:before {color: black;}#sk-7715e8b9-4935-4c2f-b854-bde150e2268f div.sk-estimator:hover label.sk-toggleable__label-arrow:before {color: black;}#sk-7715e8b9-4935-4c2f-b854-bde150e2268f div.sk-toggleable__content {max-height: 0;max-width: 0;overflow: hidden;text-align: left;background-color: #f0f8ff;}#sk-7715e8b9-4935-4c2f-b854-bde150e2268f div.sk-toggleable__content pre {margin: 0.2em;color: black;border-radius: 0.25em;background-color: #f0f8ff;}#sk-7715e8b9-4935-4c2f-b854-bde150e2268f input.sk-toggleable__control:checked~div.sk-toggleable__content {max-height: 200px;max-width: 100%;overflow: auto;}#sk-7715e8b9-4935-4c2f-b854-bde150e2268f input.sk-toggleable__control:checked~label.sk-toggleable__label-arrow:before {content: \"▾\";}#sk-7715e8b9-4935-4c2f-b854-bde150e2268f div.sk-estimator input.sk-toggleable__control:checked~label.sk-toggleable__label {background-color: #d4ebff;}#sk-7715e8b9-4935-4c2f-b854-bde150e2268f div.sk-label input.sk-toggleable__control:checked~label.sk-toggleable__label {background-color: #d4ebff;}#sk-7715e8b9-4935-4c2f-b854-bde150e2268f input.sk-hidden--visually {border: 0;clip: rect(1px 1px 1px 1px);clip: rect(1px, 1px, 1px, 1px);height: 1px;margin: -1px;overflow: hidden;padding: 0;position: absolute;width: 1px;}#sk-7715e8b9-4935-4c2f-b854-bde150e2268f div.sk-estimator {font-family: monospace;background-color: #f0f8ff;border: 1px dotted black;border-radius: 0.25em;box-sizing: border-box;margin-bottom: 0.5em;}#sk-7715e8b9-4935-4c2f-b854-bde150e2268f div.sk-estimator:hover {background-color: #d4ebff;}#sk-7715e8b9-4935-4c2f-b854-bde150e2268f div.sk-parallel-item::after {content: \"\";width: 100%;border-bottom: 1px solid gray;flex-grow: 1;}#sk-7715e8b9-4935-4c2f-b854-bde150e2268f div.sk-label:hover label.sk-toggleable__label {background-color: #d4ebff;}#sk-7715e8b9-4935-4c2f-b854-bde150e2268f div.sk-serial::before {content: \"\";position: absolute;border-left: 1px solid gray;box-sizing: border-box;top: 2em;bottom: 0;left: 50%;}#sk-7715e8b9-4935-4c2f-b854-bde150e2268f div.sk-serial {display: flex;flex-direction: column;align-items: center;background-color: white;padding-right: 0.2em;padding-left: 0.2em;}#sk-7715e8b9-4935-4c2f-b854-bde150e2268f div.sk-item {z-index: 1;}#sk-7715e8b9-4935-4c2f-b854-bde150e2268f div.sk-parallel {display: flex;align-items: stretch;justify-content: center;background-color: white;}#sk-7715e8b9-4935-4c2f-b854-bde150e2268f div.sk-parallel::before {content: \"\";position: absolute;border-left: 1px solid gray;box-sizing: border-box;top: 2em;bottom: 0;left: 50%;}#sk-7715e8b9-4935-4c2f-b854-bde150e2268f div.sk-parallel-item {display: flex;flex-direction: column;position: relative;background-color: white;}#sk-7715e8b9-4935-4c2f-b854-bde150e2268f div.sk-parallel-item:first-child::after {align-self: flex-end;width: 50%;}#sk-7715e8b9-4935-4c2f-b854-bde150e2268f div.sk-parallel-item:last-child::after {align-self: flex-start;width: 50%;}#sk-7715e8b9-4935-4c2f-b854-bde150e2268f div.sk-parallel-item:only-child::after {width: 0;}#sk-7715e8b9-4935-4c2f-b854-bde150e2268f div.sk-dashed-wrapped {border: 1px dashed gray;margin: 0 0.4em 0.5em 0.4em;box-sizing: border-box;padding-bottom: 0.4em;background-color: white;position: relative;}#sk-7715e8b9-4935-4c2f-b854-bde150e2268f div.sk-label label {font-family: monospace;font-weight: bold;background-color: white;display: inline-block;line-height: 1.2em;}#sk-7715e8b9-4935-4c2f-b854-bde150e2268f div.sk-label-container {position: relative;z-index: 2;text-align: center;}#sk-7715e8b9-4935-4c2f-b854-bde150e2268f div.sk-container {/* jupyter's `normalize.less` sets `[hidden] { display: none; }` but bootstrap.min.css set `[hidden] { display: none !important; }` so we also need the `!important` here to be able to override the default hidden behavior on the sphinx rendered scikit-learn.org. See: https://github.com/scikit-learn/scikit-learn/issues/21755 */display: inline-block !important;position: relative;}#sk-7715e8b9-4935-4c2f-b854-bde150e2268f div.sk-text-repr-fallback {display: none;}</style><div id=\"sk-7715e8b9-4935-4c2f-b854-bde150e2268f\" class=\"sk-top-container\"><div class=\"sk-text-repr-fallback\"><pre>Pipeline(steps=[(&#x27;preprocessing&#x27;,\n",
       "                 ColumnTransformer(transformers=[(&#x27;categorical&#x27;,\n",
       "                                                  Pipeline(steps=[(&#x27;categorical_imputer&#x27;,\n",
       "                                                                   SimpleImputer(fill_value=&#x27;missing&#x27;,\n",
       "                                                                                 strategy=&#x27;constant&#x27;)),\n",
       "                                                                  (&#x27;onehot&#x27;,\n",
       "                                                                   OneHotEncoder(handle_unknown=&#x27;ignore&#x27;))]),\n",
       "                                                  [&#x27;Car Make&#x27;, &#x27;Car Model&#x27;,\n",
       "                                                   &#x27;Body Type&#x27;, &#x27;Fuel Type&#x27;,\n",
       "                                                   &#x27;Transmission Type&#x27;,\n",
       "                                                   &#x27;Acceleration (0-60 mph)&#x27;,\n",
       "                                                   &#x27;Entertainment Features&#x27;,\n",
       "                                                   &#x27;Customer Ra...\n",
       "                                                   &#x27;Blind Spot Warning&#x27;,\n",
       "                                                   &#x27;Rear Traffic Alert&#x27;,\n",
       "                                                   &#x27;Airbags&#x27;, &#x27;Parking Assist&#x27;,\n",
       "                                                   &#x27;Predictive Forward &#x27;\n",
       "                                                   &#x27;Collision Warning&#x27;,\n",
       "                                                   &#x27;Ford Co-Pilot360&#x27;,\n",
       "                                                   &#x27;Active Distance Assist&#x27;,\n",
       "                                                   &#x27;AdvanceTrac Electronic &#x27;\n",
       "                                                   &#x27;Stability Control&#x27;,\n",
       "                                                   &#x27;Lexus Safety System+ 3.0&#x27;,\n",
       "                                                   &#x27;Blind Spot Information &#x27;\n",
       "                                                   &#x27;System&#x27;,\n",
       "                                                   &#x27;Lane Keep Assist&#x27;, ...])])),\n",
       "                (&#x27;PCA&#x27;, PCA()),\n",
       "                (&#x27;RF_regressor&#x27;,\n",
       "                 RandomForestRegressor(max_depth=8, n_estimators=150))])</pre><b>Please rerun this cell to show the HTML repr or trust the notebook.</b></div><div class=\"sk-container\" hidden><div class=\"sk-item sk-dashed-wrapped\"><div class=\"sk-label-container\"><div class=\"sk-label sk-toggleable\"><input class=\"sk-toggleable__control sk-hidden--visually\" id=\"23184baa-3c08-4424-890e-cff0ef0bc94e\" type=\"checkbox\" ><label for=\"23184baa-3c08-4424-890e-cff0ef0bc94e\" class=\"sk-toggleable__label sk-toggleable__label-arrow\">Pipeline</label><div class=\"sk-toggleable__content\"><pre>Pipeline(steps=[(&#x27;preprocessing&#x27;,\n",
       "                 ColumnTransformer(transformers=[(&#x27;categorical&#x27;,\n",
       "                                                  Pipeline(steps=[(&#x27;categorical_imputer&#x27;,\n",
       "                                                                   SimpleImputer(fill_value=&#x27;missing&#x27;,\n",
       "                                                                                 strategy=&#x27;constant&#x27;)),\n",
       "                                                                  (&#x27;onehot&#x27;,\n",
       "                                                                   OneHotEncoder(handle_unknown=&#x27;ignore&#x27;))]),\n",
       "                                                  [&#x27;Car Make&#x27;, &#x27;Car Model&#x27;,\n",
       "                                                   &#x27;Body Type&#x27;, &#x27;Fuel Type&#x27;,\n",
       "                                                   &#x27;Transmission Type&#x27;,\n",
       "                                                   &#x27;Acceleration (0-60 mph)&#x27;,\n",
       "                                                   &#x27;Entertainment Features&#x27;,\n",
       "                                                   &#x27;Customer Ra...\n",
       "                                                   &#x27;Blind Spot Warning&#x27;,\n",
       "                                                   &#x27;Rear Traffic Alert&#x27;,\n",
       "                                                   &#x27;Airbags&#x27;, &#x27;Parking Assist&#x27;,\n",
       "                                                   &#x27;Predictive Forward &#x27;\n",
       "                                                   &#x27;Collision Warning&#x27;,\n",
       "                                                   &#x27;Ford Co-Pilot360&#x27;,\n",
       "                                                   &#x27;Active Distance Assist&#x27;,\n",
       "                                                   &#x27;AdvanceTrac Electronic &#x27;\n",
       "                                                   &#x27;Stability Control&#x27;,\n",
       "                                                   &#x27;Lexus Safety System+ 3.0&#x27;,\n",
       "                                                   &#x27;Blind Spot Information &#x27;\n",
       "                                                   &#x27;System&#x27;,\n",
       "                                                   &#x27;Lane Keep Assist&#x27;, ...])])),\n",
       "                (&#x27;PCA&#x27;, PCA()),\n",
       "                (&#x27;RF_regressor&#x27;,\n",
       "                 RandomForestRegressor(max_depth=8, n_estimators=150))])</pre></div></div></div><div class=\"sk-serial\"><div class=\"sk-item sk-dashed-wrapped\"><div class=\"sk-label-container\"><div class=\"sk-label sk-toggleable\"><input class=\"sk-toggleable__control sk-hidden--visually\" id=\"aa99c32d-6674-424f-ba4d-706a33d62486\" type=\"checkbox\" ><label for=\"aa99c32d-6674-424f-ba4d-706a33d62486\" class=\"sk-toggleable__label sk-toggleable__label-arrow\">preprocessing: ColumnTransformer</label><div class=\"sk-toggleable__content\"><pre>ColumnTransformer(transformers=[(&#x27;categorical&#x27;,\n",
       "                                 Pipeline(steps=[(&#x27;categorical_imputer&#x27;,\n",
       "                                                  SimpleImputer(fill_value=&#x27;missing&#x27;,\n",
       "                                                                strategy=&#x27;constant&#x27;)),\n",
       "                                                 (&#x27;onehot&#x27;,\n",
       "                                                  OneHotEncoder(handle_unknown=&#x27;ignore&#x27;))]),\n",
       "                                 [&#x27;Car Make&#x27;, &#x27;Car Model&#x27;, &#x27;Body Type&#x27;,\n",
       "                                  &#x27;Fuel Type&#x27;, &#x27;Transmission Type&#x27;,\n",
       "                                  &#x27;Acceleration (0-60 mph)&#x27;,\n",
       "                                  &#x27;Entertainment Features&#x27;,\n",
       "                                  &#x27;Customer Ratings&#x27;]),\n",
       "                                (&#x27;numerical&#x27;,\n",
       "                                 Pipeline(st...\n",
       "                                  &#x27;EyeSight Driver Assist Technology&#x27;,\n",
       "                                  &#x27;Trail Control&#x27;, &#x27;Adaptive Cruise Control&#x27;,\n",
       "                                  &#x27;Audi Pre Sense Front&#x27;, &#x27;Blind Spot Warning&#x27;,\n",
       "                                  &#x27;Rear Traffic Alert&#x27;, &#x27;Airbags&#x27;,\n",
       "                                  &#x27;Parking Assist&#x27;,\n",
       "                                  &#x27;Predictive Forward Collision Warning&#x27;,\n",
       "                                  &#x27;Ford Co-Pilot360&#x27;, &#x27;Active Distance Assist&#x27;,\n",
       "                                  &#x27;AdvanceTrac Electronic Stability Control&#x27;,\n",
       "                                  &#x27;Lexus Safety System+ 3.0&#x27;,\n",
       "                                  &#x27;Blind Spot Information System&#x27;,\n",
       "                                  &#x27;Lane Keep Assist&#x27;, ...])])</pre></div></div></div><div class=\"sk-parallel\"><div class=\"sk-parallel-item\"><div class=\"sk-item\"><div class=\"sk-label-container\"><div class=\"sk-label sk-toggleable\"><input class=\"sk-toggleable__control sk-hidden--visually\" id=\"49ec181e-7b37-4ab5-8fc6-209fdce9b882\" type=\"checkbox\" ><label for=\"49ec181e-7b37-4ab5-8fc6-209fdce9b882\" class=\"sk-toggleable__label sk-toggleable__label-arrow\">categorical</label><div class=\"sk-toggleable__content\"><pre>[&#x27;Car Make&#x27;, &#x27;Car Model&#x27;, &#x27;Body Type&#x27;, &#x27;Fuel Type&#x27;, &#x27;Transmission Type&#x27;, &#x27;Acceleration (0-60 mph)&#x27;, &#x27;Entertainment Features&#x27;, &#x27;Customer Ratings&#x27;]</pre></div></div></div><div class=\"sk-serial\"><div class=\"sk-item\"><div class=\"sk-serial\"><div class=\"sk-item\"><div class=\"sk-estimator sk-toggleable\"><input class=\"sk-toggleable__control sk-hidden--visually\" id=\"dba8249a-913d-40c3-8bd0-53b92c693de4\" type=\"checkbox\" ><label for=\"dba8249a-913d-40c3-8bd0-53b92c693de4\" class=\"sk-toggleable__label sk-toggleable__label-arrow\">SimpleImputer</label><div class=\"sk-toggleable__content\"><pre>SimpleImputer(fill_value=&#x27;missing&#x27;, strategy=&#x27;constant&#x27;)</pre></div></div></div><div class=\"sk-item\"><div class=\"sk-estimator sk-toggleable\"><input class=\"sk-toggleable__control sk-hidden--visually\" id=\"a1b5d591-af88-48fe-b0d7-15ac204d86ef\" type=\"checkbox\" ><label for=\"a1b5d591-af88-48fe-b0d7-15ac204d86ef\" class=\"sk-toggleable__label sk-toggleable__label-arrow\">OneHotEncoder</label><div class=\"sk-toggleable__content\"><pre>OneHotEncoder(handle_unknown=&#x27;ignore&#x27;)</pre></div></div></div></div></div></div></div></div><div class=\"sk-parallel-item\"><div class=\"sk-item\"><div class=\"sk-label-container\"><div class=\"sk-label sk-toggleable\"><input class=\"sk-toggleable__control sk-hidden--visually\" id=\"9837b25c-fe88-490a-9c33-c419a233d588\" type=\"checkbox\" ><label for=\"9837b25c-fe88-490a-9c33-c419a233d588\" class=\"sk-toggleable__label sk-toggleable__label-arrow\">numerical</label><div class=\"sk-toggleable__content\"><pre>[&#x27;Year&#x27;, &#x27;Engine Size (L)&#x27;, &#x27;Horsepower&#x27;, &#x27;Torque (Nm)&#x27;, &#x27;Top Speed (mph)&#x27;, &#x27;Mileage (MPG)&#x27;, &#x27;Sales Figures (Units Sold)&#x27;, &#x27;Trailer Brake Control&#x27;, &#x27;Forward Collision Alert&#x27;, &#x27;Trailer-Sway Control&#x27;, &#x27;Rear Cross Path Detection&#x27;, &#x27;Traffic Sign Assist&#x27;, &#x27;Lexus Safety System+ 2.5&#x27;, &#x27;Trailer Sway Control&#x27;, &#x27;Parking Assistant Plus&#x27;, &#x27;EyeSight Driver Assist Technology&#x27;, &#x27;Trail Control&#x27;, &#x27;Adaptive Cruise Control&#x27;, &#x27;Audi Pre Sense Front&#x27;, &#x27;Blind Spot Warning&#x27;, &#x27;Rear Traffic Alert&#x27;, &#x27;Airbags&#x27;, &#x27;Parking Assist&#x27;, &#x27;Predictive Forward Collision Warning&#x27;, &#x27;Ford Co-Pilot360&#x27;, &#x27;Active Distance Assist&#x27;, &#x27;AdvanceTrac Electronic Stability Control&#x27;, &#x27;Lexus Safety System+ 3.0&#x27;, &#x27;Blind Spot Information System&#x27;, &#x27;Lane Keep Assist&#x27;, &#x27;Active Brake Assist&#x27;, &#x27;Backup Camera&#x27;, &#x27;Collision Mitigation Braking System&#x27;, &#x27;Forward Collision-Avoidance Assist&#x27;, &#x27;Toyota Safety Sense P&#x27;, &#x27;Automatic Emergency Braking&#x27;, &#x27;AdvanceTrac with Roll Stability Control&#x27;, &#x27;Dynamic Stability Control&#x27;, &#x27;Rear Parking Assist Sonar&#x27;, &#x27;Mazda Connected Services&#x27;, &#x27;Electronic Roll Mitigation&#x27;, &#x27;Lexus Safety System+ 3.5&#x27;, &#x27;StabiliTrak Electronic Stability Control&#x27;, &#x27;City Safety Collision Avoidance Technology&#x27;, &#x27;Multi-View Rear Camera&#x27;, &#x27;RearView Monitor&#x27;, &#x27;Hill Start Assist Control&#x27;, &#x27;Traction Control&#x27;, &#x27;ParkView Rear Back-Up Camera&#x27;, &#x27;Audi Pre Sense Basic&#x27;, &#x27;Forward Collision Warning&#x27;, &#x27;Forward Collision Avoidance-Assist with Pedestrian Detection&#x27;, &#x27;Rear View Camera&#x27;, &#x27;Electronic Stability Control&#x27;, &#x27;Audi Pre Sense City&#x27;, &#x27;Toyota Safety Sense 2.5+&#x27;, &#x27;Intelligent Forward Collision Warning&#x27;, &#x27;Rearview Camera&#x27;, &#x27;Blind Spot Monitoring&#x27;, &#x27;StabiliTrak&#x27;, &#x27;Rear Automatic Braking&#x27;, &#x27;ABS&#x27;, &#x27;Performance Traction Management&#x27;, &#x27;Rear Cross Traffic Alert&#x27;, &#x27;Nissan Safety Shield 360&#x27;, &#x27;Honda Sensing&#x27;, &#x27;Audi Side Assist&#x27;, &#x27;Road Departure Mitigation&#x27;, &#x27;Lane Departure Warning&#x27;, &#x27;AcuraWatch&#x27;, &#x27;AdvanceTrac with RSC&#x27;, &#x27;Forward Collision Avoidance Assist&#x27;, &#x27;Active Driving Assistant&#x27;, &#x27;Collision Mitigation&#x27;, &#x27;Lane Assist&#x27;, &#x27;Push Button Start&#x27;, &#x27;Power Front Seats&#x27;, &#x27;Power Fold Third-Row Seats&#x27;, &#x27;Heated Front Seats&#x27;, &#x27;Wireless Smartphone Charging&#x27;, &#x27;Power Front Windows&#x27;, &#x27;Power Liftgate&#x27;, &#x27;Rear Occupant Alert&#x27;, &#x27;Lane Keeping Assist&#x27;, &#x27;Removable Top&#x27;, &#x27;Keyless Entry&#x27;, &quot;Power Driver&#x27;s Seat&quot;, &#x27;Third-Row Seating&#x27;, &#x27;Tri-Zone Automatic Climate Control&#x27;, &#x27;Heated and Ventilated Front Seats&#x27;, &#x27;Ambient Lighting&#x27;, &#x27;Bluetooth Connectivity&#x27;, &#x27;Dual-Zone Climate Control&#x27;, &#x27;Panoramic Sunroof&#x27;, &#x27;Tri-Zone Climate Control&#x27;, &#x27;Sunroof&#x27;, &#x27;Power Mirrors&#x27;, &#x27;Leather Seats&#x27;, &#x27;Cloth Seats&#x27;, &#x27;Bose Audio System&#x27;, &#x27;Power Rear Window&#x27;, &#x27;Power Windows&#x27;, &#x27;Panoramic Moonroof&#x27;, &#x27;Dual-Zone Automatic Climate Control&#x27;, &#x27;Removable Doors&#x27;, &#x27;Power Tailgate&#x27;, &#x27;Keyless Access&#x27;, &#x27;tow hooks&#x27;, &#x27;tow hitch&#x27;, &#x27;off-road suspension&#x27;, &#x27;dual exhaust&#x27;, &#x27;power sunroof&#x27;, &#x27;17-inch alloy wheels&#x27;, &#x27;led headlights&#x27;, &#x27;19-inch alloy wheels&#x27;, &#x27;20-inch alloy wheels&#x27;, &#x27;power liftgate&#x27;, &#x27;22-inch alloy wheels&#x27;, &#x27;18-inch alloy wheels&#x27;, &#x27;sunroof&#x27;, &#x27;dual power sliding doors&#x27;, &#x27;16-inch alloy wheels&#x27;, &#x27;power sliding doors&#x27;, &#x27;led taillights&#x27;, &#x27;roof rails&#x27;, &#x27;power trunk&#x27;, &#x27;bedliner&#x27;, &#x27;deck rail system&#x27;, &#x27;removable top&#x27;, &#x27;bed liner&#x27;, &#x27;led daytime running lights&#x27;, &#x27;rear spoiler&#x27;, &#x27;panoramic sunroof&#x27;, &#x27;alloy wheels&#x27;]</pre></div></div></div><div class=\"sk-serial\"><div class=\"sk-item\"><div class=\"sk-serial\"><div class=\"sk-item\"><div class=\"sk-estimator sk-toggleable\"><input class=\"sk-toggleable__control sk-hidden--visually\" id=\"5e09f808-ede7-4e50-b2b8-68d3b0cb0238\" type=\"checkbox\" ><label for=\"5e09f808-ede7-4e50-b2b8-68d3b0cb0238\" class=\"sk-toggleable__label sk-toggleable__label-arrow\">SimpleImputer</label><div class=\"sk-toggleable__content\"><pre>SimpleImputer()</pre></div></div></div><div class=\"sk-item\"><div class=\"sk-estimator sk-toggleable\"><input class=\"sk-toggleable__control sk-hidden--visually\" id=\"1a4d3a99-bedb-452b-a654-24a9d02fad24\" type=\"checkbox\" ><label for=\"1a4d3a99-bedb-452b-a654-24a9d02fad24\" class=\"sk-toggleable__label sk-toggleable__label-arrow\">StandardScaler</label><div class=\"sk-toggleable__content\"><pre>StandardScaler()</pre></div></div></div></div></div></div></div></div></div></div><div class=\"sk-item\"><div class=\"sk-estimator sk-toggleable\"><input class=\"sk-toggleable__control sk-hidden--visually\" id=\"baaea63f-afa3-4c74-9462-3416edd43539\" type=\"checkbox\" ><label for=\"baaea63f-afa3-4c74-9462-3416edd43539\" class=\"sk-toggleable__label sk-toggleable__label-arrow\">PCA</label><div class=\"sk-toggleable__content\"><pre>PCA()</pre></div></div></div><div class=\"sk-item\"><div class=\"sk-estimator sk-toggleable\"><input class=\"sk-toggleable__control sk-hidden--visually\" id=\"72c7acb2-854a-46f1-9bdf-399f4392d74a\" type=\"checkbox\" ><label for=\"72c7acb2-854a-46f1-9bdf-399f4392d74a\" class=\"sk-toggleable__label sk-toggleable__label-arrow\">RandomForestRegressor</label><div class=\"sk-toggleable__content\"><pre>RandomForestRegressor(max_depth=8, n_estimators=150)</pre></div></div></div></div></div></div></div>"
      ],
      "text/plain": [
       "Pipeline(steps=[('preprocessing',\n",
       "                 ColumnTransformer(transformers=[('categorical',\n",
       "                                                  Pipeline(steps=[('categorical_imputer',\n",
       "                                                                   SimpleImputer(fill_value='missing',\n",
       "                                                                                 strategy='constant')),\n",
       "                                                                  ('onehot',\n",
       "                                                                   OneHotEncoder(handle_unknown='ignore'))]),\n",
       "                                                  ['Car Make', 'Car Model',\n",
       "                                                   'Body Type', 'Fuel Type',\n",
       "                                                   'Transmission Type',\n",
       "                                                   'Acceleration (0-60 mph)',\n",
       "                                                   'Entertainment Features',\n",
       "                                                   'Customer Ra...\n",
       "                                                   'Blind Spot Warning',\n",
       "                                                   'Rear Traffic Alert',\n",
       "                                                   'Airbags', 'Parking Assist',\n",
       "                                                   'Predictive Forward '\n",
       "                                                   'Collision Warning',\n",
       "                                                   'Ford Co-Pilot360',\n",
       "                                                   'Active Distance Assist',\n",
       "                                                   'AdvanceTrac Electronic '\n",
       "                                                   'Stability Control',\n",
       "                                                   'Lexus Safety System+ 3.0',\n",
       "                                                   'Blind Spot Information '\n",
       "                                                   'System',\n",
       "                                                   'Lane Keep Assist', ...])])),\n",
       "                ('PCA', PCA()),\n",
       "                ('RF_regressor',\n",
       "                 RandomForestRegressor(max_depth=8, n_estimators=150))])"
      ]
     },
     "execution_count": 865,
     "metadata": {},
     "output_type": "execute_result"
    }
   ],
   "source": [
    "RFR_pipe.fit(xtrain, ytrain)"
   ]
  },
  {
   "cell_type": "code",
   "execution_count": null,
   "id": "71d61738",
   "metadata": {},
   "outputs": [],
   "source": []
  },
  {
   "cell_type": "code",
   "execution_count": 866,
   "id": "42579104",
   "metadata": {},
   "outputs": [],
   "source": [
    "RFR_preds = RFR_pipe.predict(xtest)"
   ]
  },
  {
   "cell_type": "code",
   "execution_count": 867,
   "id": "06be6b70",
   "metadata": {},
   "outputs": [
    {
     "data": {
      "text/plain": [
       "array([38487.43244505, 37782.34223489, 20439.03333333, 44097.91817257,\n",
       "       21981.83345543, 33979.38851241, 37268.03552309, 27479.43142441,\n",
       "       36570.53708754, 36208.09976079, 21981.83345543, 36482.62625874,\n",
       "       26182.07466737, 27525.4135835 , 54480.19017094, 27488.56950064,\n",
       "       25891.70921014, 34962.14711159, 27411.81155844, 40236.37821549,\n",
       "       37782.34223489, 36419.32104497, 34121.06261193, 27095.98739418,\n",
       "       39825.32173919, 36875.36986384, 35416.80919358, 36698.67218975,\n",
       "       37782.34223489, 25253.88138889, 27091.43526395, 28092.78162518,\n",
       "       34745.867447  , 26182.07466737, 70644.37777778, 37766.97708847,\n",
       "       32800.90270008, 21981.83345543])"
      ]
     },
     "execution_count": 867,
     "metadata": {},
     "output_type": "execute_result"
    }
   ],
   "source": [
    "RFR_preds"
   ]
  },
  {
   "cell_type": "code",
   "execution_count": null,
   "id": "4b902cf7",
   "metadata": {},
   "outputs": [],
   "source": []
  },
  {
   "cell_type": "code",
   "execution_count": 882,
   "id": "ebb66328",
   "metadata": {},
   "outputs": [
    {
     "data": {
      "text/plain": [
       "0.14280493183357335"
      ]
     },
     "execution_count": 882,
     "metadata": {},
     "output_type": "execute_result"
    }
   ],
   "source": [
    "r2_score(RFR_preds, ytest)"
   ]
  },
  {
   "cell_type": "code",
   "execution_count": null,
   "id": "b58e5c54",
   "metadata": {},
   "outputs": [],
   "source": []
  },
  {
   "cell_type": "code",
   "execution_count": null,
   "id": "f36a1824",
   "metadata": {},
   "outputs": [],
   "source": []
  },
  {
   "cell_type": "markdown",
   "id": "8def9acd",
   "metadata": {},
   "source": [
    "# comparing the predictions randomly with our original dataset's target variable which is Price"
   ]
  },
  {
   "cell_type": "code",
   "execution_count": 873,
   "id": "eabda70e",
   "metadata": {},
   "outputs": [
    {
     "data": {
      "text/plain": [
       "Car Make                         Mazda\n",
       "Car Model                       Mazda6\n",
       "Year                            2023.0\n",
       "Body Type                        Sedan\n",
       "Fuel Type                     Gasoline\n",
       "                                ...   \n",
       "bed liner                            0\n",
       "led daytime running lights           0\n",
       "rear spoiler                         0\n",
       "panoramic sunroof                    0\n",
       "alloy wheels                         1\n",
       "Name: 153, Length: 142, dtype: object"
      ]
     },
     "execution_count": 873,
     "metadata": {},
     "output_type": "execute_result"
    }
   ],
   "source": [
    "xtest.iloc[0]"
   ]
  },
  {
   "cell_type": "code",
   "execution_count": 875,
   "id": "f744d28d",
   "metadata": {},
   "outputs": [
    {
     "data": {
      "text/plain": [
       "24325.0"
      ]
     },
     "execution_count": 875,
     "metadata": {},
     "output_type": "execute_result"
    }
   ],
   "source": [
    "ytest.iloc[0]"
   ]
  },
  {
   "cell_type": "code",
   "execution_count": 885,
   "id": "c3cfd3a4",
   "metadata": {},
   "outputs": [
    {
     "data": {
      "text/plain": [
       "24325.0"
      ]
     },
     "execution_count": 885,
     "metadata": {},
     "output_type": "execute_result"
    }
   ],
   "source": [
    "new_df.loc[153]['Price ($)']"
   ]
  },
  {
   "cell_type": "code",
   "execution_count": 876,
   "id": "2ee5e52e",
   "metadata": {},
   "outputs": [
    {
     "data": {
      "text/plain": [
       "38487.43244505495"
      ]
     },
     "execution_count": 876,
     "metadata": {},
     "output_type": "execute_result"
    }
   ],
   "source": [
    "RFR_preds[0]"
   ]
  },
  {
   "cell_type": "code",
   "execution_count": null,
   "id": "c9dd20eb",
   "metadata": {},
   "outputs": [],
   "source": []
  },
  {
   "cell_type": "markdown",
   "id": "90365f56",
   "metadata": {},
   "source": [
    "# Conclusion "
   ]
  },
  {
   "cell_type": "markdown",
   "id": "79639301",
   "metadata": {},
   "source": [
    "# As it is showing that our predictions are far inaccurate as well as our scores are also not good.\n",
    "May be we do not have much data against the dimensionality we are getting after cleaning/EDA that's why we are not getting proper results."
   ]
  },
  {
   "cell_type": "code",
   "execution_count": null,
   "id": "9d02b40e",
   "metadata": {},
   "outputs": [],
   "source": []
  },
  {
   "cell_type": "code",
   "execution_count": null,
   "id": "b41c0f8e",
   "metadata": {},
   "outputs": [],
   "source": []
  },
  {
   "cell_type": "code",
   "execution_count": null,
   "id": "b0335377",
   "metadata": {},
   "outputs": [],
   "source": []
  },
  {
   "cell_type": "code",
   "execution_count": null,
   "id": "4cb9b1a7",
   "metadata": {},
   "outputs": [],
   "source": []
  },
  {
   "cell_type": "code",
   "execution_count": null,
   "id": "8275ee4f",
   "metadata": {},
   "outputs": [],
   "source": []
  },
  {
   "cell_type": "code",
   "execution_count": null,
   "id": "581f401a",
   "metadata": {},
   "outputs": [],
   "source": []
  },
  {
   "cell_type": "code",
   "execution_count": null,
   "id": "ba2d4e63",
   "metadata": {},
   "outputs": [],
   "source": []
  },
  {
   "cell_type": "code",
   "execution_count": null,
   "id": "70f35be6",
   "metadata": {},
   "outputs": [],
   "source": []
  }
 ],
 "metadata": {
  "kernelspec": {
   "display_name": "Python 3 (ipykernel)",
   "language": "python",
   "name": "python3"
  },
  "language_info": {
   "codemirror_mode": {
    "name": "ipython",
    "version": 3
   },
   "file_extension": ".py",
   "mimetype": "text/x-python",
   "name": "python",
   "nbconvert_exporter": "python",
   "pygments_lexer": "ipython3",
   "version": "3.9.13"
  }
 },
 "nbformat": 4,
 "nbformat_minor": 5
}
